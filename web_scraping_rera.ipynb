{
  "nbformat": 4,
  "nbformat_minor": 0,
  "metadata": {
    "colab": {
      "provenance": [],
      "authorship_tag": "ABX9TyMe+rHdjAArMKLCViuuS5iw",
      "include_colab_link": true
    },
    "kernelspec": {
      "name": "python3",
      "display_name": "Python 3"
    },
    "language_info": {
      "name": "python"
    }
  },
  "cells": [
    {
      "cell_type": "markdown",
      "metadata": {
        "id": "view-in-github",
        "colab_type": "text"
      },
      "source": [
        "<a href=\"https://colab.research.google.com/github/ArpitRawat07/Web-Scraping-Rera/blob/main/web_scraping_rera.ipynb\" target=\"_parent\"><img src=\"https://colab.research.google.com/assets/colab-badge.svg\" alt=\"Open In Colab\"/></a>"
      ]
    },
    {
      "cell_type": "code",
      "source": [
        "!apt-get install -y tesseract-ocr\n",
        "!pip install pytesseract pillow"
      ],
      "metadata": {
        "colab": {
          "base_uri": "https://localhost:8080/"
        },
        "id": "YlLdHtLIy-3a",
        "outputId": "e28ca28a-46b3-4526-bf5d-6a078907f09a"
      },
      "execution_count": null,
      "outputs": [
        {
          "output_type": "stream",
          "name": "stdout",
          "text": [
            "Reading package lists... Done\n",
            "Building dependency tree... Done\n",
            "Reading state information... Done\n",
            "tesseract-ocr is already the newest version (4.1.1-2.1build1).\n",
            "0 upgraded, 0 newly installed, 0 to remove and 35 not upgraded.\n",
            "Collecting pytesseract\n",
            "  Downloading pytesseract-0.3.13-py3-none-any.whl.metadata (11 kB)\n",
            "Requirement already satisfied: pillow in /usr/local/lib/python3.12/dist-packages (11.3.0)\n",
            "Requirement already satisfied: packaging>=21.3 in /usr/local/lib/python3.12/dist-packages (from pytesseract) (25.0)\n",
            "Downloading pytesseract-0.3.13-py3-none-any.whl (14 kB)\n",
            "Installing collected packages: pytesseract\n",
            "Successfully installed pytesseract-0.3.13\n"
          ]
        }
      ]
    },
    {
      "cell_type": "code",
      "source": [
        "!pip install playwright\n",
        "!playwright install chromium"
      ],
      "metadata": {
        "colab": {
          "base_uri": "https://localhost:8080/"
        },
        "id": "a-QKbXu7ypHC",
        "outputId": "56a4f2f2-746d-42b4-a395-0899a498f0f1"
      },
      "execution_count": null,
      "outputs": [
        {
          "output_type": "stream",
          "name": "stdout",
          "text": [
            "Collecting playwright\n",
            "  Downloading playwright-1.55.0-py3-none-manylinux1_x86_64.whl.metadata (3.5 kB)\n",
            "Collecting pyee<14,>=13 (from playwright)\n",
            "  Downloading pyee-13.0.0-py3-none-any.whl.metadata (2.9 kB)\n",
            "Requirement already satisfied: greenlet<4.0.0,>=3.1.1 in /usr/local/lib/python3.12/dist-packages (from playwright) (3.2.4)\n",
            "Requirement already satisfied: typing-extensions in /usr/local/lib/python3.12/dist-packages (from pyee<14,>=13->playwright) (4.15.0)\n",
            "Downloading playwright-1.55.0-py3-none-manylinux1_x86_64.whl (45.9 MB)\n",
            "\u001b[2K   \u001b[90m━━━━━━━━━━━━━━━━━━━━━━━━━━━━━━━━━━━━━━━━\u001b[0m \u001b[32m45.9/45.9 MB\u001b[0m \u001b[31m19.1 MB/s\u001b[0m eta \u001b[36m0:00:00\u001b[0m\n",
            "\u001b[?25hDownloading pyee-13.0.0-py3-none-any.whl (15 kB)\n",
            "Installing collected packages: pyee, playwright\n",
            "Successfully installed playwright-1.55.0 pyee-13.0.0\n",
            "Downloading Chromium 140.0.7339.16 (playwright build v1187)\u001b[2m from https://cdn.playwright.dev/dbazure/download/playwright/builds/chromium/1187/chromium-linux.zip\u001b[22m\n",
            "\u001b[1G173.7 MiB [] 0% 132.2s\u001b[0K\u001b[1G173.7 MiB [] 0% 50.3s\u001b[0K\u001b[1G173.7 MiB [] 0% 23.6s\u001b[0K\u001b[1G173.7 MiB [] 0% 14.4s\u001b[0K\u001b[1G173.7 MiB [] 0% 7.6s\u001b[0K\u001b[1G173.7 MiB [] 1% 5.1s\u001b[0K\u001b[1G173.7 MiB [] 2% 4.0s\u001b[0K\u001b[1G173.7 MiB [] 3% 3.3s\u001b[0K\u001b[1G173.7 MiB [] 4% 2.9s\u001b[0K\u001b[1G173.7 MiB [] 5% 2.7s\u001b[0K\u001b[1G173.7 MiB [] 5% 2.9s\u001b[0K\u001b[1G173.7 MiB [] 6% 2.7s\u001b[0K\u001b[1G173.7 MiB [] 7% 2.6s\u001b[0K\u001b[1G173.7 MiB [] 8% 2.4s\u001b[0K\u001b[1G173.7 MiB [] 8% 2.3s\u001b[0K\u001b[1G173.7 MiB [] 9% 2.3s\u001b[0K\u001b[1G173.7 MiB [] 10% 2.3s\u001b[0K\u001b[1G173.7 MiB [] 11% 2.1s\u001b[0K\u001b[1G173.7 MiB [] 12% 2.0s\u001b[0K\u001b[1G173.7 MiB [] 13% 2.1s\u001b[0K\u001b[1G173.7 MiB [] 14% 2.0s\u001b[0K\u001b[1G173.7 MiB [] 15% 1.9s\u001b[0K\u001b[1G173.7 MiB [] 16% 1.8s\u001b[0K\u001b[1G173.7 MiB [] 17% 1.7s\u001b[0K\u001b[1G173.7 MiB [] 19% 1.7s\u001b[0K\u001b[1G173.7 MiB [] 20% 1.6s\u001b[0K\u001b[1G173.7 MiB [] 21% 1.6s\u001b[0K\u001b[1G173.7 MiB [] 22% 1.6s\u001b[0K\u001b[1G173.7 MiB [] 23% 1.5s\u001b[0K\u001b[1G173.7 MiB [] 24% 1.5s\u001b[0K\u001b[1G173.7 MiB [] 25% 1.4s\u001b[0K\u001b[1G173.7 MiB [] 26% 1.5s\u001b[0K\u001b[1G173.7 MiB [] 27% 1.5s\u001b[0K\u001b[1G173.7 MiB [] 28% 1.4s\u001b[0K\u001b[1G173.7 MiB [] 30% 1.3s\u001b[0K\u001b[1G173.7 MiB [] 31% 1.3s\u001b[0K\u001b[1G173.7 MiB [] 32% 1.2s\u001b[0K\u001b[1G173.7 MiB [] 34% 1.2s\u001b[0K\u001b[1G173.7 MiB [] 35% 1.1s\u001b[0K\u001b[1G173.7 MiB [] 37% 1.1s\u001b[0K\u001b[1G173.7 MiB [] 38% 1.1s\u001b[0K\u001b[1G173.7 MiB [] 40% 1.0s\u001b[0K\u001b[1G173.7 MiB [] 41% 1.0s\u001b[0K\u001b[1G173.7 MiB [] 42% 1.0s\u001b[0K\u001b[1G173.7 MiB [] 44% 0.9s\u001b[0K\u001b[1G173.7 MiB [] 45% 0.9s\u001b[0K\u001b[1G173.7 MiB [] 46% 0.9s\u001b[0K\u001b[1G173.7 MiB [] 47% 0.9s\u001b[0K\u001b[1G173.7 MiB [] 48% 0.9s\u001b[0K\u001b[1G173.7 MiB [] 49% 0.9s\u001b[0K\u001b[1G173.7 MiB [] 50% 0.8s\u001b[0K\u001b[1G173.7 MiB [] 51% 0.8s\u001b[0K\u001b[1G173.7 MiB [] 53% 0.8s\u001b[0K\u001b[1G173.7 MiB [] 54% 0.7s\u001b[0K\u001b[1G173.7 MiB [] 56% 0.7s\u001b[0K\u001b[1G173.7 MiB [] 58% 0.7s\u001b[0K\u001b[1G173.7 MiB [] 59% 0.7s\u001b[0K\u001b[1G173.7 MiB [] 60% 0.6s\u001b[0K\u001b[1G173.7 MiB [] 61% 0.6s\u001b[0K\u001b[1G173.7 MiB [] 63% 0.6s\u001b[0K\u001b[1G173.7 MiB [] 64% 0.6s\u001b[0K\u001b[1G173.7 MiB [] 65% 0.5s\u001b[0K\u001b[1G173.7 MiB [] 66% 0.5s\u001b[0K\u001b[1G173.7 MiB [] 67% 0.5s\u001b[0K\u001b[1G173.7 MiB [] 68% 0.5s\u001b[0K\u001b[1G173.7 MiB [] 69% 0.5s\u001b[0K\u001b[1G173.7 MiB [] 71% 0.4s\u001b[0K\u001b[1G173.7 MiB [] 73% 0.4s\u001b[0K\u001b[1G173.7 MiB [] 74% 0.4s\u001b[0K\u001b[1G173.7 MiB [] 75% 0.4s\u001b[0K\u001b[1G173.7 MiB [] 76% 0.4s\u001b[0K\u001b[1G173.7 MiB [] 77% 0.3s\u001b[0K\u001b[1G173.7 MiB [] 78% 0.3s\u001b[0K\u001b[1G173.7 MiB [] 79% 0.3s\u001b[0K\u001b[1G173.7 MiB [] 80% 0.3s\u001b[0K\u001b[1G173.7 MiB [] 82% 0.3s\u001b[0K\u001b[1G173.7 MiB [] 83% 0.2s\u001b[0K\u001b[1G173.7 MiB [] 85% 0.2s\u001b[0K\u001b[1G173.7 MiB [] 86% 0.2s\u001b[0K\u001b[1G173.7 MiB [] 87% 0.2s\u001b[0K\u001b[1G173.7 MiB [] 88% 0.2s\u001b[0K\u001b[1G173.7 MiB [] 89% 0.2s\u001b[0K\u001b[1G173.7 MiB [] 90% 0.1s\u001b[0K\u001b[1G173.7 MiB [] 91% 0.1s\u001b[0K\u001b[1G173.7 MiB [] 92% 0.1s\u001b[0K\u001b[1G173.7 MiB [] 93% 0.1s\u001b[0K\u001b[1G173.7 MiB [] 94% 0.1s\u001b[0K\u001b[1G173.7 MiB [] 95% 0.1s\u001b[0K\u001b[1G173.7 MiB [] 96% 0.1s\u001b[0K\u001b[1G173.7 MiB [] 97% 0.0s\u001b[0K\u001b[1G173.7 MiB [] 98% 0.0s\u001b[0K\u001b[1G173.7 MiB [] 99% 0.0s\u001b[0K\u001b[1G173.7 MiB [] 100% 0.0s\u001b[0K\n",
            "Chromium 140.0.7339.16 (playwright build v1187) downloaded to /root/.cache/ms-playwright/chromium-1187\n",
            "Downloading FFMPEG playwright build v1011\u001b[2m from https://cdn.playwright.dev/dbazure/download/playwright/builds/ffmpeg/1011/ffmpeg-linux.zip\u001b[22m\n",
            "\u001b[1G2.3 MiB [] 0% 0.0s\u001b[0K\u001b[1G2.3 MiB [] 2% 0.7s\u001b[0K\u001b[1G2.3 MiB [] 10% 0.3s\u001b[0K\u001b[1G2.3 MiB [] 26% 0.1s\u001b[0K\u001b[1G2.3 MiB [] 68% 0.0s\u001b[0K\u001b[1G2.3 MiB [] 100% 0.0s\u001b[0K\n",
            "FFMPEG playwright build v1011 downloaded to /root/.cache/ms-playwright/ffmpeg-1011\n",
            "Downloading Chromium Headless Shell 140.0.7339.16 (playwright build v1187)\u001b[2m from https://cdn.playwright.dev/dbazure/download/playwright/builds/chromium/1187/chromium-headless-shell-linux.zip\u001b[22m\n",
            "\u001b[1G104.3 MiB [] 0% 0.0s\u001b[0K\u001b[1G104.3 MiB [] 0% 35.3s\u001b[0K\u001b[1G104.3 MiB [] 0% 15.1s\u001b[0K\u001b[1G104.3 MiB [] 0% 9.2s\u001b[0K\u001b[1G104.3 MiB [] 1% 5.0s\u001b[0K\u001b[1G104.3 MiB [] 2% 3.1s\u001b[0K\u001b[1G104.3 MiB [] 3% 3.3s\u001b[0K\u001b[1G104.3 MiB [] 3% 3.0s\u001b[0K\u001b[1G104.3 MiB [] 4% 2.6s\u001b[0K\u001b[1G104.3 MiB [] 5% 2.9s\u001b[0K\u001b[1G104.3 MiB [] 6% 2.8s\u001b[0K\u001b[1G104.3 MiB [] 7% 2.7s\u001b[0K\u001b[1G104.3 MiB [] 7% 2.6s\u001b[0K\u001b[1G104.3 MiB [] 8% 2.8s\u001b[0K\u001b[1G104.3 MiB [] 8% 2.7s\u001b[0K\u001b[1G104.3 MiB [] 8% 2.8s\u001b[0K\u001b[1G104.3 MiB [] 9% 3.0s\u001b[0K\u001b[1G104.3 MiB [] 9% 3.2s\u001b[0K\u001b[1G104.3 MiB [] 9% 3.0s\u001b[0K\u001b[1G104.3 MiB [] 10% 2.9s\u001b[0K\u001b[1G104.3 MiB [] 12% 2.7s\u001b[0K\u001b[1G104.3 MiB [] 14% 2.3s\u001b[0K\u001b[1G104.3 MiB [] 15% 2.3s\u001b[0K\u001b[1G104.3 MiB [] 16% 2.2s\u001b[0K\u001b[1G104.3 MiB [] 17% 2.0s\u001b[0K\u001b[1G104.3 MiB [] 19% 1.8s\u001b[0K\u001b[1G104.3 MiB [] 21% 1.7s\u001b[0K\u001b[1G104.3 MiB [] 23% 1.6s\u001b[0K\u001b[1G104.3 MiB [] 25% 1.5s\u001b[0K\u001b[1G104.3 MiB [] 27% 1.4s\u001b[0K\u001b[1G104.3 MiB [] 29% 1.3s\u001b[0K\u001b[1G104.3 MiB [] 31% 1.2s\u001b[0K\u001b[1G104.3 MiB [] 32% 1.2s\u001b[0K\u001b[1G104.3 MiB [] 33% 1.1s\u001b[0K\u001b[1G104.3 MiB [] 34% 1.1s\u001b[0K\u001b[1G104.3 MiB [] 35% 1.1s\u001b[0K\u001b[1G104.3 MiB [] 36% 1.1s\u001b[0K\u001b[1G104.3 MiB [] 38% 1.0s\u001b[0K\u001b[1G104.3 MiB [] 39% 1.0s\u001b[0K\u001b[1G104.3 MiB [] 40% 1.0s\u001b[0K\u001b[1G104.3 MiB [] 41% 1.0s\u001b[0K\u001b[1G104.3 MiB [] 43% 0.9s\u001b[0K\u001b[1G104.3 MiB [] 44% 0.9s\u001b[0K\u001b[1G104.3 MiB [] 45% 0.9s\u001b[0K\u001b[1G104.3 MiB [] 46% 0.9s\u001b[0K\u001b[1G104.3 MiB [] 47% 0.9s\u001b[0K\u001b[1G104.3 MiB [] 48% 0.9s\u001b[0K\u001b[1G104.3 MiB [] 50% 0.8s\u001b[0K\u001b[1G104.3 MiB [] 51% 0.8s\u001b[0K\u001b[1G104.3 MiB [] 53% 0.8s\u001b[0K\u001b[1G104.3 MiB [] 55% 0.7s\u001b[0K\u001b[1G104.3 MiB [] 56% 0.7s\u001b[0K\u001b[1G104.3 MiB [] 57% 0.7s\u001b[0K\u001b[1G104.3 MiB [] 58% 0.7s\u001b[0K\u001b[1G104.3 MiB [] 59% 0.7s\u001b[0K\u001b[1G104.3 MiB [] 60% 0.6s\u001b[0K\u001b[1G104.3 MiB [] 61% 0.6s\u001b[0K\u001b[1G104.3 MiB [] 62% 0.6s\u001b[0K\u001b[1G104.3 MiB [] 63% 0.6s\u001b[0K\u001b[1G104.3 MiB [] 65% 0.6s\u001b[0K\u001b[1G104.3 MiB [] 66% 0.5s\u001b[0K\u001b[1G104.3 MiB [] 67% 0.5s\u001b[0K\u001b[1G104.3 MiB [] 68% 0.5s\u001b[0K\u001b[1G104.3 MiB [] 69% 0.5s\u001b[0K\u001b[1G104.3 MiB [] 70% 0.5s\u001b[0K\u001b[1G104.3 MiB [] 71% 0.5s\u001b[0K\u001b[1G104.3 MiB [] 72% 0.5s\u001b[0K\u001b[1G104.3 MiB [] 73% 0.4s\u001b[0K\u001b[1G104.3 MiB [] 74% 0.4s\u001b[0K\u001b[1G104.3 MiB [] 75% 0.4s\u001b[0K\u001b[1G104.3 MiB [] 77% 0.4s\u001b[0K\u001b[1G104.3 MiB [] 78% 0.3s\u001b[0K\u001b[1G104.3 MiB [] 79% 0.3s\u001b[0K\u001b[1G104.3 MiB [] 80% 0.3s\u001b[0K\u001b[1G104.3 MiB [] 81% 0.3s\u001b[0K\u001b[1G104.3 MiB [] 82% 0.3s\u001b[0K\u001b[1G104.3 MiB [] 83% 0.3s\u001b[0K\u001b[1G104.3 MiB [] 84% 0.3s\u001b[0K\u001b[1G104.3 MiB [] 86% 0.2s\u001b[0K\u001b[1G104.3 MiB [] 87% 0.2s\u001b[0K\u001b[1G104.3 MiB [] 89% 0.2s\u001b[0K\u001b[1G104.3 MiB [] 90% 0.1s\u001b[0K\u001b[1G104.3 MiB [] 91% 0.1s\u001b[0K\u001b[1G104.3 MiB [] 93% 0.1s\u001b[0K\u001b[1G104.3 MiB [] 94% 0.1s\u001b[0K\u001b[1G104.3 MiB [] 95% 0.1s\u001b[0K\u001b[1G104.3 MiB [] 97% 0.0s\u001b[0K\u001b[1G104.3 MiB [] 98% 0.0s\u001b[0K\u001b[1G104.3 MiB [] 100% 0.0s\u001b[0K\n",
            "Chromium Headless Shell 140.0.7339.16 (playwright build v1187) downloaded to /root/.cache/ms-playwright/chromium_headless_shell-1187\n"
          ]
        }
      ]
    },
    {
      "cell_type": "code",
      "source": [
        "import csv\n",
        "import re\n",
        "import pytesseract\n",
        "from PIL import Image as PILImage\n",
        "from bs4 import BeautifulSoup\n",
        "from playwright.async_api import async_playwright\n",
        "import os"
      ],
      "metadata": {
        "id": "9cp2C4UPDlR5"
      },
      "execution_count": null,
      "outputs": []
    },
    {
      "cell_type": "markdown",
      "source": [
        "# Find all data entries in maharera"
      ],
      "metadata": {
        "id": "xqwkT6bFe90Y"
      }
    },
    {
      "cell_type": "code",
      "source": [
        "PROGRESS_FILE = \"progress.txt\"\n",
        "\n",
        "async def scrape_projects_to_csv(base_url, start_id=1, csv_filename=\"projects.csv\"):\n",
        "    # --- Resume from last progress if exists ---\n",
        "    if os.path.exists(PROGRESS_FILE):\n",
        "        with open(PROGRESS_FILE, \"r\") as f:\n",
        "            saved_id = f.read().strip()\n",
        "            if saved_id.isdigit():\n",
        "                start_id = int(saved_id)\n",
        "                print(f\"Resuming from saved Project ID: {start_id}\")\n",
        "\n",
        "    # --- Ensure CSV has header ---\n",
        "    fieldnames = [\n",
        "        \"Registration Number\", \"Date of Registration\", \"Project Status\", \"Project Name\",\n",
        "        \"Project Type\", \"Project Location\",\n",
        "        \"Proposed Completion Date (Original)\", \"Proposed Completion Date (Revised)\",\n",
        "        \"Planning Authority\", \"Full Name of Planning Authority\", \"Land Area\", \"Project Address\",\n",
        "        \"District\", \"Taluka\", \"Village\", \"Pin Code\",\n",
        "        \"Longitude\", \"Latitude\", \"Promoter Name\", \"Promoter Type\",\n",
        "        \"Promoter Address\", \"Bank IFSC Code\", \"Permissible Built-up Area\"\n",
        "    ]\n",
        "    if not os.path.exists(csv_filename):\n",
        "        with open(csv_filename, \"w\", newline=\"\", encoding=\"utf-8\") as f:\n",
        "            csv.DictWriter(f, fieldnames=fieldnames).writeheader()\n",
        "\n",
        "    async with async_playwright() as p:\n",
        "        browser = await p.chromium.launch(headless=True)\n",
        "        page = await browser.new_page()\n",
        "\n",
        "        current_id = start_id\n",
        "        while True:\n",
        "            url = f\"{base_url.rstrip('/')}/{current_id}\"\n",
        "            print(f\"\\nFetching: {url}\")\n",
        "            await page.goto(url, timeout=60000)\n",
        "\n",
        "            # --- Stop if no project found ---\n",
        "            if \"Project details not found\" in await page.content():\n",
        "                print(f\"Stopped at {current_id}: No more project details found.\")\n",
        "                break\n",
        "\n",
        "            # --- Solve captcha with up to 3 retries ---\n",
        "            success = False\n",
        "            for attempt in range(3):\n",
        "                try:\n",
        "                    await page.wait_for_selector(\"canvas#captcahCanvas\", timeout=15000)\n",
        "                except:\n",
        "                    print(\"Captcha canvas not found, skipping this ID.\")\n",
        "                    break\n",
        "\n",
        "                # Screenshot canvas\n",
        "                canvas = await page.query_selector(\"canvas#captcahCanvas\")\n",
        "                await canvas.screenshot(path=\"canvas.png\")\n",
        "\n",
        "                # OCR\n",
        "                image = PILImage.open(\"canvas.png\")\n",
        "                raw_text = pytesseract.image_to_string(image, config='--psm 6')\n",
        "                alnum_text = ''.join(re.findall(r'[A-Za-z0-9]', raw_text))\n",
        "                print(f\"Captcha OCR (try {attempt+1}):\", alnum_text)\n",
        "\n",
        "                # Fill captcha and submit\n",
        "                await page.locator('input[name=\"captcha\"]').fill(alnum_text)\n",
        "                await page.get_by_role(\"button\", name=\"Submit\").click()\n",
        "                await page.wait_for_timeout(3000)\n",
        "\n",
        "                # If error popup appears\n",
        "                if await page.get_by_role(\"button\", name=\"Ok\").is_visible():\n",
        "                    print(\"Invalid captcha, retrying...\")\n",
        "                    await page.get_by_role(\"button\", name=\"Ok\").click()\n",
        "                    await page.wait_for_timeout(1000)\n",
        "                    continue  # Try again\n",
        "\n",
        "                success = True\n",
        "                break\n",
        "\n",
        "            if not success:\n",
        "                print(f\"Skipping project {current_id} due to repeated captcha failures.\")\n",
        "                current_id += 1\n",
        "                continue\n",
        "\n",
        "            # --- Extract project details ---\n",
        "            html = await page.content()\n",
        "            soup = BeautifulSoup(html, 'html.parser')\n",
        "\n",
        "            def get_text_after(label):\n",
        "                el = soup.find(text=re.compile(label, re.I))\n",
        "                if el and el.find_next():\n",
        "                    return el.find_next().get_text(strip=True)\n",
        "                return None\n",
        "\n",
        "            def get_value_after_label(label_text):\n",
        "                label_div = soup.find(\"div\", string=re.compile(label_text, re.I))\n",
        "                if label_div:\n",
        "                    value_div = label_div.find_next_sibling(\"div\")\n",
        "                    if value_div:\n",
        "                        return value_div.get_text(strip=True)\n",
        "                return None\n",
        "\n",
        "            project_details = {\n",
        "                \"Registration Number\": get_text_after(\"Registration Number\"),\n",
        "                \"Date of Registration\": get_text_after(\"Date of Registration\"),\n",
        "                \"Project Status\": get_text_after(\"Project Status\"),\n",
        "                \"Project Name\": get_text_after(\"Project Name\"),\n",
        "                \"Project Type\": get_text_after(\"Project Type\"),\n",
        "                \"Project Location\": get_text_after(\"Project Location\"),\n",
        "                \"Proposed Completion Date (Original)\": get_value_after_label(r\"Proposed Completion Date \\(Original\\)\"),\n",
        "                \"Proposed Completion Date (Revised)\": get_value_after_label(r\"Proposed Completion Date \\(Revised\\)\"),\n",
        "                \"Planning Authority\": get_text_after(\"Planning Authority\"),\n",
        "                \"Full Name of Planning Authority\": get_text_after(\"Full Name of the Planning Authority\"),\n",
        "                \"Land Area\": get_text_after(\"Total Land Area of Approved Layout\"),\n",
        "                \"Project Address\": get_text_after(\"Address\"),\n",
        "                \"District\": get_text_after(\"District\"),\n",
        "                \"Taluka\": get_text_after(\"Taluka\"),\n",
        "                \"Village\": get_text_after(\"Village\"),\n",
        "                \"Pin Code\": get_text_after(\"Pin Code\"),\n",
        "                \"Longitude\": get_text_after(\"Longitude\"),\n",
        "                \"Latitude\": get_text_after(\"Latitude\"),\n",
        "                \"Promoter Name\": get_text_after(\"Name of Partnership\"),\n",
        "                \"Promoter Type\": get_text_after(\"Promoter Type\"),\n",
        "                \"Promoter Address\": get_text_after(\"Promoter Official Communication Address\"),\n",
        "                \"Bank IFSC Code\": get_text_after(\"IFSC Code\"),\n",
        "            }\n",
        "\n",
        "            # --- Append to CSV ---\n",
        "            with open(csv_filename, \"a\", newline=\"\", encoding=\"utf-8\") as f:\n",
        "                csv.DictWriter(f, fieldnames=fieldnames).writerow(project_details)\n",
        "\n",
        "            # --- Save progress ---\n",
        "            with open(PROGRESS_FILE, \"w\") as f:\n",
        "                f.write(str(current_id + 1))\n",
        "\n",
        "            print(f\"✓ Saved Project ID {current_id}\")\n",
        "            current_id += 1\n",
        "\n",
        "        await browser.close()\n",
        "\n",
        "    print(\"Scraping finished.\")"
      ],
      "metadata": {
        "id": "PyGqcJn8DjJr",
        "collapsed": true
      },
      "execution_count": null,
      "outputs": []
    },
    {
      "cell_type": "code",
      "source": [
        "await scrape_projects_to_csv(\n",
        "    base_url=\"https://maharerait.maharashtra.gov.in/public/project/view\",\n",
        "    start_id=1,\n",
        "    csv_filename=\"maharera_projects.csv\"\n",
        ")\n"
      ],
      "metadata": {
        "colab": {
          "base_uri": "https://localhost:8080/",
          "height": 1000
        },
        "id": "DG4AZkOMDngI",
        "outputId": "cb00fbc6-e643-41bc-d880-169d9d3d2d2d",
        "collapsed": true
      },
      "execution_count": null,
      "outputs": [
        {
          "output_type": "stream",
          "name": "stdout",
          "text": [
            "Resuming from saved Project ID: 11\n",
            "\n",
            "Fetching: https://maharerait.maharashtra.gov.in/public/project/view/11\n",
            "Captcha OCR (try 1): 4BFLI2\n",
            "Invalid captcha, retrying...\n",
            "Captcha canvas not found, skipping this ID.\n",
            "Skipping project 11 due to repeated captcha failures.\n",
            "\n",
            "Fetching: https://maharerait.maharashtra.gov.in/public/project/view/12\n",
            "Captcha OCR (try 1): CLOF7M\n",
            "Invalid captcha, retrying...\n",
            "Captcha OCR (try 2): HFA24G\n"
          ]
        },
        {
          "output_type": "stream",
          "name": "stderr",
          "text": [
            "/tmp/ipython-input-3615969914.py:85: DeprecationWarning: The 'text' argument to find()-type methods is deprecated. Use 'string' instead.\n",
            "  el = soup.find(text=re.compile(label, re.I))\n"
          ]
        },
        {
          "output_type": "stream",
          "name": "stdout",
          "text": [
            "✓ Saved Project ID 12\n",
            "\n",
            "Fetching: https://maharerait.maharashtra.gov.in/public/project/view/13\n",
            "Captcha OCR (try 1): BBEG6G0K\n",
            "Invalid captcha, retrying...\n",
            "Captcha OCR (try 2): BDOMLH\n",
            "Invalid captcha, retrying...\n",
            "Captcha OCR (try 3): 3M11CB\n"
          ]
        },
        {
          "output_type": "stream",
          "name": "stderr",
          "text": [
            "/tmp/ipython-input-3615969914.py:85: DeprecationWarning: The 'text' argument to find()-type methods is deprecated. Use 'string' instead.\n",
            "  el = soup.find(text=re.compile(label, re.I))\n"
          ]
        },
        {
          "output_type": "stream",
          "name": "stdout",
          "text": [
            "✓ Saved Project ID 13\n",
            "\n",
            "Fetching: https://maharerait.maharashtra.gov.in/public/project/view/14\n",
            "Captcha OCR (try 1): cikDsl\n",
            "Invalid captcha, retrying...\n",
            "Captcha OCR (try 2): L63102\n"
          ]
        },
        {
          "output_type": "stream",
          "name": "stderr",
          "text": [
            "/tmp/ipython-input-3615969914.py:85: DeprecationWarning: The 'text' argument to find()-type methods is deprecated. Use 'string' instead.\n",
            "  el = soup.find(text=re.compile(label, re.I))\n"
          ]
        },
        {
          "output_type": "stream",
          "name": "stdout",
          "text": [
            "✓ Saved Project ID 14\n",
            "\n",
            "Fetching: https://maharerait.maharashtra.gov.in/public/project/view/15\n",
            "Captcha OCR (try 1): 6NB498\n"
          ]
        },
        {
          "output_type": "stream",
          "name": "stderr",
          "text": [
            "/tmp/ipython-input-3615969914.py:85: DeprecationWarning: The 'text' argument to find()-type methods is deprecated. Use 'string' instead.\n",
            "  el = soup.find(text=re.compile(label, re.I))\n"
          ]
        },
        {
          "output_type": "stream",
          "name": "stdout",
          "text": [
            "✓ Saved Project ID 15\n",
            "\n",
            "Fetching: https://maharerait.maharashtra.gov.in/public/project/view/16\n",
            "Captcha OCR (try 1): 1IKFBB\n"
          ]
        },
        {
          "output_type": "stream",
          "name": "stderr",
          "text": [
            "/tmp/ipython-input-3615969914.py:85: DeprecationWarning: The 'text' argument to find()-type methods is deprecated. Use 'string' instead.\n",
            "  el = soup.find(text=re.compile(label, re.I))\n"
          ]
        },
        {
          "output_type": "stream",
          "name": "stdout",
          "text": [
            "✓ Saved Project ID 16\n",
            "\n",
            "Fetching: https://maharerait.maharashtra.gov.in/public/project/view/17\n",
            "Captcha OCR (try 1): NIDLGN\n",
            "Invalid captcha, retrying...\n",
            "Captcha OCR (try 2): I6LFL2\n"
          ]
        },
        {
          "output_type": "stream",
          "name": "stderr",
          "text": [
            "/tmp/ipython-input-3615969914.py:85: DeprecationWarning: The 'text' argument to find()-type methods is deprecated. Use 'string' instead.\n",
            "  el = soup.find(text=re.compile(label, re.I))\n"
          ]
        },
        {
          "output_type": "stream",
          "name": "stdout",
          "text": [
            "✓ Saved Project ID 17\n",
            "\n",
            "Fetching: https://maharerait.maharashtra.gov.in/public/project/view/18\n",
            "Captcha OCR (try 1): BM3E5A\n"
          ]
        },
        {
          "output_type": "stream",
          "name": "stderr",
          "text": [
            "/tmp/ipython-input-3615969914.py:85: DeprecationWarning: The 'text' argument to find()-type methods is deprecated. Use 'string' instead.\n",
            "  el = soup.find(text=re.compile(label, re.I))\n"
          ]
        },
        {
          "output_type": "stream",
          "name": "stdout",
          "text": [
            "✓ Saved Project ID 18\n",
            "\n",
            "Fetching: https://maharerait.maharashtra.gov.in/public/project/view/19\n",
            "Captcha OCR (try 1): 61I9MDO\n",
            "Invalid captcha, retrying...\n",
            "Captcha OCR (try 2): 33B313\n"
          ]
        },
        {
          "output_type": "stream",
          "name": "stderr",
          "text": [
            "/tmp/ipython-input-3615969914.py:85: DeprecationWarning: The 'text' argument to find()-type methods is deprecated. Use 'string' instead.\n",
            "  el = soup.find(text=re.compile(label, re.I))\n"
          ]
        },
        {
          "output_type": "stream",
          "name": "stdout",
          "text": [
            "✓ Saved Project ID 19\n",
            "\n",
            "Fetching: https://maharerait.maharashtra.gov.in/public/project/view/20\n",
            "Captcha OCR (try 1): GC66JH\n"
          ]
        },
        {
          "output_type": "stream",
          "name": "stderr",
          "text": [
            "/tmp/ipython-input-3615969914.py:85: DeprecationWarning: The 'text' argument to find()-type methods is deprecated. Use 'string' instead.\n",
            "  el = soup.find(text=re.compile(label, re.I))\n"
          ]
        },
        {
          "output_type": "stream",
          "name": "stdout",
          "text": [
            "✓ Saved Project ID 20\n",
            "\n",
            "Fetching: https://maharerait.maharashtra.gov.in/public/project/view/21\n",
            "Captcha OCR (try 1): 52LM58\n"
          ]
        },
        {
          "output_type": "stream",
          "name": "stderr",
          "text": [
            "/tmp/ipython-input-3615969914.py:85: DeprecationWarning: The 'text' argument to find()-type methods is deprecated. Use 'string' instead.\n",
            "  el = soup.find(text=re.compile(label, re.I))\n"
          ]
        },
        {
          "output_type": "stream",
          "name": "stdout",
          "text": [
            "✓ Saved Project ID 21\n",
            "\n",
            "Fetching: https://maharerait.maharashtra.gov.in/public/project/view/22\n",
            "Captcha OCR (try 1): 301F0F\n"
          ]
        },
        {
          "output_type": "stream",
          "name": "stderr",
          "text": [
            "/tmp/ipython-input-3615969914.py:85: DeprecationWarning: The 'text' argument to find()-type methods is deprecated. Use 'string' instead.\n",
            "  el = soup.find(text=re.compile(label, re.I))\n"
          ]
        },
        {
          "output_type": "stream",
          "name": "stdout",
          "text": [
            "✓ Saved Project ID 22\n",
            "\n",
            "Fetching: https://maharerait.maharashtra.gov.in/public/project/view/23\n",
            "Captcha OCR (try 1): AJ3G5H\n"
          ]
        },
        {
          "output_type": "stream",
          "name": "stderr",
          "text": [
            "/tmp/ipython-input-3615969914.py:85: DeprecationWarning: The 'text' argument to find()-type methods is deprecated. Use 'string' instead.\n",
            "  el = soup.find(text=re.compile(label, re.I))\n"
          ]
        },
        {
          "output_type": "stream",
          "name": "stdout",
          "text": [
            "✓ Saved Project ID 23\n",
            "\n",
            "Fetching: https://maharerait.maharashtra.gov.in/public/project/view/24\n",
            "Captcha OCR (try 1): BFHC95\n"
          ]
        },
        {
          "output_type": "stream",
          "name": "stderr",
          "text": [
            "/tmp/ipython-input-3615969914.py:85: DeprecationWarning: The 'text' argument to find()-type methods is deprecated. Use 'string' instead.\n",
            "  el = soup.find(text=re.compile(label, re.I))\n"
          ]
        },
        {
          "output_type": "stream",
          "name": "stdout",
          "text": [
            "✓ Saved Project ID 24\n",
            "\n",
            "Fetching: https://maharerait.maharashtra.gov.in/public/project/view/25\n",
            "Captcha OCR (try 1): LL4AML\n"
          ]
        },
        {
          "output_type": "stream",
          "name": "stderr",
          "text": [
            "/tmp/ipython-input-3615969914.py:85: DeprecationWarning: The 'text' argument to find()-type methods is deprecated. Use 'string' instead.\n",
            "  el = soup.find(text=re.compile(label, re.I))\n"
          ]
        },
        {
          "output_type": "stream",
          "name": "stdout",
          "text": [
            "✓ Saved Project ID 25\n",
            "\n",
            "Fetching: https://maharerait.maharashtra.gov.in/public/project/view/26\n",
            "Captcha OCR (try 1): 4G3090\n"
          ]
        },
        {
          "output_type": "stream",
          "name": "stderr",
          "text": [
            "/tmp/ipython-input-3615969914.py:85: DeprecationWarning: The 'text' argument to find()-type methods is deprecated. Use 'string' instead.\n",
            "  el = soup.find(text=re.compile(label, re.I))\n"
          ]
        },
        {
          "output_type": "stream",
          "name": "stdout",
          "text": [
            "✓ Saved Project ID 26\n",
            "\n",
            "Fetching: https://maharerait.maharashtra.gov.in/public/project/view/27\n",
            "Captcha OCR (try 1): BC1IDAD\n",
            "Invalid captcha, retrying...\n",
            "Captcha OCR (try 2): LDGE8I\n"
          ]
        },
        {
          "output_type": "stream",
          "name": "stderr",
          "text": [
            "/tmp/ipython-input-3615969914.py:85: DeprecationWarning: The 'text' argument to find()-type methods is deprecated. Use 'string' instead.\n",
            "  el = soup.find(text=re.compile(label, re.I))\n"
          ]
        },
        {
          "output_type": "stream",
          "name": "stdout",
          "text": [
            "✓ Saved Project ID 27\n",
            "\n",
            "Fetching: https://maharerait.maharashtra.gov.in/public/project/view/28\n",
            "Captcha OCR (try 1): HKM7BA\n"
          ]
        },
        {
          "output_type": "stream",
          "name": "stderr",
          "text": [
            "/tmp/ipython-input-3615969914.py:85: DeprecationWarning: The 'text' argument to find()-type methods is deprecated. Use 'string' instead.\n",
            "  el = soup.find(text=re.compile(label, re.I))\n"
          ]
        },
        {
          "output_type": "stream",
          "name": "stdout",
          "text": [
            "✓ Saved Project ID 28\n",
            "\n",
            "Fetching: https://maharerait.maharashtra.gov.in/public/project/view/29\n",
            "Captcha OCR (try 1): GL7756\n"
          ]
        },
        {
          "output_type": "stream",
          "name": "stderr",
          "text": [
            "/tmp/ipython-input-3615969914.py:85: DeprecationWarning: The 'text' argument to find()-type methods is deprecated. Use 'string' instead.\n",
            "  el = soup.find(text=re.compile(label, re.I))\n"
          ]
        },
        {
          "output_type": "stream",
          "name": "stdout",
          "text": [
            "✓ Saved Project ID 29\n",
            "\n",
            "Fetching: https://maharerait.maharashtra.gov.in/public/project/view/30\n",
            "Captcha OCR (try 1): AEKMDF\n"
          ]
        },
        {
          "output_type": "stream",
          "name": "stderr",
          "text": [
            "/tmp/ipython-input-3615969914.py:85: DeprecationWarning: The 'text' argument to find()-type methods is deprecated. Use 'string' instead.\n",
            "  el = soup.find(text=re.compile(label, re.I))\n"
          ]
        },
        {
          "output_type": "stream",
          "name": "stdout",
          "text": [
            "✓ Saved Project ID 30\n",
            "\n",
            "Fetching: https://maharerait.maharashtra.gov.in/public/project/view/31\n",
            "Captcha OCR (try 1): QO1E10G\n",
            "Invalid captcha, retrying...\n",
            "Captcha OCR (try 2): SHECHE\n",
            "Invalid captcha, retrying...\n",
            "Captcha OCR (try 3): 238DA6\n"
          ]
        },
        {
          "output_type": "stream",
          "name": "stderr",
          "text": [
            "/tmp/ipython-input-3615969914.py:85: DeprecationWarning: The 'text' argument to find()-type methods is deprecated. Use 'string' instead.\n",
            "  el = soup.find(text=re.compile(label, re.I))\n"
          ]
        },
        {
          "output_type": "stream",
          "name": "stdout",
          "text": [
            "✓ Saved Project ID 31\n",
            "\n",
            "Fetching: https://maharerait.maharashtra.gov.in/public/project/view/32\n",
            "Captcha OCR (try 1): 9MLJIBN\n",
            "Invalid captcha, retrying...\n",
            "Captcha OCR (try 2): 9KLMEK\n"
          ]
        },
        {
          "output_type": "stream",
          "name": "stderr",
          "text": [
            "/tmp/ipython-input-3615969914.py:85: DeprecationWarning: The 'text' argument to find()-type methods is deprecated. Use 'string' instead.\n",
            "  el = soup.find(text=re.compile(label, re.I))\n"
          ]
        },
        {
          "output_type": "stream",
          "name": "stdout",
          "text": [
            "✓ Saved Project ID 32\n",
            "\n",
            "Fetching: https://maharerait.maharashtra.gov.in/public/project/view/33\n",
            "Captcha OCR (try 1): 310CG7\n",
            "Invalid captcha, retrying...\n",
            "Captcha OCR (try 2): 99L69C\n"
          ]
        },
        {
          "output_type": "stream",
          "name": "stderr",
          "text": [
            "/tmp/ipython-input-3615969914.py:85: DeprecationWarning: The 'text' argument to find()-type methods is deprecated. Use 'string' instead.\n",
            "  el = soup.find(text=re.compile(label, re.I))\n"
          ]
        },
        {
          "output_type": "stream",
          "name": "stdout",
          "text": [
            "✓ Saved Project ID 33\n",
            "\n",
            "Fetching: https://maharerait.maharashtra.gov.in/public/project/view/34\n",
            "Captcha OCR (try 1): BKIY1AC\n",
            "Invalid captcha, retrying...\n",
            "Captcha OCR (try 2): 7BSS7A\n",
            "Invalid captcha, retrying...\n",
            "Captcha OCR (try 3): 705C9I1\n",
            "Invalid captcha, retrying...\n",
            "Skipping project 34 due to repeated captcha failures.\n",
            "\n",
            "Fetching: https://maharerait.maharashtra.gov.in/public/project/view/35\n",
            "Captcha OCR (try 1): 7HGKB9I\n",
            "Invalid captcha, retrying...\n",
            "Captcha OCR (try 2): H4D1B4\n"
          ]
        },
        {
          "output_type": "stream",
          "name": "stderr",
          "text": [
            "/tmp/ipython-input-3615969914.py:85: DeprecationWarning: The 'text' argument to find()-type methods is deprecated. Use 'string' instead.\n",
            "  el = soup.find(text=re.compile(label, re.I))\n"
          ]
        },
        {
          "output_type": "stream",
          "name": "stdout",
          "text": [
            "✓ Saved Project ID 35\n",
            "\n",
            "Fetching: https://maharerait.maharashtra.gov.in/public/project/view/36\n",
            "Captcha OCR (try 1): 940230\n",
            "Invalid captcha, retrying...\n",
            "Captcha OCR (try 2): E4MHHI\n"
          ]
        },
        {
          "output_type": "stream",
          "name": "stderr",
          "text": [
            "/tmp/ipython-input-3615969914.py:85: DeprecationWarning: The 'text' argument to find()-type methods is deprecated. Use 'string' instead.\n",
            "  el = soup.find(text=re.compile(label, re.I))\n"
          ]
        },
        {
          "output_type": "stream",
          "name": "stdout",
          "text": [
            "✓ Saved Project ID 36\n",
            "\n",
            "Fetching: https://maharerait.maharashtra.gov.in/public/project/view/37\n",
            "Captcha OCR (try 1): 3175A1\n",
            "Invalid captcha, retrying...\n",
            "Captcha OCR (try 2): S5AEGH2\n",
            "Invalid captcha, retrying...\n",
            "Captcha OCR (try 3): D2EJ47\n"
          ]
        },
        {
          "output_type": "stream",
          "name": "stderr",
          "text": [
            "/tmp/ipython-input-3615969914.py:85: DeprecationWarning: The 'text' argument to find()-type methods is deprecated. Use 'string' instead.\n",
            "  el = soup.find(text=re.compile(label, re.I))\n"
          ]
        },
        {
          "output_type": "stream",
          "name": "stdout",
          "text": [
            "✓ Saved Project ID 37\n",
            "\n",
            "Fetching: https://maharerait.maharashtra.gov.in/public/project/view/38\n",
            "Captcha OCR (try 1): DDLIIM\n"
          ]
        },
        {
          "output_type": "stream",
          "name": "stderr",
          "text": [
            "/tmp/ipython-input-3615969914.py:85: DeprecationWarning: The 'text' argument to find()-type methods is deprecated. Use 'string' instead.\n",
            "  el = soup.find(text=re.compile(label, re.I))\n"
          ]
        },
        {
          "output_type": "stream",
          "name": "stdout",
          "text": [
            "✓ Saved Project ID 38\n",
            "\n",
            "Fetching: https://maharerait.maharashtra.gov.in/public/project/view/39\n",
            "Captcha OCR (try 1): EIEKLE\n"
          ]
        },
        {
          "output_type": "stream",
          "name": "stderr",
          "text": [
            "/tmp/ipython-input-3615969914.py:85: DeprecationWarning: The 'text' argument to find()-type methods is deprecated. Use 'string' instead.\n",
            "  el = soup.find(text=re.compile(label, re.I))\n"
          ]
        },
        {
          "output_type": "stream",
          "name": "stdout",
          "text": [
            "✓ Saved Project ID 39\n",
            "\n",
            "Fetching: https://maharerait.maharashtra.gov.in/public/project/view/40\n",
            "Captcha OCR (try 1): F7C4E6\n"
          ]
        },
        {
          "output_type": "stream",
          "name": "stderr",
          "text": [
            "/tmp/ipython-input-3615969914.py:85: DeprecationWarning: The 'text' argument to find()-type methods is deprecated. Use 'string' instead.\n",
            "  el = soup.find(text=re.compile(label, re.I))\n"
          ]
        },
        {
          "output_type": "stream",
          "name": "stdout",
          "text": [
            "✓ Saved Project ID 40\n",
            "\n",
            "Fetching: https://maharerait.maharashtra.gov.in/public/project/view/41\n",
            "Captcha OCR (try 1): 7GI1JCO\n",
            "Invalid captcha, retrying...\n",
            "Captcha OCR (try 2): H1IOINJ\n",
            "Invalid captcha, retrying...\n",
            "Captcha OCR (try 3): G1AGEN\n"
          ]
        },
        {
          "output_type": "stream",
          "name": "stderr",
          "text": [
            "/tmp/ipython-input-3615969914.py:85: DeprecationWarning: The 'text' argument to find()-type methods is deprecated. Use 'string' instead.\n",
            "  el = soup.find(text=re.compile(label, re.I))\n"
          ]
        },
        {
          "output_type": "stream",
          "name": "stdout",
          "text": [
            "✓ Saved Project ID 41\n",
            "\n",
            "Fetching: https://maharerait.maharashtra.gov.in/public/project/view/42\n",
            "Captcha OCR (try 1): L3DBEI\n"
          ]
        },
        {
          "output_type": "stream",
          "name": "stderr",
          "text": [
            "/tmp/ipython-input-3615969914.py:85: DeprecationWarning: The 'text' argument to find()-type methods is deprecated. Use 'string' instead.\n",
            "  el = soup.find(text=re.compile(label, re.I))\n"
          ]
        },
        {
          "output_type": "stream",
          "name": "stdout",
          "text": [
            "✓ Saved Project ID 42\n",
            "\n",
            "Fetching: https://maharerait.maharashtra.gov.in/public/project/view/43\n",
            "Captcha OCR (try 1): FJ56HO\n",
            "Invalid captcha, retrying...\n",
            "Captcha OCR (try 2): LJG550\n"
          ]
        },
        {
          "output_type": "stream",
          "name": "stderr",
          "text": [
            "/tmp/ipython-input-3615969914.py:85: DeprecationWarning: The 'text' argument to find()-type methods is deprecated. Use 'string' instead.\n",
            "  el = soup.find(text=re.compile(label, re.I))\n"
          ]
        },
        {
          "output_type": "stream",
          "name": "stdout",
          "text": [
            "✓ Saved Project ID 43\n",
            "\n",
            "Fetching: https://maharerait.maharashtra.gov.in/public/project/view/44\n",
            "Captcha OCR (try 1): OF1120\n",
            "Invalid captcha, retrying...\n",
            "Captcha OCR (try 2): 19BHGI\n"
          ]
        },
        {
          "output_type": "stream",
          "name": "stderr",
          "text": [
            "/tmp/ipython-input-3615969914.py:85: DeprecationWarning: The 'text' argument to find()-type methods is deprecated. Use 'string' instead.\n",
            "  el = soup.find(text=re.compile(label, re.I))\n"
          ]
        },
        {
          "output_type": "stream",
          "name": "stdout",
          "text": [
            "✓ Saved Project ID 44\n",
            "\n",
            "Fetching: https://maharerait.maharashtra.gov.in/public/project/view/45\n",
            "Captcha OCR (try 1): B8LJ309\n",
            "Invalid captcha, retrying...\n",
            "Captcha OCR (try 2): 30FBLO\n",
            "Invalid captcha, retrying...\n",
            "Captcha OCR (try 3): H417G7\n"
          ]
        },
        {
          "output_type": "stream",
          "name": "stderr",
          "text": [
            "/tmp/ipython-input-3615969914.py:85: DeprecationWarning: The 'text' argument to find()-type methods is deprecated. Use 'string' instead.\n",
            "  el = soup.find(text=re.compile(label, re.I))\n"
          ]
        },
        {
          "output_type": "stream",
          "name": "stdout",
          "text": [
            "✓ Saved Project ID 45\n",
            "\n",
            "Fetching: https://maharerait.maharashtra.gov.in/public/project/view/46\n",
            "Captcha OCR (try 1): HFCO81\n",
            "Invalid captcha, retrying...\n",
            "Captcha OCR (try 2): K70D25\n"
          ]
        },
        {
          "output_type": "stream",
          "name": "stderr",
          "text": [
            "/tmp/ipython-input-3615969914.py:85: DeprecationWarning: The 'text' argument to find()-type methods is deprecated. Use 'string' instead.\n",
            "  el = soup.find(text=re.compile(label, re.I))\n"
          ]
        },
        {
          "output_type": "stream",
          "name": "stdout",
          "text": [
            "✓ Saved Project ID 46\n",
            "\n",
            "Fetching: https://maharerait.maharashtra.gov.in/public/project/view/47\n",
            "Captcha OCR (try 1): 5MDMM4\n"
          ]
        },
        {
          "output_type": "stream",
          "name": "stderr",
          "text": [
            "/tmp/ipython-input-3615969914.py:85: DeprecationWarning: The 'text' argument to find()-type methods is deprecated. Use 'string' instead.\n",
            "  el = soup.find(text=re.compile(label, re.I))\n"
          ]
        },
        {
          "output_type": "stream",
          "name": "stdout",
          "text": [
            "✓ Saved Project ID 47\n",
            "\n",
            "Fetching: https://maharerait.maharashtra.gov.in/public/project/view/48\n",
            "Captcha OCR (try 1): 57M1FL\n"
          ]
        },
        {
          "output_type": "stream",
          "name": "stderr",
          "text": [
            "/tmp/ipython-input-3615969914.py:85: DeprecationWarning: The 'text' argument to find()-type methods is deprecated. Use 'string' instead.\n",
            "  el = soup.find(text=re.compile(label, re.I))\n"
          ]
        },
        {
          "output_type": "stream",
          "name": "stdout",
          "text": [
            "✓ Saved Project ID 48\n",
            "\n",
            "Fetching: https://maharerait.maharashtra.gov.in/public/project/view/49\n",
            "Captcha OCR (try 1): J4JF69\n"
          ]
        },
        {
          "output_type": "stream",
          "name": "stderr",
          "text": [
            "/tmp/ipython-input-3615969914.py:85: DeprecationWarning: The 'text' argument to find()-type methods is deprecated. Use 'string' instead.\n",
            "  el = soup.find(text=re.compile(label, re.I))\n"
          ]
        },
        {
          "output_type": "stream",
          "name": "stdout",
          "text": [
            "✓ Saved Project ID 49\n",
            "\n",
            "Fetching: https://maharerait.maharashtra.gov.in/public/project/view/50\n",
            "Captcha OCR (try 1): JKEGEJ\n"
          ]
        },
        {
          "output_type": "stream",
          "name": "stderr",
          "text": [
            "/tmp/ipython-input-3615969914.py:85: DeprecationWarning: The 'text' argument to find()-type methods is deprecated. Use 'string' instead.\n",
            "  el = soup.find(text=re.compile(label, re.I))\n"
          ]
        },
        {
          "output_type": "stream",
          "name": "stdout",
          "text": [
            "✓ Saved Project ID 50\n",
            "\n",
            "Fetching: https://maharerait.maharashtra.gov.in/public/project/view/51\n",
            "Captcha OCR (try 1): H8DKH1\n"
          ]
        },
        {
          "output_type": "stream",
          "name": "stderr",
          "text": [
            "/tmp/ipython-input-3615969914.py:85: DeprecationWarning: The 'text' argument to find()-type methods is deprecated. Use 'string' instead.\n",
            "  el = soup.find(text=re.compile(label, re.I))\n"
          ]
        },
        {
          "output_type": "stream",
          "name": "stdout",
          "text": [
            "✓ Saved Project ID 51\n",
            "\n",
            "Fetching: https://maharerait.maharashtra.gov.in/public/project/view/52\n",
            "Captcha OCR (try 1): 4L7462\n"
          ]
        },
        {
          "output_type": "stream",
          "name": "stderr",
          "text": [
            "/tmp/ipython-input-3615969914.py:85: DeprecationWarning: The 'text' argument to find()-type methods is deprecated. Use 'string' instead.\n",
            "  el = soup.find(text=re.compile(label, re.I))\n"
          ]
        },
        {
          "output_type": "stream",
          "name": "stdout",
          "text": [
            "✓ Saved Project ID 52\n",
            "\n",
            "Fetching: https://maharerait.maharashtra.gov.in/public/project/view/53\n",
            "Captcha OCR (try 1): GN8KBH\n"
          ]
        },
        {
          "output_type": "stream",
          "name": "stderr",
          "text": [
            "/tmp/ipython-input-3615969914.py:85: DeprecationWarning: The 'text' argument to find()-type methods is deprecated. Use 'string' instead.\n",
            "  el = soup.find(text=re.compile(label, re.I))\n"
          ]
        },
        {
          "output_type": "stream",
          "name": "stdout",
          "text": [
            "✓ Saved Project ID 53\n",
            "\n",
            "Fetching: https://maharerait.maharashtra.gov.in/public/project/view/54\n",
            "Captcha OCR (try 1): MC6ML8\n"
          ]
        },
        {
          "output_type": "stream",
          "name": "stderr",
          "text": [
            "/tmp/ipython-input-3615969914.py:85: DeprecationWarning: The 'text' argument to find()-type methods is deprecated. Use 'string' instead.\n",
            "  el = soup.find(text=re.compile(label, re.I))\n"
          ]
        },
        {
          "output_type": "stream",
          "name": "stdout",
          "text": [
            "✓ Saved Project ID 54\n",
            "\n",
            "Fetching: https://maharerait.maharashtra.gov.in/public/project/view/55\n",
            "Captcha OCR (try 1): IDMA18\n"
          ]
        },
        {
          "output_type": "stream",
          "name": "stderr",
          "text": [
            "/tmp/ipython-input-3615969914.py:85: DeprecationWarning: The 'text' argument to find()-type methods is deprecated. Use 'string' instead.\n",
            "  el = soup.find(text=re.compile(label, re.I))\n"
          ]
        },
        {
          "output_type": "stream",
          "name": "stdout",
          "text": [
            "✓ Saved Project ID 55\n",
            "\n",
            "Fetching: https://maharerait.maharashtra.gov.in/public/project/view/56\n",
            "Captcha OCR (try 1): N7J8FM\n"
          ]
        },
        {
          "output_type": "stream",
          "name": "stderr",
          "text": [
            "/tmp/ipython-input-3615969914.py:85: DeprecationWarning: The 'text' argument to find()-type methods is deprecated. Use 'string' instead.\n",
            "  el = soup.find(text=re.compile(label, re.I))\n"
          ]
        },
        {
          "output_type": "stream",
          "name": "stdout",
          "text": [
            "✓ Saved Project ID 56\n",
            "\n",
            "Fetching: https://maharerait.maharashtra.gov.in/public/project/view/57\n",
            "Captcha OCR (try 1): 1B9HKO\n",
            "Invalid captcha, retrying...\n",
            "Captcha OCR (try 2): MN4D5B\n"
          ]
        },
        {
          "output_type": "stream",
          "name": "stderr",
          "text": [
            "/tmp/ipython-input-3615969914.py:85: DeprecationWarning: The 'text' argument to find()-type methods is deprecated. Use 'string' instead.\n",
            "  el = soup.find(text=re.compile(label, re.I))\n"
          ]
        },
        {
          "output_type": "stream",
          "name": "stdout",
          "text": [
            "✓ Saved Project ID 57\n",
            "\n",
            "Fetching: https://maharerait.maharashtra.gov.in/public/project/view/58\n",
            "Captcha OCR (try 1): DGABIF\n",
            "Invalid captcha, retrying...\n",
            "Captcha OCR (try 2): G7NESE\n",
            "Invalid captcha, retrying...\n",
            "Captcha OCR (try 3): FL777D\n"
          ]
        },
        {
          "output_type": "stream",
          "name": "stderr",
          "text": [
            "/tmp/ipython-input-3615969914.py:85: DeprecationWarning: The 'text' argument to find()-type methods is deprecated. Use 'string' instead.\n",
            "  el = soup.find(text=re.compile(label, re.I))\n"
          ]
        },
        {
          "output_type": "stream",
          "name": "stdout",
          "text": [
            "✓ Saved Project ID 58\n",
            "\n",
            "Fetching: https://maharerait.maharashtra.gov.in/public/project/view/59\n",
            "Captcha OCR (try 1): 705CI14\n",
            "Invalid captcha, retrying...\n",
            "Captcha OCR (try 2): GCDMNE\n"
          ]
        },
        {
          "output_type": "stream",
          "name": "stderr",
          "text": [
            "/tmp/ipython-input-3615969914.py:85: DeprecationWarning: The 'text' argument to find()-type methods is deprecated. Use 'string' instead.\n",
            "  el = soup.find(text=re.compile(label, re.I))\n"
          ]
        },
        {
          "output_type": "stream",
          "name": "stdout",
          "text": [
            "✓ Saved Project ID 59\n",
            "\n",
            "Fetching: https://maharerait.maharashtra.gov.in/public/project/view/60\n",
            "Captcha OCR (try 1): 2BC6IG\n"
          ]
        },
        {
          "output_type": "stream",
          "name": "stderr",
          "text": [
            "/tmp/ipython-input-3615969914.py:85: DeprecationWarning: The 'text' argument to find()-type methods is deprecated. Use 'string' instead.\n",
            "  el = soup.find(text=re.compile(label, re.I))\n"
          ]
        },
        {
          "output_type": "stream",
          "name": "stdout",
          "text": [
            "✓ Saved Project ID 60\n",
            "\n",
            "Fetching: https://maharerait.maharashtra.gov.in/public/project/view/61\n",
            "Captcha OCR (try 1): 539DKJ\n"
          ]
        },
        {
          "output_type": "stream",
          "name": "stderr",
          "text": [
            "/tmp/ipython-input-3615969914.py:85: DeprecationWarning: The 'text' argument to find()-type methods is deprecated. Use 'string' instead.\n",
            "  el = soup.find(text=re.compile(label, re.I))\n"
          ]
        },
        {
          "output_type": "stream",
          "name": "stdout",
          "text": [
            "✓ Saved Project ID 61\n",
            "\n",
            "Fetching: https://maharerait.maharashtra.gov.in/public/project/view/62\n",
            "Captcha OCR (try 1): G9575\n",
            "Invalid captcha, retrying...\n",
            "Captcha OCR (try 2): 62F6HE\n"
          ]
        },
        {
          "output_type": "stream",
          "name": "stderr",
          "text": [
            "/tmp/ipython-input-3615969914.py:85: DeprecationWarning: The 'text' argument to find()-type methods is deprecated. Use 'string' instead.\n",
            "  el = soup.find(text=re.compile(label, re.I))\n"
          ]
        },
        {
          "output_type": "stream",
          "name": "stdout",
          "text": [
            "✓ Saved Project ID 62\n",
            "\n",
            "Fetching: https://maharerait.maharashtra.gov.in/public/project/view/63\n",
            "Captcha OCR (try 1): 8C56GG\n"
          ]
        },
        {
          "output_type": "stream",
          "name": "stderr",
          "text": [
            "/tmp/ipython-input-3615969914.py:85: DeprecationWarning: The 'text' argument to find()-type methods is deprecated. Use 'string' instead.\n",
            "  el = soup.find(text=re.compile(label, re.I))\n"
          ]
        },
        {
          "output_type": "stream",
          "name": "stdout",
          "text": [
            "✓ Saved Project ID 63\n",
            "\n",
            "Fetching: https://maharerait.maharashtra.gov.in/public/project/view/64\n",
            "Captcha OCR (try 1): 11MCGE\n"
          ]
        },
        {
          "output_type": "stream",
          "name": "stderr",
          "text": [
            "/tmp/ipython-input-3615969914.py:85: DeprecationWarning: The 'text' argument to find()-type methods is deprecated. Use 'string' instead.\n",
            "  el = soup.find(text=re.compile(label, re.I))\n"
          ]
        },
        {
          "output_type": "stream",
          "name": "stdout",
          "text": [
            "✓ Saved Project ID 64\n",
            "\n",
            "Fetching: https://maharerait.maharashtra.gov.in/public/project/view/65\n",
            "Captcha OCR (try 1): 4BA831\n",
            "Invalid captcha, retrying...\n",
            "Captcha OCR (try 2): HAADDO\n",
            "Invalid captcha, retrying...\n",
            "Captcha OCR (try 3): LI4L34\n"
          ]
        },
        {
          "output_type": "stream",
          "name": "stderr",
          "text": [
            "/tmp/ipython-input-3615969914.py:85: DeprecationWarning: The 'text' argument to find()-type methods is deprecated. Use 'string' instead.\n",
            "  el = soup.find(text=re.compile(label, re.I))\n"
          ]
        },
        {
          "output_type": "stream",
          "name": "stdout",
          "text": [
            "✓ Saved Project ID 65\n",
            "\n",
            "Fetching: https://maharerait.maharashtra.gov.in/public/project/view/66\n",
            "Captcha OCR (try 1): N3DL4K\n"
          ]
        },
        {
          "output_type": "stream",
          "name": "stderr",
          "text": [
            "/tmp/ipython-input-3615969914.py:85: DeprecationWarning: The 'text' argument to find()-type methods is deprecated. Use 'string' instead.\n",
            "  el = soup.find(text=re.compile(label, re.I))\n"
          ]
        },
        {
          "output_type": "stream",
          "name": "stdout",
          "text": [
            "✓ Saved Project ID 66\n",
            "\n",
            "Fetching: https://maharerait.maharashtra.gov.in/public/project/view/67\n",
            "Captcha OCR (try 1): JE629K\n",
            "Invalid captcha, retrying...\n",
            "Captcha canvas not found, skipping this ID.\n",
            "Skipping project 67 due to repeated captcha failures.\n",
            "\n",
            "Fetching: https://maharerait.maharashtra.gov.in/public/project/view/68\n",
            "Captcha OCR (try 1): 41KCF3\n"
          ]
        },
        {
          "output_type": "stream",
          "name": "stderr",
          "text": [
            "/tmp/ipython-input-3615969914.py:85: DeprecationWarning: The 'text' argument to find()-type methods is deprecated. Use 'string' instead.\n",
            "  el = soup.find(text=re.compile(label, re.I))\n"
          ]
        },
        {
          "output_type": "stream",
          "name": "stdout",
          "text": [
            "✓ Saved Project ID 68\n",
            "\n",
            "Fetching: https://maharerait.maharashtra.gov.in/public/project/view/69\n",
            "Captcha OCR (try 1): 78EE91\n"
          ]
        },
        {
          "output_type": "stream",
          "name": "stderr",
          "text": [
            "/tmp/ipython-input-3615969914.py:85: DeprecationWarning: The 'text' argument to find()-type methods is deprecated. Use 'string' instead.\n",
            "  el = soup.find(text=re.compile(label, re.I))\n"
          ]
        },
        {
          "output_type": "stream",
          "name": "stdout",
          "text": [
            "✓ Saved Project ID 69\n",
            "\n",
            "Fetching: https://maharerait.maharashtra.gov.in/public/project/view/70\n",
            "Captcha OCR (try 1): 10953C\n",
            "Invalid captcha, retrying...\n",
            "Captcha OCR (try 2): 5N638C\n"
          ]
        },
        {
          "output_type": "stream",
          "name": "stderr",
          "text": [
            "/tmp/ipython-input-3615969914.py:85: DeprecationWarning: The 'text' argument to find()-type methods is deprecated. Use 'string' instead.\n",
            "  el = soup.find(text=re.compile(label, re.I))\n"
          ]
        },
        {
          "output_type": "stream",
          "name": "stdout",
          "text": [
            "✓ Saved Project ID 70\n",
            "\n",
            "Fetching: https://maharerait.maharashtra.gov.in/public/project/view/71\n",
            "Captcha OCR (try 1): 4E0ELK\n"
          ]
        },
        {
          "output_type": "stream",
          "name": "stderr",
          "text": [
            "/tmp/ipython-input-3615969914.py:85: DeprecationWarning: The 'text' argument to find()-type methods is deprecated. Use 'string' instead.\n",
            "  el = soup.find(text=re.compile(label, re.I))\n"
          ]
        },
        {
          "output_type": "stream",
          "name": "stdout",
          "text": [
            "✓ Saved Project ID 71\n",
            "\n",
            "Fetching: https://maharerait.maharashtra.gov.in/public/project/view/72\n",
            "Captcha OCR (try 1): G9HOLO\n",
            "Invalid captcha, retrying...\n",
            "Captcha OCR (try 2): K131L2\n"
          ]
        },
        {
          "output_type": "stream",
          "name": "stderr",
          "text": [
            "/tmp/ipython-input-3615969914.py:85: DeprecationWarning: The 'text' argument to find()-type methods is deprecated. Use 'string' instead.\n",
            "  el = soup.find(text=re.compile(label, re.I))\n"
          ]
        },
        {
          "output_type": "stream",
          "name": "stdout",
          "text": [
            "✓ Saved Project ID 72\n",
            "\n",
            "Fetching: https://maharerait.maharashtra.gov.in/public/project/view/73\n",
            "Captcha OCR (try 1): SHNICA\n",
            "Invalid captcha, retrying...\n",
            "Captcha OCR (try 2): C4LLK5\n"
          ]
        },
        {
          "output_type": "stream",
          "name": "stderr",
          "text": [
            "/tmp/ipython-input-3615969914.py:85: DeprecationWarning: The 'text' argument to find()-type methods is deprecated. Use 'string' instead.\n",
            "  el = soup.find(text=re.compile(label, re.I))\n"
          ]
        },
        {
          "output_type": "stream",
          "name": "stdout",
          "text": [
            "✓ Saved Project ID 73\n",
            "\n",
            "Fetching: https://maharerait.maharashtra.gov.in/public/project/view/74\n",
            "Captcha OCR (try 1): B2HA4J\n",
            "Invalid captcha, retrying...\n",
            "Captcha OCR (try 2): 22H5HG\n"
          ]
        },
        {
          "output_type": "stream",
          "name": "stderr",
          "text": [
            "/tmp/ipython-input-3615969914.py:85: DeprecationWarning: The 'text' argument to find()-type methods is deprecated. Use 'string' instead.\n",
            "  el = soup.find(text=re.compile(label, re.I))\n"
          ]
        },
        {
          "output_type": "stream",
          "name": "stdout",
          "text": [
            "✓ Saved Project ID 74\n",
            "\n",
            "Fetching: https://maharerait.maharashtra.gov.in/public/project/view/75\n",
            "Captcha OCR (try 1): 90202M\n"
          ]
        },
        {
          "output_type": "stream",
          "name": "stderr",
          "text": [
            "/tmp/ipython-input-3615969914.py:85: DeprecationWarning: The 'text' argument to find()-type methods is deprecated. Use 'string' instead.\n",
            "  el = soup.find(text=re.compile(label, re.I))\n"
          ]
        },
        {
          "output_type": "stream",
          "name": "stdout",
          "text": [
            "✓ Saved Project ID 75\n",
            "\n",
            "Fetching: https://maharerait.maharashtra.gov.in/public/project/view/76\n",
            "Captcha OCR (try 1): HIDCGK\n",
            "Invalid captcha, retrying...\n",
            "Captcha OCR (try 2): BSE684\n",
            "Invalid captcha, retrying...\n",
            "Captcha OCR (try 3): LHH6CN\n"
          ]
        },
        {
          "output_type": "stream",
          "name": "stderr",
          "text": [
            "/tmp/ipython-input-3615969914.py:85: DeprecationWarning: The 'text' argument to find()-type methods is deprecated. Use 'string' instead.\n",
            "  el = soup.find(text=re.compile(label, re.I))\n"
          ]
        },
        {
          "output_type": "stream",
          "name": "stdout",
          "text": [
            "✓ Saved Project ID 76\n",
            "\n",
            "Fetching: https://maharerait.maharashtra.gov.in/public/project/view/77\n",
            "Captcha OCR (try 1): DIMB47\n"
          ]
        },
        {
          "output_type": "stream",
          "name": "stderr",
          "text": [
            "/tmp/ipython-input-3615969914.py:85: DeprecationWarning: The 'text' argument to find()-type methods is deprecated. Use 'string' instead.\n",
            "  el = soup.find(text=re.compile(label, re.I))\n"
          ]
        },
        {
          "output_type": "stream",
          "name": "stdout",
          "text": [
            "✓ Saved Project ID 77\n",
            "\n",
            "Fetching: https://maharerait.maharashtra.gov.in/public/project/view/78\n",
            "Captcha OCR (try 1): 4GD91N\n"
          ]
        },
        {
          "output_type": "stream",
          "name": "stderr",
          "text": [
            "/tmp/ipython-input-3615969914.py:85: DeprecationWarning: The 'text' argument to find()-type methods is deprecated. Use 'string' instead.\n",
            "  el = soup.find(text=re.compile(label, re.I))\n"
          ]
        },
        {
          "output_type": "stream",
          "name": "stdout",
          "text": [
            "✓ Saved Project ID 78\n",
            "\n",
            "Fetching: https://maharerait.maharashtra.gov.in/public/project/view/79\n",
            "Captcha OCR (try 1): 1DCBIM\n"
          ]
        },
        {
          "output_type": "stream",
          "name": "stderr",
          "text": [
            "/tmp/ipython-input-3615969914.py:85: DeprecationWarning: The 'text' argument to find()-type methods is deprecated. Use 'string' instead.\n",
            "  el = soup.find(text=re.compile(label, re.I))\n"
          ]
        },
        {
          "output_type": "stream",
          "name": "stdout",
          "text": [
            "✓ Saved Project ID 79\n",
            "\n",
            "Fetching: https://maharerait.maharashtra.gov.in/public/project/view/80\n",
            "Captcha OCR (try 1): 5K81B3\n",
            "Invalid captcha, retrying...\n",
            "Captcha OCR (try 2): NSFMG4\n",
            "Invalid captcha, retrying...\n",
            "Captcha OCR (try 3): BCMI1E4\n",
            "Invalid captcha, retrying...\n",
            "Skipping project 80 due to repeated captcha failures.\n",
            "\n",
            "Fetching: https://maharerait.maharashtra.gov.in/public/project/view/81\n",
            "Captcha OCR (try 1): 1974CH\n"
          ]
        },
        {
          "output_type": "stream",
          "name": "stderr",
          "text": [
            "/tmp/ipython-input-3615969914.py:85: DeprecationWarning: The 'text' argument to find()-type methods is deprecated. Use 'string' instead.\n",
            "  el = soup.find(text=re.compile(label, re.I))\n"
          ]
        },
        {
          "output_type": "stream",
          "name": "stdout",
          "text": [
            "✓ Saved Project ID 81\n",
            "\n",
            "Fetching: https://maharerait.maharashtra.gov.in/public/project/view/82\n",
            "Captcha OCR (try 1): O0J765G\n",
            "Invalid captcha, retrying...\n",
            "Captcha OCR (try 2): 6CM3ID\n"
          ]
        },
        {
          "output_type": "stream",
          "name": "stderr",
          "text": [
            "/tmp/ipython-input-3615969914.py:85: DeprecationWarning: The 'text' argument to find()-type methods is deprecated. Use 'string' instead.\n",
            "  el = soup.find(text=re.compile(label, re.I))\n"
          ]
        },
        {
          "output_type": "stream",
          "name": "stdout",
          "text": [
            "✓ Saved Project ID 82\n",
            "\n",
            "Fetching: https://maharerait.maharashtra.gov.in/public/project/view/83\n",
            "Captcha OCR (try 1): 24550M\n"
          ]
        },
        {
          "output_type": "stream",
          "name": "stderr",
          "text": [
            "/tmp/ipython-input-3615969914.py:85: DeprecationWarning: The 'text' argument to find()-type methods is deprecated. Use 'string' instead.\n",
            "  el = soup.find(text=re.compile(label, re.I))\n"
          ]
        },
        {
          "output_type": "stream",
          "name": "stdout",
          "text": [
            "✓ Saved Project ID 83\n",
            "\n",
            "Fetching: https://maharerait.maharashtra.gov.in/public/project/view/84\n",
            "Captcha OCR (try 1): BHCN16\n",
            "Invalid captcha, retrying...\n",
            "Captcha OCR (try 2): 28C0ODF\n",
            "Invalid captcha, retrying...\n",
            "Captcha OCR (try 3): CHGI5F\n",
            "Invalid captcha, retrying...\n",
            "Skipping project 84 due to repeated captcha failures.\n",
            "\n",
            "Fetching: https://maharerait.maharashtra.gov.in/public/project/view/85\n",
            "Captcha OCR (try 1): JE48M0\n"
          ]
        },
        {
          "output_type": "stream",
          "name": "stderr",
          "text": [
            "/tmp/ipython-input-3615969914.py:85: DeprecationWarning: The 'text' argument to find()-type methods is deprecated. Use 'string' instead.\n",
            "  el = soup.find(text=re.compile(label, re.I))\n"
          ]
        },
        {
          "output_type": "stream",
          "name": "stdout",
          "text": [
            "✓ Saved Project ID 85\n",
            "\n",
            "Fetching: https://maharerait.maharashtra.gov.in/public/project/view/86\n",
            "Captcha OCR (try 1): FJINFF3\n",
            "Invalid captcha, retrying...\n",
            "Captcha OCR (try 2): ANN7IM\n"
          ]
        },
        {
          "output_type": "stream",
          "name": "stderr",
          "text": [
            "/tmp/ipython-input-3615969914.py:85: DeprecationWarning: The 'text' argument to find()-type methods is deprecated. Use 'string' instead.\n",
            "  el = soup.find(text=re.compile(label, re.I))\n"
          ]
        },
        {
          "output_type": "stream",
          "name": "stdout",
          "text": [
            "✓ Saved Project ID 86\n",
            "\n",
            "Fetching: https://maharerait.maharashtra.gov.in/public/project/view/87\n",
            "Captcha OCR (try 1): 4KC51M\n"
          ]
        },
        {
          "output_type": "stream",
          "name": "stderr",
          "text": [
            "/tmp/ipython-input-3615969914.py:85: DeprecationWarning: The 'text' argument to find()-type methods is deprecated. Use 'string' instead.\n",
            "  el = soup.find(text=re.compile(label, re.I))\n"
          ]
        },
        {
          "output_type": "stream",
          "name": "stdout",
          "text": [
            "✓ Saved Project ID 87\n",
            "\n",
            "Fetching: https://maharerait.maharashtra.gov.in/public/project/view/88\n",
            "Captcha OCR (try 1): 6B2K36\n"
          ]
        },
        {
          "output_type": "stream",
          "name": "stderr",
          "text": [
            "/tmp/ipython-input-3615969914.py:85: DeprecationWarning: The 'text' argument to find()-type methods is deprecated. Use 'string' instead.\n",
            "  el = soup.find(text=re.compile(label, re.I))\n"
          ]
        },
        {
          "output_type": "stream",
          "name": "stdout",
          "text": [
            "✓ Saved Project ID 88\n",
            "\n",
            "Fetching: https://maharerait.maharashtra.gov.in/public/project/view/89\n",
            "Captcha OCR (try 1): 73D8BG\n"
          ]
        },
        {
          "output_type": "stream",
          "name": "stderr",
          "text": [
            "/tmp/ipython-input-3615969914.py:85: DeprecationWarning: The 'text' argument to find()-type methods is deprecated. Use 'string' instead.\n",
            "  el = soup.find(text=re.compile(label, re.I))\n"
          ]
        },
        {
          "output_type": "stream",
          "name": "stdout",
          "text": [
            "✓ Saved Project ID 89\n",
            "\n",
            "Fetching: https://maharerait.maharashtra.gov.in/public/project/view/90\n",
            "Captcha OCR (try 1): N39E37\n"
          ]
        },
        {
          "output_type": "stream",
          "name": "stderr",
          "text": [
            "/tmp/ipython-input-3615969914.py:85: DeprecationWarning: The 'text' argument to find()-type methods is deprecated. Use 'string' instead.\n",
            "  el = soup.find(text=re.compile(label, re.I))\n"
          ]
        },
        {
          "output_type": "stream",
          "name": "stdout",
          "text": [
            "✓ Saved Project ID 90\n",
            "\n",
            "Fetching: https://maharerait.maharashtra.gov.in/public/project/view/91\n",
            "Captcha OCR (try 1): 5DG892\n"
          ]
        },
        {
          "output_type": "stream",
          "name": "stderr",
          "text": [
            "/tmp/ipython-input-3615969914.py:85: DeprecationWarning: The 'text' argument to find()-type methods is deprecated. Use 'string' instead.\n",
            "  el = soup.find(text=re.compile(label, re.I))\n"
          ]
        },
        {
          "output_type": "stream",
          "name": "stdout",
          "text": [
            "✓ Saved Project ID 91\n",
            "\n",
            "Fetching: https://maharerait.maharashtra.gov.in/public/project/view/92\n",
            "Captcha OCR (try 1): OFCILH\n",
            "Invalid captcha, retrying...\n",
            "Captcha OCR (try 2): CDBE89\n"
          ]
        },
        {
          "output_type": "stream",
          "name": "stderr",
          "text": [
            "/tmp/ipython-input-3615969914.py:85: DeprecationWarning: The 'text' argument to find()-type methods is deprecated. Use 'string' instead.\n",
            "  el = soup.find(text=re.compile(label, re.I))\n"
          ]
        },
        {
          "output_type": "stream",
          "name": "stdout",
          "text": [
            "✓ Saved Project ID 92\n",
            "\n",
            "Fetching: https://maharerait.maharashtra.gov.in/public/project/view/93\n",
            "Captcha OCR (try 1): 4EE68F\n"
          ]
        },
        {
          "output_type": "stream",
          "name": "stderr",
          "text": [
            "/tmp/ipython-input-3615969914.py:85: DeprecationWarning: The 'text' argument to find()-type methods is deprecated. Use 'string' instead.\n",
            "  el = soup.find(text=re.compile(label, re.I))\n"
          ]
        },
        {
          "output_type": "stream",
          "name": "stdout",
          "text": [
            "✓ Saved Project ID 93\n",
            "\n",
            "Fetching: https://maharerait.maharashtra.gov.in/public/project/view/94\n",
            "Captcha OCR (try 1): 9B8BKG7\n",
            "Invalid captcha, retrying...\n",
            "Captcha OCR (try 2): GNMBSJ\n",
            "Invalid captcha, retrying...\n",
            "Captcha OCR (try 3): E853GL\n"
          ]
        },
        {
          "output_type": "stream",
          "name": "stderr",
          "text": [
            "/tmp/ipython-input-3615969914.py:85: DeprecationWarning: The 'text' argument to find()-type methods is deprecated. Use 'string' instead.\n",
            "  el = soup.find(text=re.compile(label, re.I))\n"
          ]
        },
        {
          "output_type": "stream",
          "name": "stdout",
          "text": [
            "✓ Saved Project ID 94\n",
            "\n",
            "Fetching: https://maharerait.maharashtra.gov.in/public/project/view/95\n",
            "Captcha OCR (try 1): FHNDI6\n"
          ]
        },
        {
          "output_type": "stream",
          "name": "stderr",
          "text": [
            "/tmp/ipython-input-3615969914.py:85: DeprecationWarning: The 'text' argument to find()-type methods is deprecated. Use 'string' instead.\n",
            "  el = soup.find(text=re.compile(label, re.I))\n"
          ]
        },
        {
          "output_type": "stream",
          "name": "stdout",
          "text": [
            "✓ Saved Project ID 95\n",
            "\n",
            "Fetching: https://maharerait.maharashtra.gov.in/public/project/view/96\n",
            "Captcha OCR (try 1): CcCC7DMK\n",
            "Invalid captcha, retrying...\n",
            "Captcha OCR (try 2): 15HF10\n"
          ]
        },
        {
          "output_type": "stream",
          "name": "stderr",
          "text": [
            "/tmp/ipython-input-3615969914.py:85: DeprecationWarning: The 'text' argument to find()-type methods is deprecated. Use 'string' instead.\n",
            "  el = soup.find(text=re.compile(label, re.I))\n"
          ]
        },
        {
          "output_type": "stream",
          "name": "stdout",
          "text": [
            "✓ Saved Project ID 96\n",
            "\n",
            "Fetching: https://maharerait.maharashtra.gov.in/public/project/view/97\n",
            "Captcha OCR (try 1): C1iD8L4\n",
            "Invalid captcha, retrying...\n",
            "Captcha OCR (try 2): NM4C7C\n"
          ]
        },
        {
          "output_type": "stream",
          "name": "stderr",
          "text": [
            "/tmp/ipython-input-3615969914.py:85: DeprecationWarning: The 'text' argument to find()-type methods is deprecated. Use 'string' instead.\n",
            "  el = soup.find(text=re.compile(label, re.I))\n"
          ]
        },
        {
          "output_type": "stream",
          "name": "stdout",
          "text": [
            "✓ Saved Project ID 97\n",
            "\n",
            "Fetching: https://maharerait.maharashtra.gov.in/public/project/view/98\n",
            "Captcha OCR (try 1): EMGJ87\n"
          ]
        },
        {
          "output_type": "stream",
          "name": "stderr",
          "text": [
            "/tmp/ipython-input-3615969914.py:85: DeprecationWarning: The 'text' argument to find()-type methods is deprecated. Use 'string' instead.\n",
            "  el = soup.find(text=re.compile(label, re.I))\n"
          ]
        },
        {
          "output_type": "stream",
          "name": "stdout",
          "text": [
            "✓ Saved Project ID 98\n",
            "\n",
            "Fetching: https://maharerait.maharashtra.gov.in/public/project/view/99\n",
            "Captcha OCR (try 1): OM7DDN\n",
            "Invalid captcha, retrying...\n",
            "Captcha OCR (try 2): MC7BM4\n"
          ]
        },
        {
          "output_type": "stream",
          "name": "stderr",
          "text": [
            "/tmp/ipython-input-3615969914.py:85: DeprecationWarning: The 'text' argument to find()-type methods is deprecated. Use 'string' instead.\n",
            "  el = soup.find(text=re.compile(label, re.I))\n"
          ]
        },
        {
          "output_type": "stream",
          "name": "stdout",
          "text": [
            "✓ Saved Project ID 99\n",
            "\n",
            "Fetching: https://maharerait.maharashtra.gov.in/public/project/view/100\n",
            "Captcha OCR (try 1): B8KIJK8\n",
            "Invalid captcha, retrying...\n",
            "Captcha OCR (try 2): 5IBCOM\n",
            "Invalid captcha, retrying...\n",
            "Captcha OCR (try 3): OH7A63\n",
            "Invalid captcha, retrying...\n",
            "Skipping project 100 due to repeated captcha failures.\n",
            "\n",
            "Fetching: https://maharerait.maharashtra.gov.in/public/project/view/101\n",
            "Captcha OCR (try 1): MD2198\n"
          ]
        },
        {
          "output_type": "stream",
          "name": "stderr",
          "text": [
            "/tmp/ipython-input-3615969914.py:85: DeprecationWarning: The 'text' argument to find()-type methods is deprecated. Use 'string' instead.\n",
            "  el = soup.find(text=re.compile(label, re.I))\n"
          ]
        },
        {
          "output_type": "stream",
          "name": "stdout",
          "text": [
            "✓ Saved Project ID 101\n",
            "\n",
            "Fetching: https://maharerait.maharashtra.gov.in/public/project/view/102\n",
            "Captcha OCR (try 1): CDE315\n",
            "Invalid captcha, retrying...\n",
            "Captcha OCR (try 2): IIMG7N\n"
          ]
        },
        {
          "output_type": "stream",
          "name": "stderr",
          "text": [
            "/tmp/ipython-input-3615969914.py:85: DeprecationWarning: The 'text' argument to find()-type methods is deprecated. Use 'string' instead.\n",
            "  el = soup.find(text=re.compile(label, re.I))\n"
          ]
        },
        {
          "output_type": "stream",
          "name": "stdout",
          "text": [
            "✓ Saved Project ID 102\n",
            "\n",
            "Fetching: https://maharerait.maharashtra.gov.in/public/project/view/103\n",
            "Captcha OCR (try 1): 693471\n",
            "Invalid captcha, retrying...\n",
            "Captcha OCR (try 2): CE6516\n",
            "Invalid captcha, retrying...\n",
            "Captcha OCR (try 3): O140JA\n",
            "Invalid captcha, retrying...\n",
            "Skipping project 103 due to repeated captcha failures.\n",
            "\n",
            "Fetching: https://maharerait.maharashtra.gov.in/public/project/view/104\n",
            "Captcha OCR (try 1): DELFHN\n"
          ]
        },
        {
          "output_type": "stream",
          "name": "stderr",
          "text": [
            "/tmp/ipython-input-3615969914.py:85: DeprecationWarning: The 'text' argument to find()-type methods is deprecated. Use 'string' instead.\n",
            "  el = soup.find(text=re.compile(label, re.I))\n"
          ]
        },
        {
          "output_type": "stream",
          "name": "stdout",
          "text": [
            "✓ Saved Project ID 104\n",
            "\n",
            "Fetching: https://maharerait.maharashtra.gov.in/public/project/view/105\n",
            "Captcha OCR (try 1): KA11D9\n"
          ]
        },
        {
          "output_type": "stream",
          "name": "stderr",
          "text": [
            "/tmp/ipython-input-3615969914.py:85: DeprecationWarning: The 'text' argument to find()-type methods is deprecated. Use 'string' instead.\n",
            "  el = soup.find(text=re.compile(label, re.I))\n"
          ]
        },
        {
          "output_type": "stream",
          "name": "stdout",
          "text": [
            "✓ Saved Project ID 105\n",
            "\n",
            "Fetching: https://maharerait.maharashtra.gov.in/public/project/view/106\n",
            "Captcha OCR (try 1): IB78F9\n"
          ]
        },
        {
          "output_type": "stream",
          "name": "stderr",
          "text": [
            "/tmp/ipython-input-3615969914.py:85: DeprecationWarning: The 'text' argument to find()-type methods is deprecated. Use 'string' instead.\n",
            "  el = soup.find(text=re.compile(label, re.I))\n"
          ]
        },
        {
          "output_type": "stream",
          "name": "stdout",
          "text": [
            "✓ Saved Project ID 106\n",
            "\n",
            "Fetching: https://maharerait.maharashtra.gov.in/public/project/view/107\n",
            "Captcha OCR (try 1): GE049D\n"
          ]
        },
        {
          "output_type": "stream",
          "name": "stderr",
          "text": [
            "/tmp/ipython-input-3615969914.py:85: DeprecationWarning: The 'text' argument to find()-type methods is deprecated. Use 'string' instead.\n",
            "  el = soup.find(text=re.compile(label, re.I))\n"
          ]
        },
        {
          "output_type": "stream",
          "name": "stdout",
          "text": [
            "✓ Saved Project ID 107\n",
            "\n",
            "Fetching: https://maharerait.maharashtra.gov.in/public/project/view/108\n",
            "Captcha OCR (try 1): LJIMAB3\n",
            "Invalid captcha, retrying...\n",
            "Captcha OCR (try 2): 1FB43J\n"
          ]
        },
        {
          "output_type": "stream",
          "name": "stderr",
          "text": [
            "/tmp/ipython-input-3615969914.py:85: DeprecationWarning: The 'text' argument to find()-type methods is deprecated. Use 'string' instead.\n",
            "  el = soup.find(text=re.compile(label, re.I))\n"
          ]
        },
        {
          "output_type": "stream",
          "name": "stdout",
          "text": [
            "✓ Saved Project ID 108\n",
            "\n",
            "Fetching: https://maharerait.maharashtra.gov.in/public/project/view/109\n",
            "Captcha OCR (try 1): E3EEG8\n"
          ]
        },
        {
          "output_type": "stream",
          "name": "stderr",
          "text": [
            "/tmp/ipython-input-3615969914.py:85: DeprecationWarning: The 'text' argument to find()-type methods is deprecated. Use 'string' instead.\n",
            "  el = soup.find(text=re.compile(label, re.I))\n"
          ]
        },
        {
          "output_type": "stream",
          "name": "stdout",
          "text": [
            "✓ Saved Project ID 109\n",
            "\n",
            "Fetching: https://maharerait.maharashtra.gov.in/public/project/view/110\n",
            "Captcha OCR (try 1): CO8E08\n",
            "Invalid captcha, retrying...\n",
            "Captcha OCR (try 2): CG0370\n"
          ]
        },
        {
          "output_type": "stream",
          "name": "stderr",
          "text": [
            "/tmp/ipython-input-3615969914.py:85: DeprecationWarning: The 'text' argument to find()-type methods is deprecated. Use 'string' instead.\n",
            "  el = soup.find(text=re.compile(label, re.I))\n"
          ]
        },
        {
          "output_type": "stream",
          "name": "stdout",
          "text": [
            "✓ Saved Project ID 110\n",
            "\n",
            "Fetching: https://maharerait.maharashtra.gov.in/public/project/view/111\n",
            "Captcha OCR (try 1): 425N44\n"
          ]
        },
        {
          "output_type": "stream",
          "name": "stderr",
          "text": [
            "/tmp/ipython-input-3615969914.py:85: DeprecationWarning: The 'text' argument to find()-type methods is deprecated. Use 'string' instead.\n",
            "  el = soup.find(text=re.compile(label, re.I))\n"
          ]
        },
        {
          "output_type": "stream",
          "name": "stdout",
          "text": [
            "✓ Saved Project ID 111\n",
            "\n",
            "Fetching: https://maharerait.maharashtra.gov.in/public/project/view/112\n",
            "Captcha OCR (try 1): 58871G\n",
            "Invalid captcha, retrying...\n",
            "Captcha OCR (try 2): I3F8CH\n"
          ]
        },
        {
          "output_type": "stream",
          "name": "stderr",
          "text": [
            "/tmp/ipython-input-3615969914.py:85: DeprecationWarning: The 'text' argument to find()-type methods is deprecated. Use 'string' instead.\n",
            "  el = soup.find(text=re.compile(label, re.I))\n"
          ]
        },
        {
          "output_type": "stream",
          "name": "stdout",
          "text": [
            "✓ Saved Project ID 112\n",
            "\n",
            "Fetching: https://maharerait.maharashtra.gov.in/public/project/view/113\n",
            "Captcha OCR (try 1): 4K44H0\n"
          ]
        },
        {
          "output_type": "stream",
          "name": "stderr",
          "text": [
            "/tmp/ipython-input-3615969914.py:85: DeprecationWarning: The 'text' argument to find()-type methods is deprecated. Use 'string' instead.\n",
            "  el = soup.find(text=re.compile(label, re.I))\n"
          ]
        },
        {
          "output_type": "stream",
          "name": "stdout",
          "text": [
            "✓ Saved Project ID 113\n",
            "\n",
            "Fetching: https://maharerait.maharashtra.gov.in/public/project/view/114\n",
            "Captcha OCR (try 1): CG5950\n"
          ]
        },
        {
          "output_type": "stream",
          "name": "stderr",
          "text": [
            "/tmp/ipython-input-3615969914.py:85: DeprecationWarning: The 'text' argument to find()-type methods is deprecated. Use 'string' instead.\n",
            "  el = soup.find(text=re.compile(label, re.I))\n"
          ]
        },
        {
          "output_type": "stream",
          "name": "stdout",
          "text": [
            "✓ Saved Project ID 114\n",
            "\n",
            "Fetching: https://maharerait.maharashtra.gov.in/public/project/view/115\n",
            "Captcha OCR (try 1): 4CGD89\n"
          ]
        },
        {
          "output_type": "stream",
          "name": "stderr",
          "text": [
            "/tmp/ipython-input-3615969914.py:85: DeprecationWarning: The 'text' argument to find()-type methods is deprecated. Use 'string' instead.\n",
            "  el = soup.find(text=re.compile(label, re.I))\n"
          ]
        },
        {
          "output_type": "stream",
          "name": "stdout",
          "text": [
            "✓ Saved Project ID 115\n",
            "\n",
            "Fetching: https://maharerait.maharashtra.gov.in/public/project/view/116\n",
            "Captcha OCR (try 1): 2C31MN\n"
          ]
        },
        {
          "output_type": "stream",
          "name": "stderr",
          "text": [
            "/tmp/ipython-input-3615969914.py:85: DeprecationWarning: The 'text' argument to find()-type methods is deprecated. Use 'string' instead.\n",
            "  el = soup.find(text=re.compile(label, re.I))\n"
          ]
        },
        {
          "output_type": "stream",
          "name": "stdout",
          "text": [
            "✓ Saved Project ID 116\n",
            "\n",
            "Fetching: https://maharerait.maharashtra.gov.in/public/project/view/117\n",
            "Captcha OCR (try 1): 9A189J\n"
          ]
        },
        {
          "output_type": "stream",
          "name": "stderr",
          "text": [
            "/tmp/ipython-input-3615969914.py:85: DeprecationWarning: The 'text' argument to find()-type methods is deprecated. Use 'string' instead.\n",
            "  el = soup.find(text=re.compile(label, re.I))\n"
          ]
        },
        {
          "output_type": "stream",
          "name": "stdout",
          "text": [
            "✓ Saved Project ID 117\n",
            "\n",
            "Fetching: https://maharerait.maharashtra.gov.in/public/project/view/118\n",
            "Captcha OCR (try 1): 6EG82H\n"
          ]
        },
        {
          "output_type": "stream",
          "name": "stderr",
          "text": [
            "/tmp/ipython-input-3615969914.py:85: DeprecationWarning: The 'text' argument to find()-type methods is deprecated. Use 'string' instead.\n",
            "  el = soup.find(text=re.compile(label, re.I))\n"
          ]
        },
        {
          "output_type": "stream",
          "name": "stdout",
          "text": [
            "✓ Saved Project ID 118\n",
            "\n",
            "Fetching: https://maharerait.maharashtra.gov.in/public/project/view/119\n",
            "Captcha OCR (try 1): BJHD4E\n",
            "Invalid captcha, retrying...\n",
            "Captcha OCR (try 2): 321J3GL\n",
            "Invalid captcha, retrying...\n",
            "Captcha OCR (try 3): 5408FJ\n"
          ]
        },
        {
          "output_type": "stream",
          "name": "stderr",
          "text": [
            "/tmp/ipython-input-3615969914.py:85: DeprecationWarning: The 'text' argument to find()-type methods is deprecated. Use 'string' instead.\n",
            "  el = soup.find(text=re.compile(label, re.I))\n"
          ]
        },
        {
          "output_type": "stream",
          "name": "stdout",
          "text": [
            "✓ Saved Project ID 119\n",
            "\n",
            "Fetching: https://maharerait.maharashtra.gov.in/public/project/view/120\n",
            "Captcha OCR (try 1): 9FS9I5\n",
            "Invalid captcha, retrying...\n",
            "Captcha OCR (try 2): BSIGDHF\n",
            "Invalid captcha, retrying...\n",
            "Captcha OCR (try 3): 9D8IMD\n"
          ]
        },
        {
          "output_type": "stream",
          "name": "stderr",
          "text": [
            "/tmp/ipython-input-3615969914.py:85: DeprecationWarning: The 'text' argument to find()-type methods is deprecated. Use 'string' instead.\n",
            "  el = soup.find(text=re.compile(label, re.I))\n"
          ]
        },
        {
          "output_type": "stream",
          "name": "stdout",
          "text": [
            "✓ Saved Project ID 120\n",
            "\n",
            "Fetching: https://maharerait.maharashtra.gov.in/public/project/view/121\n",
            "Captcha OCR (try 1): J504EA\n"
          ]
        },
        {
          "output_type": "stream",
          "name": "stderr",
          "text": [
            "/tmp/ipython-input-3615969914.py:85: DeprecationWarning: The 'text' argument to find()-type methods is deprecated. Use 'string' instead.\n",
            "  el = soup.find(text=re.compile(label, re.I))\n"
          ]
        },
        {
          "output_type": "stream",
          "name": "stdout",
          "text": [
            "✓ Saved Project ID 121\n",
            "\n",
            "Fetching: https://maharerait.maharashtra.gov.in/public/project/view/122\n",
            "Captcha OCR (try 1): IL8E32\n"
          ]
        },
        {
          "output_type": "stream",
          "name": "stderr",
          "text": [
            "/tmp/ipython-input-3615969914.py:85: DeprecationWarning: The 'text' argument to find()-type methods is deprecated. Use 'string' instead.\n",
            "  el = soup.find(text=re.compile(label, re.I))\n"
          ]
        },
        {
          "output_type": "stream",
          "name": "stdout",
          "text": [
            "✓ Saved Project ID 122\n",
            "\n",
            "Fetching: https://maharerait.maharashtra.gov.in/public/project/view/123\n",
            "Captcha OCR (try 1): GEH8B3\n"
          ]
        },
        {
          "output_type": "stream",
          "name": "stderr",
          "text": [
            "/tmp/ipython-input-3615969914.py:85: DeprecationWarning: The 'text' argument to find()-type methods is deprecated. Use 'string' instead.\n",
            "  el = soup.find(text=re.compile(label, re.I))\n"
          ]
        },
        {
          "output_type": "stream",
          "name": "stdout",
          "text": [
            "✓ Saved Project ID 123\n",
            "\n",
            "Fetching: https://maharerait.maharashtra.gov.in/public/project/view/124\n",
            "Captcha OCR (try 1): 93G62A\n"
          ]
        },
        {
          "output_type": "stream",
          "name": "stderr",
          "text": [
            "/tmp/ipython-input-3615969914.py:85: DeprecationWarning: The 'text' argument to find()-type methods is deprecated. Use 'string' instead.\n",
            "  el = soup.find(text=re.compile(label, re.I))\n"
          ]
        },
        {
          "output_type": "stream",
          "name": "stdout",
          "text": [
            "✓ Saved Project ID 124\n",
            "\n",
            "Fetching: https://maharerait.maharashtra.gov.in/public/project/view/125\n",
            "Captcha OCR (try 1): I9FM2C\n"
          ]
        },
        {
          "output_type": "stream",
          "name": "stderr",
          "text": [
            "/tmp/ipython-input-3615969914.py:85: DeprecationWarning: The 'text' argument to find()-type methods is deprecated. Use 'string' instead.\n",
            "  el = soup.find(text=re.compile(label, re.I))\n"
          ]
        },
        {
          "output_type": "stream",
          "name": "stdout",
          "text": [
            "✓ Saved Project ID 125\n",
            "\n",
            "Fetching: https://maharerait.maharashtra.gov.in/public/project/view/126\n",
            "Captcha OCR (try 1): BLLKEM\n"
          ]
        },
        {
          "output_type": "stream",
          "name": "stderr",
          "text": [
            "/tmp/ipython-input-3615969914.py:85: DeprecationWarning: The 'text' argument to find()-type methods is deprecated. Use 'string' instead.\n",
            "  el = soup.find(text=re.compile(label, re.I))\n"
          ]
        },
        {
          "output_type": "stream",
          "name": "stdout",
          "text": [
            "✓ Saved Project ID 126\n",
            "\n",
            "Fetching: https://maharerait.maharashtra.gov.in/public/project/view/127\n",
            "Captcha OCR (try 1): DMILLE\n"
          ]
        },
        {
          "output_type": "stream",
          "name": "stderr",
          "text": [
            "/tmp/ipython-input-3615969914.py:85: DeprecationWarning: The 'text' argument to find()-type methods is deprecated. Use 'string' instead.\n",
            "  el = soup.find(text=re.compile(label, re.I))\n"
          ]
        },
        {
          "output_type": "stream",
          "name": "stdout",
          "text": [
            "✓ Saved Project ID 127\n",
            "\n",
            "Fetching: https://maharerait.maharashtra.gov.in/public/project/view/128\n",
            "Captcha OCR (try 1): 7LBM32\n"
          ]
        },
        {
          "output_type": "stream",
          "name": "stderr",
          "text": [
            "/tmp/ipython-input-3615969914.py:85: DeprecationWarning: The 'text' argument to find()-type methods is deprecated. Use 'string' instead.\n",
            "  el = soup.find(text=re.compile(label, re.I))\n"
          ]
        },
        {
          "output_type": "stream",
          "name": "stdout",
          "text": [
            "✓ Saved Project ID 128\n",
            "\n",
            "Fetching: https://maharerait.maharashtra.gov.in/public/project/view/129\n",
            "Captcha OCR (try 1): 20HB19\n"
          ]
        },
        {
          "output_type": "stream",
          "name": "stderr",
          "text": [
            "/tmp/ipython-input-3615969914.py:85: DeprecationWarning: The 'text' argument to find()-type methods is deprecated. Use 'string' instead.\n",
            "  el = soup.find(text=re.compile(label, re.I))\n"
          ]
        },
        {
          "output_type": "stream",
          "name": "stdout",
          "text": [
            "✓ Saved Project ID 129\n",
            "\n",
            "Fetching: https://maharerait.maharashtra.gov.in/public/project/view/130\n",
            "Captcha OCR (try 1): G7BD1C\n"
          ]
        },
        {
          "output_type": "stream",
          "name": "stderr",
          "text": [
            "/tmp/ipython-input-3615969914.py:85: DeprecationWarning: The 'text' argument to find()-type methods is deprecated. Use 'string' instead.\n",
            "  el = soup.find(text=re.compile(label, re.I))\n"
          ]
        },
        {
          "output_type": "stream",
          "name": "stdout",
          "text": [
            "✓ Saved Project ID 130\n",
            "\n",
            "Fetching: https://maharerait.maharashtra.gov.in/public/project/view/131\n",
            "Captcha OCR (try 1): CMS5J71\n",
            "Invalid captcha, retrying...\n",
            "Captcha OCR (try 2): 6CCMBA\n"
          ]
        },
        {
          "output_type": "stream",
          "name": "stderr",
          "text": [
            "/tmp/ipython-input-3615969914.py:85: DeprecationWarning: The 'text' argument to find()-type methods is deprecated. Use 'string' instead.\n",
            "  el = soup.find(text=re.compile(label, re.I))\n"
          ]
        },
        {
          "output_type": "stream",
          "name": "stdout",
          "text": [
            "✓ Saved Project ID 131\n",
            "\n",
            "Fetching: https://maharerait.maharashtra.gov.in/public/project/view/132\n",
            "Captcha OCR (try 1): CDYF2F\n",
            "Invalid captcha, retrying...\n",
            "Captcha OCR (try 2): K6C12F\n"
          ]
        },
        {
          "output_type": "stream",
          "name": "stderr",
          "text": [
            "/tmp/ipython-input-3615969914.py:85: DeprecationWarning: The 'text' argument to find()-type methods is deprecated. Use 'string' instead.\n",
            "  el = soup.find(text=re.compile(label, re.I))\n"
          ]
        },
        {
          "output_type": "stream",
          "name": "stdout",
          "text": [
            "✓ Saved Project ID 132\n",
            "\n",
            "Fetching: https://maharerait.maharashtra.gov.in/public/project/view/133\n",
            "Captcha OCR (try 1): BO9SD1\n",
            "Invalid captcha, retrying...\n",
            "Captcha OCR (try 2): CJ381C\n",
            "Invalid captcha, retrying...\n",
            "Captcha OCR (try 3): KENBIK\n"
          ]
        },
        {
          "output_type": "stream",
          "name": "stderr",
          "text": [
            "/tmp/ipython-input-3615969914.py:85: DeprecationWarning: The 'text' argument to find()-type methods is deprecated. Use 'string' instead.\n",
            "  el = soup.find(text=re.compile(label, re.I))\n"
          ]
        },
        {
          "output_type": "stream",
          "name": "stdout",
          "text": [
            "✓ Saved Project ID 133\n",
            "\n",
            "Fetching: https://maharerait.maharashtra.gov.in/public/project/view/134\n",
            "Captcha OCR (try 1): IGNDGD\n"
          ]
        },
        {
          "output_type": "stream",
          "name": "stderr",
          "text": [
            "/tmp/ipython-input-3615969914.py:85: DeprecationWarning: The 'text' argument to find()-type methods is deprecated. Use 'string' instead.\n",
            "  el = soup.find(text=re.compile(label, re.I))\n"
          ]
        },
        {
          "output_type": "stream",
          "name": "stdout",
          "text": [
            "✓ Saved Project ID 134\n",
            "\n",
            "Fetching: https://maharerait.maharashtra.gov.in/public/project/view/135\n",
            "Captcha OCR (try 1): 140N5H\n"
          ]
        },
        {
          "output_type": "stream",
          "name": "stderr",
          "text": [
            "/tmp/ipython-input-3615969914.py:85: DeprecationWarning: The 'text' argument to find()-type methods is deprecated. Use 'string' instead.\n",
            "  el = soup.find(text=re.compile(label, re.I))\n"
          ]
        },
        {
          "output_type": "stream",
          "name": "stdout",
          "text": [
            "✓ Saved Project ID 135\n",
            "\n",
            "Fetching: https://maharerait.maharashtra.gov.in/public/project/view/136\n",
            "Captcha OCR (try 1): 7EJ4B3\n",
            "Invalid captcha, retrying...\n",
            "Captcha canvas not found, skipping this ID.\n",
            "Skipping project 136 due to repeated captcha failures.\n",
            "\n",
            "Fetching: https://maharerait.maharashtra.gov.in/public/project/view/137\n",
            "Captcha OCR (try 1): F73J8E\n"
          ]
        },
        {
          "output_type": "stream",
          "name": "stderr",
          "text": [
            "/tmp/ipython-input-3615969914.py:85: DeprecationWarning: The 'text' argument to find()-type methods is deprecated. Use 'string' instead.\n",
            "  el = soup.find(text=re.compile(label, re.I))\n"
          ]
        },
        {
          "output_type": "stream",
          "name": "stdout",
          "text": [
            "✓ Saved Project ID 137\n",
            "\n",
            "Fetching: https://maharerait.maharashtra.gov.in/public/project/view/138\n",
            "Captcha OCR (try 1): B81LI4\n"
          ]
        },
        {
          "output_type": "stream",
          "name": "stderr",
          "text": [
            "/tmp/ipython-input-3615969914.py:85: DeprecationWarning: The 'text' argument to find()-type methods is deprecated. Use 'string' instead.\n",
            "  el = soup.find(text=re.compile(label, re.I))\n"
          ]
        },
        {
          "output_type": "stream",
          "name": "stdout",
          "text": [
            "✓ Saved Project ID 138\n",
            "\n",
            "Fetching: https://maharerait.maharashtra.gov.in/public/project/view/139\n",
            "Captcha OCR (try 1): GHN745\n"
          ]
        },
        {
          "output_type": "stream",
          "name": "stderr",
          "text": [
            "/tmp/ipython-input-3615969914.py:85: DeprecationWarning: The 'text' argument to find()-type methods is deprecated. Use 'string' instead.\n",
            "  el = soup.find(text=re.compile(label, re.I))\n"
          ]
        },
        {
          "output_type": "stream",
          "name": "stdout",
          "text": [
            "✓ Saved Project ID 139\n",
            "\n",
            "Fetching: https://maharerait.maharashtra.gov.in/public/project/view/140\n",
            "Captcha OCR (try 1): 9c953J\n",
            "Invalid captcha, retrying...\n",
            "Captcha OCR (try 2): 9CCABA\n",
            "Invalid captcha, retrying...\n",
            "Captcha OCR (try 3): NGIMM3\n",
            "Invalid captcha, retrying...\n",
            "Skipping project 140 due to repeated captcha failures.\n",
            "\n",
            "Fetching: https://maharerait.maharashtra.gov.in/public/project/view/141\n",
            "Captcha OCR (try 1): 1KN4MH\n"
          ]
        },
        {
          "output_type": "stream",
          "name": "stderr",
          "text": [
            "/tmp/ipython-input-3615969914.py:85: DeprecationWarning: The 'text' argument to find()-type methods is deprecated. Use 'string' instead.\n",
            "  el = soup.find(text=re.compile(label, re.I))\n"
          ]
        },
        {
          "output_type": "stream",
          "name": "stdout",
          "text": [
            "✓ Saved Project ID 141\n",
            "\n",
            "Fetching: https://maharerait.maharashtra.gov.in/public/project/view/142\n",
            "Captcha OCR (try 1): JNCO9FS\n",
            "Invalid captcha, retrying...\n",
            "Captcha OCR (try 2): co4Jsik\n",
            "Invalid captcha, retrying...\n",
            "Captcha OCR (try 3): AMKBAE\n"
          ]
        },
        {
          "output_type": "stream",
          "name": "stderr",
          "text": [
            "/tmp/ipython-input-3615969914.py:85: DeprecationWarning: The 'text' argument to find()-type methods is deprecated. Use 'string' instead.\n",
            "  el = soup.find(text=re.compile(label, re.I))\n"
          ]
        },
        {
          "output_type": "stream",
          "name": "stdout",
          "text": [
            "✓ Saved Project ID 142\n",
            "\n",
            "Fetching: https://maharerait.maharashtra.gov.in/public/project/view/143\n",
            "Captcha OCR (try 1): B49FNL\n",
            "Invalid captcha, retrying...\n",
            "Captcha OCR (try 2): EDNDBF\n"
          ]
        },
        {
          "output_type": "stream",
          "name": "stderr",
          "text": [
            "/tmp/ipython-input-3615969914.py:85: DeprecationWarning: The 'text' argument to find()-type methods is deprecated. Use 'string' instead.\n",
            "  el = soup.find(text=re.compile(label, re.I))\n"
          ]
        },
        {
          "output_type": "stream",
          "name": "stdout",
          "text": [
            "✓ Saved Project ID 143\n",
            "\n",
            "Fetching: https://maharerait.maharashtra.gov.in/public/project/view/144\n",
            "Captcha OCR (try 1): KCG2A9\n"
          ]
        },
        {
          "output_type": "stream",
          "name": "stderr",
          "text": [
            "/tmp/ipython-input-3615969914.py:85: DeprecationWarning: The 'text' argument to find()-type methods is deprecated. Use 'string' instead.\n",
            "  el = soup.find(text=re.compile(label, re.I))\n"
          ]
        },
        {
          "output_type": "stream",
          "name": "stdout",
          "text": [
            "✓ Saved Project ID 144\n",
            "\n",
            "Fetching: https://maharerait.maharashtra.gov.in/public/project/view/145\n",
            "Captcha OCR (try 1): 6HE119\n",
            "Invalid captcha, retrying...\n",
            "Captcha OCR (try 2): GG667J\n"
          ]
        },
        {
          "output_type": "stream",
          "name": "stderr",
          "text": [
            "/tmp/ipython-input-3615969914.py:85: DeprecationWarning: The 'text' argument to find()-type methods is deprecated. Use 'string' instead.\n",
            "  el = soup.find(text=re.compile(label, re.I))\n"
          ]
        },
        {
          "output_type": "stream",
          "name": "stdout",
          "text": [
            "✓ Saved Project ID 145\n",
            "\n",
            "Fetching: https://maharerait.maharashtra.gov.in/public/project/view/146\n",
            "Captcha OCR (try 1): IOHJ50\n",
            "Invalid captcha, retrying...\n",
            "Captcha OCR (try 2): 2BIGKL\n",
            "Invalid captcha, retrying...\n",
            "Captcha canvas not found, skipping this ID.\n",
            "Skipping project 146 due to repeated captcha failures.\n",
            "\n",
            "Fetching: https://maharerait.maharashtra.gov.in/public/project/view/147\n",
            "Captcha OCR (try 1): B8F10I5\n",
            "Invalid captcha, retrying...\n",
            "Captcha OCR (try 2): N9O52NK\n",
            "Invalid captcha, retrying...\n",
            "Captcha OCR (try 3): EJ3MC4\n"
          ]
        },
        {
          "output_type": "stream",
          "name": "stderr",
          "text": [
            "/tmp/ipython-input-3615969914.py:85: DeprecationWarning: The 'text' argument to find()-type methods is deprecated. Use 'string' instead.\n",
            "  el = soup.find(text=re.compile(label, re.I))\n"
          ]
        },
        {
          "output_type": "stream",
          "name": "stdout",
          "text": [
            "✓ Saved Project ID 147\n",
            "\n",
            "Fetching: https://maharerait.maharashtra.gov.in/public/project/view/148\n",
            "Captcha OCR (try 1): C59SG7\n",
            "Invalid captcha, retrying...\n",
            "Captcha OCR (try 2): EIFI5C\n"
          ]
        },
        {
          "output_type": "stream",
          "name": "stderr",
          "text": [
            "/tmp/ipython-input-3615969914.py:85: DeprecationWarning: The 'text' argument to find()-type methods is deprecated. Use 'string' instead.\n",
            "  el = soup.find(text=re.compile(label, re.I))\n"
          ]
        },
        {
          "output_type": "stream",
          "name": "stdout",
          "text": [
            "✓ Saved Project ID 148\n",
            "\n",
            "Fetching: https://maharerait.maharashtra.gov.in/public/project/view/149\n",
            "Captcha OCR (try 1): ADDF4I\n"
          ]
        },
        {
          "output_type": "stream",
          "name": "stderr",
          "text": [
            "/tmp/ipython-input-3615969914.py:85: DeprecationWarning: The 'text' argument to find()-type methods is deprecated. Use 'string' instead.\n",
            "  el = soup.find(text=re.compile(label, re.I))\n"
          ]
        },
        {
          "output_type": "stream",
          "name": "stdout",
          "text": [
            "✓ Saved Project ID 149\n",
            "\n",
            "Fetching: https://maharerait.maharashtra.gov.in/public/project/view/150\n",
            "Captcha OCR (try 1): JDACOM\n",
            "Invalid captcha, retrying...\n",
            "Captcha OCR (try 2): 1G2NHB\n"
          ]
        },
        {
          "output_type": "stream",
          "name": "stderr",
          "text": [
            "/tmp/ipython-input-3615969914.py:85: DeprecationWarning: The 'text' argument to find()-type methods is deprecated. Use 'string' instead.\n",
            "  el = soup.find(text=re.compile(label, re.I))\n"
          ]
        },
        {
          "output_type": "stream",
          "name": "stdout",
          "text": [
            "✓ Saved Project ID 150\n",
            "\n",
            "Fetching: https://maharerait.maharashtra.gov.in/public/project/view/151\n",
            "Captcha OCR (try 1): 1146EE\n"
          ]
        },
        {
          "output_type": "stream",
          "name": "stderr",
          "text": [
            "/tmp/ipython-input-3615969914.py:85: DeprecationWarning: The 'text' argument to find()-type methods is deprecated. Use 'string' instead.\n",
            "  el = soup.find(text=re.compile(label, re.I))\n"
          ]
        },
        {
          "output_type": "stream",
          "name": "stdout",
          "text": [
            "✓ Saved Project ID 151\n",
            "\n",
            "Fetching: https://maharerait.maharashtra.gov.in/public/project/view/152\n",
            "Captcha OCR (try 1): 6GHF8J\n"
          ]
        },
        {
          "output_type": "stream",
          "name": "stderr",
          "text": [
            "/tmp/ipython-input-3615969914.py:85: DeprecationWarning: The 'text' argument to find()-type methods is deprecated. Use 'string' instead.\n",
            "  el = soup.find(text=re.compile(label, re.I))\n"
          ]
        },
        {
          "output_type": "stream",
          "name": "stdout",
          "text": [
            "✓ Saved Project ID 152\n",
            "\n",
            "Fetching: https://maharerait.maharashtra.gov.in/public/project/view/153\n",
            "Captcha OCR (try 1): CKCO9E\n",
            "Invalid captcha, retrying...\n",
            "Captcha OCR (try 2): HKJOBE\n",
            "Invalid captcha, retrying...\n",
            "Captcha OCR (try 3): NJBBIOK\n",
            "Invalid captcha, retrying...\n",
            "Skipping project 153 due to repeated captcha failures.\n",
            "\n",
            "Fetching: https://maharerait.maharashtra.gov.in/public/project/view/154\n",
            "Captcha OCR (try 1): J34H1F\n"
          ]
        },
        {
          "output_type": "stream",
          "name": "stderr",
          "text": [
            "/tmp/ipython-input-3615969914.py:85: DeprecationWarning: The 'text' argument to find()-type methods is deprecated. Use 'string' instead.\n",
            "  el = soup.find(text=re.compile(label, re.I))\n"
          ]
        },
        {
          "output_type": "stream",
          "name": "stdout",
          "text": [
            "✓ Saved Project ID 154\n",
            "\n",
            "Fetching: https://maharerait.maharashtra.gov.in/public/project/view/155\n",
            "Captcha OCR (try 1): IA2EGO\n",
            "Invalid captcha, retrying...\n",
            "Captcha OCR (try 2): CJB66B\n"
          ]
        },
        {
          "output_type": "stream",
          "name": "stderr",
          "text": [
            "/tmp/ipython-input-3615969914.py:85: DeprecationWarning: The 'text' argument to find()-type methods is deprecated. Use 'string' instead.\n",
            "  el = soup.find(text=re.compile(label, re.I))\n"
          ]
        },
        {
          "output_type": "stream",
          "name": "stdout",
          "text": [
            "✓ Saved Project ID 155\n",
            "\n",
            "Fetching: https://maharerait.maharashtra.gov.in/public/project/view/156\n",
            "Captcha OCR (try 1): EL8HIA\n",
            "Invalid captcha, retrying...\n",
            "Captcha OCR (try 2): 5CFFCC\n"
          ]
        },
        {
          "output_type": "stream",
          "name": "stderr",
          "text": [
            "/tmp/ipython-input-3615969914.py:85: DeprecationWarning: The 'text' argument to find()-type methods is deprecated. Use 'string' instead.\n",
            "  el = soup.find(text=re.compile(label, re.I))\n"
          ]
        },
        {
          "output_type": "stream",
          "name": "stdout",
          "text": [
            "✓ Saved Project ID 156\n",
            "\n",
            "Fetching: https://maharerait.maharashtra.gov.in/public/project/view/157\n",
            "Captcha OCR (try 1): DOONM8\n",
            "Invalid captcha, retrying...\n",
            "Captcha OCR (try 2): 45148D\n",
            "Invalid captcha, retrying...\n",
            "Captcha OCR (try 3): 78D949\n"
          ]
        },
        {
          "output_type": "stream",
          "name": "stderr",
          "text": [
            "/tmp/ipython-input-3615969914.py:85: DeprecationWarning: The 'text' argument to find()-type methods is deprecated. Use 'string' instead.\n",
            "  el = soup.find(text=re.compile(label, re.I))\n"
          ]
        },
        {
          "output_type": "stream",
          "name": "stdout",
          "text": [
            "✓ Saved Project ID 157\n",
            "\n",
            "Fetching: https://maharerait.maharashtra.gov.in/public/project/view/158\n",
            "Captcha OCR (try 1): FGKSML\n",
            "Invalid captcha, retrying...\n",
            "Captcha OCR (try 2): MIJ1DK\n"
          ]
        },
        {
          "output_type": "stream",
          "name": "stderr",
          "text": [
            "/tmp/ipython-input-3615969914.py:85: DeprecationWarning: The 'text' argument to find()-type methods is deprecated. Use 'string' instead.\n",
            "  el = soup.find(text=re.compile(label, re.I))\n"
          ]
        },
        {
          "output_type": "stream",
          "name": "stdout",
          "text": [
            "✓ Saved Project ID 158\n",
            "\n",
            "Fetching: https://maharerait.maharashtra.gov.in/public/project/view/159\n",
            "Captcha OCR (try 1): 15ANFG\n"
          ]
        },
        {
          "output_type": "stream",
          "name": "stderr",
          "text": [
            "/tmp/ipython-input-3615969914.py:85: DeprecationWarning: The 'text' argument to find()-type methods is deprecated. Use 'string' instead.\n",
            "  el = soup.find(text=re.compile(label, re.I))\n"
          ]
        },
        {
          "output_type": "stream",
          "name": "stdout",
          "text": [
            "✓ Saved Project ID 159\n",
            "\n",
            "Fetching: https://maharerait.maharashtra.gov.in/public/project/view/160\n",
            "Captcha OCR (try 1): 61M82H\n"
          ]
        },
        {
          "output_type": "stream",
          "name": "stderr",
          "text": [
            "/tmp/ipython-input-3615969914.py:85: DeprecationWarning: The 'text' argument to find()-type methods is deprecated. Use 'string' instead.\n",
            "  el = soup.find(text=re.compile(label, re.I))\n"
          ]
        },
        {
          "output_type": "stream",
          "name": "stdout",
          "text": [
            "✓ Saved Project ID 160\n",
            "\n",
            "Fetching: https://maharerait.maharashtra.gov.in/public/project/view/161\n",
            "Captcha OCR (try 1): N3L59F\n"
          ]
        },
        {
          "output_type": "stream",
          "name": "stderr",
          "text": [
            "/tmp/ipython-input-3615969914.py:85: DeprecationWarning: The 'text' argument to find()-type methods is deprecated. Use 'string' instead.\n",
            "  el = soup.find(text=re.compile(label, re.I))\n"
          ]
        },
        {
          "output_type": "stream",
          "name": "stdout",
          "text": [
            "✓ Saved Project ID 161\n",
            "\n",
            "Fetching: https://maharerait.maharashtra.gov.in/public/project/view/162\n",
            "Captcha OCR (try 1): 14N6J5\n"
          ]
        },
        {
          "output_type": "stream",
          "name": "stderr",
          "text": [
            "/tmp/ipython-input-3615969914.py:85: DeprecationWarning: The 'text' argument to find()-type methods is deprecated. Use 'string' instead.\n",
            "  el = soup.find(text=re.compile(label, re.I))\n"
          ]
        },
        {
          "output_type": "stream",
          "name": "stdout",
          "text": [
            "✓ Saved Project ID 162\n",
            "\n",
            "Fetching: https://maharerait.maharashtra.gov.in/public/project/view/163\n",
            "Captcha OCR (try 1): E7NGKG\n"
          ]
        },
        {
          "output_type": "stream",
          "name": "stderr",
          "text": [
            "/tmp/ipython-input-3615969914.py:85: DeprecationWarning: The 'text' argument to find()-type methods is deprecated. Use 'string' instead.\n",
            "  el = soup.find(text=re.compile(label, re.I))\n"
          ]
        },
        {
          "output_type": "stream",
          "name": "stdout",
          "text": [
            "✓ Saved Project ID 163\n",
            "\n",
            "Fetching: https://maharerait.maharashtra.gov.in/public/project/view/164\n",
            "Captcha OCR (try 1): 57C823\n"
          ]
        },
        {
          "output_type": "stream",
          "name": "stderr",
          "text": [
            "/tmp/ipython-input-3615969914.py:85: DeprecationWarning: The 'text' argument to find()-type methods is deprecated. Use 'string' instead.\n",
            "  el = soup.find(text=re.compile(label, re.I))\n"
          ]
        },
        {
          "output_type": "stream",
          "name": "stdout",
          "text": [
            "✓ Saved Project ID 164\n",
            "\n",
            "Fetching: https://maharerait.maharashtra.gov.in/public/project/view/165\n",
            "Captcha OCR (try 1): NODFJL\n",
            "Invalid captcha, retrying...\n",
            "Captcha OCR (try 2): I94EEL\n"
          ]
        },
        {
          "output_type": "stream",
          "name": "stderr",
          "text": [
            "/tmp/ipython-input-3615969914.py:85: DeprecationWarning: The 'text' argument to find()-type methods is deprecated. Use 'string' instead.\n",
            "  el = soup.find(text=re.compile(label, re.I))\n"
          ]
        },
        {
          "output_type": "stream",
          "name": "stdout",
          "text": [
            "✓ Saved Project ID 165\n",
            "\n",
            "Fetching: https://maharerait.maharashtra.gov.in/public/project/view/166\n",
            "Captcha OCR (try 1): 491J9G\n",
            "Invalid captcha, retrying...\n",
            "Captcha OCR (try 2): EOFD89\n",
            "Invalid captcha, retrying...\n",
            "Captcha OCR (try 3): 1A4IFJ\n"
          ]
        },
        {
          "output_type": "stream",
          "name": "stderr",
          "text": [
            "/tmp/ipython-input-3615969914.py:85: DeprecationWarning: The 'text' argument to find()-type methods is deprecated. Use 'string' instead.\n",
            "  el = soup.find(text=re.compile(label, re.I))\n"
          ]
        },
        {
          "output_type": "stream",
          "name": "stdout",
          "text": [
            "✓ Saved Project ID 166\n",
            "\n",
            "Fetching: https://maharerait.maharashtra.gov.in/public/project/view/167\n",
            "Captcha OCR (try 1): EDLF84\n"
          ]
        },
        {
          "output_type": "stream",
          "name": "stderr",
          "text": [
            "/tmp/ipython-input-3615969914.py:85: DeprecationWarning: The 'text' argument to find()-type methods is deprecated. Use 'string' instead.\n",
            "  el = soup.find(text=re.compile(label, re.I))\n"
          ]
        },
        {
          "output_type": "stream",
          "name": "stdout",
          "text": [
            "✓ Saved Project ID 167\n",
            "\n",
            "Fetching: https://maharerait.maharashtra.gov.in/public/project/view/168\n",
            "Captcha OCR (try 1): AL60I14\n",
            "Invalid captcha, retrying...\n",
            "Captcha OCR (try 2): COCAK7\n",
            "Invalid captcha, retrying...\n",
            "Captcha OCR (try 3): 10ADMG\n"
          ]
        },
        {
          "output_type": "stream",
          "name": "stderr",
          "text": [
            "/tmp/ipython-input-3615969914.py:85: DeprecationWarning: The 'text' argument to find()-type methods is deprecated. Use 'string' instead.\n",
            "  el = soup.find(text=re.compile(label, re.I))\n"
          ]
        },
        {
          "output_type": "stream",
          "name": "stdout",
          "text": [
            "✓ Saved Project ID 168\n",
            "\n",
            "Fetching: https://maharerait.maharashtra.gov.in/public/project/view/169\n",
            "Captcha OCR (try 1): 5KG7DE\n"
          ]
        },
        {
          "output_type": "stream",
          "name": "stderr",
          "text": [
            "/tmp/ipython-input-3615969914.py:85: DeprecationWarning: The 'text' argument to find()-type methods is deprecated. Use 'string' instead.\n",
            "  el = soup.find(text=re.compile(label, re.I))\n"
          ]
        },
        {
          "output_type": "stream",
          "name": "stdout",
          "text": [
            "✓ Saved Project ID 169\n",
            "\n",
            "Fetching: https://maharerait.maharashtra.gov.in/public/project/view/170\n",
            "Captcha OCR (try 1): CKIISMA\n",
            "Invalid captcha, retrying...\n",
            "Captcha OCR (try 2): OMKH7C\n",
            "Invalid captcha, retrying...\n",
            "Captcha OCR (try 3): 6187LN\n"
          ]
        },
        {
          "output_type": "stream",
          "name": "stderr",
          "text": [
            "/tmp/ipython-input-3615969914.py:85: DeprecationWarning: The 'text' argument to find()-type methods is deprecated. Use 'string' instead.\n",
            "  el = soup.find(text=re.compile(label, re.I))\n"
          ]
        },
        {
          "output_type": "stream",
          "name": "stdout",
          "text": [
            "✓ Saved Project ID 170\n",
            "\n",
            "Fetching: https://maharerait.maharashtra.gov.in/public/project/view/171\n",
            "Captcha OCR (try 1): HBOHH7\n",
            "Invalid captcha, retrying...\n",
            "Captcha OCR (try 2): C8813C\n"
          ]
        },
        {
          "output_type": "stream",
          "name": "stderr",
          "text": [
            "/tmp/ipython-input-3615969914.py:85: DeprecationWarning: The 'text' argument to find()-type methods is deprecated. Use 'string' instead.\n",
            "  el = soup.find(text=re.compile(label, re.I))\n"
          ]
        },
        {
          "output_type": "stream",
          "name": "stdout",
          "text": [
            "✓ Saved Project ID 171\n",
            "\n",
            "Fetching: https://maharerait.maharashtra.gov.in/public/project/view/172\n",
            "Captcha OCR (try 1): 93E799\n"
          ]
        },
        {
          "output_type": "stream",
          "name": "stderr",
          "text": [
            "/tmp/ipython-input-3615969914.py:85: DeprecationWarning: The 'text' argument to find()-type methods is deprecated. Use 'string' instead.\n",
            "  el = soup.find(text=re.compile(label, re.I))\n"
          ]
        },
        {
          "output_type": "stream",
          "name": "stdout",
          "text": [
            "✓ Saved Project ID 172\n",
            "\n",
            "Fetching: https://maharerait.maharashtra.gov.in/public/project/view/173\n",
            "Captcha OCR (try 1): 520A1E\n"
          ]
        },
        {
          "output_type": "stream",
          "name": "stderr",
          "text": [
            "/tmp/ipython-input-3615969914.py:85: DeprecationWarning: The 'text' argument to find()-type methods is deprecated. Use 'string' instead.\n",
            "  el = soup.find(text=re.compile(label, re.I))\n"
          ]
        },
        {
          "output_type": "stream",
          "name": "stdout",
          "text": [
            "✓ Saved Project ID 173\n",
            "\n",
            "Fetching: https://maharerait.maharashtra.gov.in/public/project/view/174\n",
            "Captcha OCR (try 1): NSHM3J\n",
            "Invalid captcha, retrying...\n",
            "Captcha OCR (try 2): 4HC71I1\n",
            "Invalid captcha, retrying...\n",
            "Captcha OCR (try 3): G88JDI\n"
          ]
        },
        {
          "output_type": "stream",
          "name": "stderr",
          "text": [
            "/tmp/ipython-input-3615969914.py:85: DeprecationWarning: The 'text' argument to find()-type methods is deprecated. Use 'string' instead.\n",
            "  el = soup.find(text=re.compile(label, re.I))\n"
          ]
        },
        {
          "output_type": "stream",
          "name": "stdout",
          "text": [
            "✓ Saved Project ID 174\n",
            "\n",
            "Fetching: https://maharerait.maharashtra.gov.in/public/project/view/175\n",
            "Captcha OCR (try 1): EH2F07\n"
          ]
        },
        {
          "output_type": "stream",
          "name": "stderr",
          "text": [
            "/tmp/ipython-input-3615969914.py:85: DeprecationWarning: The 'text' argument to find()-type methods is deprecated. Use 'string' instead.\n",
            "  el = soup.find(text=re.compile(label, re.I))\n"
          ]
        },
        {
          "output_type": "stream",
          "name": "stdout",
          "text": [
            "✓ Saved Project ID 175\n",
            "\n",
            "Fetching: https://maharerait.maharashtra.gov.in/public/project/view/176\n",
            "Captcha OCR (try 1): B9F13N\n"
          ]
        },
        {
          "output_type": "stream",
          "name": "stderr",
          "text": [
            "/tmp/ipython-input-3615969914.py:85: DeprecationWarning: The 'text' argument to find()-type methods is deprecated. Use 'string' instead.\n",
            "  el = soup.find(text=re.compile(label, re.I))\n"
          ]
        },
        {
          "output_type": "stream",
          "name": "stdout",
          "text": [
            "✓ Saved Project ID 176\n",
            "\n",
            "Fetching: https://maharerait.maharashtra.gov.in/public/project/view/177\n",
            "Captcha OCR (try 1): CN4DBM\n"
          ]
        },
        {
          "output_type": "stream",
          "name": "stderr",
          "text": [
            "/tmp/ipython-input-3615969914.py:85: DeprecationWarning: The 'text' argument to find()-type methods is deprecated. Use 'string' instead.\n",
            "  el = soup.find(text=re.compile(label, re.I))\n"
          ]
        },
        {
          "output_type": "stream",
          "name": "stdout",
          "text": [
            "✓ Saved Project ID 177\n",
            "\n",
            "Fetching: https://maharerait.maharashtra.gov.in/public/project/view/178\n",
            "Captcha OCR (try 1): LHCFDL\n"
          ]
        },
        {
          "output_type": "stream",
          "name": "stderr",
          "text": [
            "/tmp/ipython-input-3615969914.py:85: DeprecationWarning: The 'text' argument to find()-type methods is deprecated. Use 'string' instead.\n",
            "  el = soup.find(text=re.compile(label, re.I))\n"
          ]
        },
        {
          "output_type": "stream",
          "name": "stdout",
          "text": [
            "✓ Saved Project ID 178\n",
            "\n",
            "Fetching: https://maharerait.maharashtra.gov.in/public/project/view/179\n",
            "Captcha OCR (try 1): HHC55D\n"
          ]
        },
        {
          "output_type": "stream",
          "name": "stderr",
          "text": [
            "/tmp/ipython-input-3615969914.py:85: DeprecationWarning: The 'text' argument to find()-type methods is deprecated. Use 'string' instead.\n",
            "  el = soup.find(text=re.compile(label, re.I))\n"
          ]
        },
        {
          "output_type": "stream",
          "name": "stdout",
          "text": [
            "✓ Saved Project ID 179\n",
            "\n",
            "Fetching: https://maharerait.maharashtra.gov.in/public/project/view/180\n",
            "Captcha OCR (try 1): BSNGE8B\n",
            "Invalid captcha, retrying...\n",
            "Captcha OCR (try 2): 39HDI6\n"
          ]
        },
        {
          "output_type": "stream",
          "name": "stderr",
          "text": [
            "/tmp/ipython-input-3615969914.py:85: DeprecationWarning: The 'text' argument to find()-type methods is deprecated. Use 'string' instead.\n",
            "  el = soup.find(text=re.compile(label, re.I))\n"
          ]
        },
        {
          "output_type": "stream",
          "name": "stdout",
          "text": [
            "✓ Saved Project ID 180\n",
            "\n",
            "Fetching: https://maharerait.maharashtra.gov.in/public/project/view/181\n",
            "Captcha OCR (try 1): 5512G2\n",
            "Invalid captcha, retrying...\n",
            "Captcha OCR (try 2): EACJK1\n"
          ]
        },
        {
          "output_type": "stream",
          "name": "stderr",
          "text": [
            "/tmp/ipython-input-3615969914.py:85: DeprecationWarning: The 'text' argument to find()-type methods is deprecated. Use 'string' instead.\n",
            "  el = soup.find(text=re.compile(label, re.I))\n"
          ]
        },
        {
          "output_type": "stream",
          "name": "stdout",
          "text": [
            "✓ Saved Project ID 181\n",
            "\n",
            "Fetching: https://maharerait.maharashtra.gov.in/public/project/view/182\n",
            "Captcha OCR (try 1): D241B8\n"
          ]
        },
        {
          "output_type": "stream",
          "name": "stderr",
          "text": [
            "/tmp/ipython-input-3615969914.py:85: DeprecationWarning: The 'text' argument to find()-type methods is deprecated. Use 'string' instead.\n",
            "  el = soup.find(text=re.compile(label, re.I))\n"
          ]
        },
        {
          "output_type": "stream",
          "name": "stdout",
          "text": [
            "✓ Saved Project ID 182\n",
            "\n",
            "Fetching: https://maharerait.maharashtra.gov.in/public/project/view/183\n",
            "Captcha OCR (try 1): 1F21J3K\n",
            "Invalid captcha, retrying...\n",
            "Captcha OCR (try 2): 9ANOBE\n",
            "Invalid captcha, retrying...\n",
            "Captcha OCR (try 3): BK5186\n"
          ]
        },
        {
          "output_type": "stream",
          "name": "stderr",
          "text": [
            "/tmp/ipython-input-3615969914.py:85: DeprecationWarning: The 'text' argument to find()-type methods is deprecated. Use 'string' instead.\n",
            "  el = soup.find(text=re.compile(label, re.I))\n"
          ]
        },
        {
          "output_type": "stream",
          "name": "stdout",
          "text": [
            "✓ Saved Project ID 183\n",
            "\n",
            "Fetching: https://maharerait.maharashtra.gov.in/public/project/view/184\n",
            "Captcha OCR (try 1): M6KE9M\n"
          ]
        },
        {
          "output_type": "stream",
          "name": "stderr",
          "text": [
            "/tmp/ipython-input-3615969914.py:85: DeprecationWarning: The 'text' argument to find()-type methods is deprecated. Use 'string' instead.\n",
            "  el = soup.find(text=re.compile(label, re.I))\n"
          ]
        },
        {
          "output_type": "stream",
          "name": "stdout",
          "text": [
            "✓ Saved Project ID 184\n",
            "\n",
            "Fetching: https://maharerait.maharashtra.gov.in/public/project/view/185\n",
            "Captcha OCR (try 1): 6D2E35\n"
          ]
        },
        {
          "output_type": "stream",
          "name": "stderr",
          "text": [
            "/tmp/ipython-input-3615969914.py:85: DeprecationWarning: The 'text' argument to find()-type methods is deprecated. Use 'string' instead.\n",
            "  el = soup.find(text=re.compile(label, re.I))\n"
          ]
        },
        {
          "output_type": "stream",
          "name": "stdout",
          "text": [
            "✓ Saved Project ID 185\n",
            "\n",
            "Fetching: https://maharerait.maharashtra.gov.in/public/project/view/186\n",
            "Captcha OCR (try 1): K30INB\n"
          ]
        },
        {
          "output_type": "stream",
          "name": "stderr",
          "text": [
            "/tmp/ipython-input-3615969914.py:85: DeprecationWarning: The 'text' argument to find()-type methods is deprecated. Use 'string' instead.\n",
            "  el = soup.find(text=re.compile(label, re.I))\n"
          ]
        },
        {
          "output_type": "stream",
          "name": "stdout",
          "text": [
            "✓ Saved Project ID 186\n",
            "\n",
            "Fetching: https://maharerait.maharashtra.gov.in/public/project/view/187\n",
            "Captcha OCR (try 1): D37K9A\n"
          ]
        },
        {
          "output_type": "stream",
          "name": "stderr",
          "text": [
            "/tmp/ipython-input-3615969914.py:85: DeprecationWarning: The 'text' argument to find()-type methods is deprecated. Use 'string' instead.\n",
            "  el = soup.find(text=re.compile(label, re.I))\n"
          ]
        },
        {
          "output_type": "stream",
          "name": "stdout",
          "text": [
            "✓ Saved Project ID 187\n",
            "\n",
            "Fetching: https://maharerait.maharashtra.gov.in/public/project/view/188\n",
            "Captcha OCR (try 1): DH1A71\n"
          ]
        },
        {
          "output_type": "stream",
          "name": "stderr",
          "text": [
            "/tmp/ipython-input-3615969914.py:85: DeprecationWarning: The 'text' argument to find()-type methods is deprecated. Use 'string' instead.\n",
            "  el = soup.find(text=re.compile(label, re.I))\n"
          ]
        },
        {
          "output_type": "stream",
          "name": "stdout",
          "text": [
            "✓ Saved Project ID 188\n",
            "\n",
            "Fetching: https://maharerait.maharashtra.gov.in/public/project/view/189\n",
            "Captcha OCR (try 1): AAL7IM\n"
          ]
        },
        {
          "output_type": "stream",
          "name": "stderr",
          "text": [
            "/tmp/ipython-input-3615969914.py:85: DeprecationWarning: The 'text' argument to find()-type methods is deprecated. Use 'string' instead.\n",
            "  el = soup.find(text=re.compile(label, re.I))\n"
          ]
        },
        {
          "output_type": "stream",
          "name": "stdout",
          "text": [
            "✓ Saved Project ID 189\n",
            "\n",
            "Fetching: https://maharerait.maharashtra.gov.in/public/project/view/190\n",
            "Captcha OCR (try 1): HDAIGB\n"
          ]
        },
        {
          "output_type": "stream",
          "name": "stderr",
          "text": [
            "/tmp/ipython-input-3615969914.py:85: DeprecationWarning: The 'text' argument to find()-type methods is deprecated. Use 'string' instead.\n",
            "  el = soup.find(text=re.compile(label, re.I))\n"
          ]
        },
        {
          "output_type": "stream",
          "name": "stdout",
          "text": [
            "✓ Saved Project ID 190\n",
            "\n",
            "Fetching: https://maharerait.maharashtra.gov.in/public/project/view/191\n",
            "Captcha OCR (try 1): DLFCDB\n"
          ]
        },
        {
          "output_type": "stream",
          "name": "stderr",
          "text": [
            "/tmp/ipython-input-3615969914.py:85: DeprecationWarning: The 'text' argument to find()-type methods is deprecated. Use 'string' instead.\n",
            "  el = soup.find(text=re.compile(label, re.I))\n"
          ]
        },
        {
          "output_type": "stream",
          "name": "stdout",
          "text": [
            "✓ Saved Project ID 191\n",
            "\n",
            "Fetching: https://maharerait.maharashtra.gov.in/public/project/view/192\n",
            "Captcha OCR (try 1): NB7D13\n"
          ]
        },
        {
          "output_type": "stream",
          "name": "stderr",
          "text": [
            "/tmp/ipython-input-3615969914.py:85: DeprecationWarning: The 'text' argument to find()-type methods is deprecated. Use 'string' instead.\n",
            "  el = soup.find(text=re.compile(label, re.I))\n"
          ]
        },
        {
          "output_type": "stream",
          "name": "stdout",
          "text": [
            "✓ Saved Project ID 192\n",
            "\n",
            "Fetching: https://maharerait.maharashtra.gov.in/public/project/view/193\n",
            "Captcha OCR (try 1): F310AC\n",
            "Invalid captcha, retrying...\n",
            "Captcha OCR (try 2): LN2F60\n"
          ]
        },
        {
          "output_type": "stream",
          "name": "stderr",
          "text": [
            "/tmp/ipython-input-3615969914.py:85: DeprecationWarning: The 'text' argument to find()-type methods is deprecated. Use 'string' instead.\n",
            "  el = soup.find(text=re.compile(label, re.I))\n"
          ]
        },
        {
          "output_type": "stream",
          "name": "stdout",
          "text": [
            "✓ Saved Project ID 193\n",
            "\n",
            "Fetching: https://maharerait.maharashtra.gov.in/public/project/view/194\n",
            "Captcha OCR (try 1): 55KOK1\n",
            "Invalid captcha, retrying...\n",
            "Captcha OCR (try 2): NN2M97\n"
          ]
        },
        {
          "output_type": "stream",
          "name": "stderr",
          "text": [
            "/tmp/ipython-input-3615969914.py:85: DeprecationWarning: The 'text' argument to find()-type methods is deprecated. Use 'string' instead.\n",
            "  el = soup.find(text=re.compile(label, re.I))\n"
          ]
        },
        {
          "output_type": "stream",
          "name": "stdout",
          "text": [
            "✓ Saved Project ID 194\n",
            "\n",
            "Fetching: https://maharerait.maharashtra.gov.in/public/project/view/195\n",
            "Captcha OCR (try 1): FLC7H2\n"
          ]
        },
        {
          "output_type": "stream",
          "name": "stderr",
          "text": [
            "/tmp/ipython-input-3615969914.py:85: DeprecationWarning: The 'text' argument to find()-type methods is deprecated. Use 'string' instead.\n",
            "  el = soup.find(text=re.compile(label, re.I))\n"
          ]
        },
        {
          "output_type": "stream",
          "name": "stdout",
          "text": [
            "✓ Saved Project ID 195\n",
            "\n",
            "Fetching: https://maharerait.maharashtra.gov.in/public/project/view/196\n",
            "Captcha OCR (try 1): DOKJLL\n",
            "Invalid captcha, retrying...\n",
            "Captcha OCR (try 2): MS54AA3\n",
            "Invalid captcha, retrying...\n",
            "Captcha OCR (try 3): 3AMA1D\n"
          ]
        },
        {
          "output_type": "stream",
          "name": "stderr",
          "text": [
            "/tmp/ipython-input-3615969914.py:85: DeprecationWarning: The 'text' argument to find()-type methods is deprecated. Use 'string' instead.\n",
            "  el = soup.find(text=re.compile(label, re.I))\n"
          ]
        },
        {
          "output_type": "stream",
          "name": "stdout",
          "text": [
            "✓ Saved Project ID 196\n",
            "\n",
            "Fetching: https://maharerait.maharashtra.gov.in/public/project/view/197\n",
            "Captcha OCR (try 1): OJJIBJF\n",
            "Invalid captcha, retrying...\n",
            "Captcha OCR (try 2): CFO6BN\n",
            "Invalid captcha, retrying...\n",
            "Captcha OCR (try 3): 5EF820\n"
          ]
        },
        {
          "output_type": "stream",
          "name": "stderr",
          "text": [
            "/tmp/ipython-input-3615969914.py:85: DeprecationWarning: The 'text' argument to find()-type methods is deprecated. Use 'string' instead.\n",
            "  el = soup.find(text=re.compile(label, re.I))\n"
          ]
        },
        {
          "output_type": "stream",
          "name": "stdout",
          "text": [
            "✓ Saved Project ID 197\n",
            "\n",
            "Fetching: https://maharerait.maharashtra.gov.in/public/project/view/198\n",
            "Captcha OCR (try 1): B4F71H\n",
            "Invalid captcha, retrying...\n",
            "Captcha OCR (try 2): 208H4A\n"
          ]
        },
        {
          "output_type": "stream",
          "name": "stderr",
          "text": [
            "/tmp/ipython-input-3615969914.py:85: DeprecationWarning: The 'text' argument to find()-type methods is deprecated. Use 'string' instead.\n",
            "  el = soup.find(text=re.compile(label, re.I))\n"
          ]
        },
        {
          "output_type": "stream",
          "name": "stdout",
          "text": [
            "✓ Saved Project ID 198\n",
            "\n",
            "Fetching: https://maharerait.maharashtra.gov.in/public/project/view/199\n",
            "Captcha OCR (try 1): ENO4KI\n",
            "Invalid captcha, retrying...\n",
            "Captcha OCR (try 2): DN20M8\n"
          ]
        },
        {
          "output_type": "stream",
          "name": "stderr",
          "text": [
            "/tmp/ipython-input-3615969914.py:85: DeprecationWarning: The 'text' argument to find()-type methods is deprecated. Use 'string' instead.\n",
            "  el = soup.find(text=re.compile(label, re.I))\n"
          ]
        },
        {
          "output_type": "stream",
          "name": "stdout",
          "text": [
            "✓ Saved Project ID 199\n",
            "\n",
            "Fetching: https://maharerait.maharashtra.gov.in/public/project/view/200\n",
            "Captcha OCR (try 1): 911L97\n",
            "Invalid captcha, retrying...\n",
            "Captcha OCR (try 2): 3C3EKA\n"
          ]
        },
        {
          "output_type": "stream",
          "name": "stderr",
          "text": [
            "/tmp/ipython-input-3615969914.py:85: DeprecationWarning: The 'text' argument to find()-type methods is deprecated. Use 'string' instead.\n",
            "  el = soup.find(text=re.compile(label, re.I))\n"
          ]
        },
        {
          "output_type": "stream",
          "name": "stdout",
          "text": [
            "✓ Saved Project ID 200\n",
            "\n",
            "Fetching: https://maharerait.maharashtra.gov.in/public/project/view/201\n",
            "Captcha OCR (try 1): FN6412\n"
          ]
        },
        {
          "output_type": "stream",
          "name": "stderr",
          "text": [
            "/tmp/ipython-input-3615969914.py:85: DeprecationWarning: The 'text' argument to find()-type methods is deprecated. Use 'string' instead.\n",
            "  el = soup.find(text=re.compile(label, re.I))\n"
          ]
        },
        {
          "output_type": "stream",
          "name": "stdout",
          "text": [
            "✓ Saved Project ID 201\n",
            "\n",
            "Fetching: https://maharerait.maharashtra.gov.in/public/project/view/202\n",
            "Captcha OCR (try 1): 5618JC\n"
          ]
        },
        {
          "output_type": "stream",
          "name": "stderr",
          "text": [
            "/tmp/ipython-input-3615969914.py:85: DeprecationWarning: The 'text' argument to find()-type methods is deprecated. Use 'string' instead.\n",
            "  el = soup.find(text=re.compile(label, re.I))\n"
          ]
        },
        {
          "output_type": "stream",
          "name": "stdout",
          "text": [
            "✓ Saved Project ID 202\n",
            "\n",
            "Fetching: https://maharerait.maharashtra.gov.in/public/project/view/203\n",
            "Captcha OCR (try 1): BESI77\n",
            "Invalid captcha, retrying...\n",
            "Captcha OCR (try 2): K8MFL2\n"
          ]
        },
        {
          "output_type": "stream",
          "name": "stderr",
          "text": [
            "/tmp/ipython-input-3615969914.py:85: DeprecationWarning: The 'text' argument to find()-type methods is deprecated. Use 'string' instead.\n",
            "  el = soup.find(text=re.compile(label, re.I))\n"
          ]
        },
        {
          "output_type": "stream",
          "name": "stdout",
          "text": [
            "✓ Saved Project ID 203\n",
            "\n",
            "Fetching: https://maharerait.maharashtra.gov.in/public/project/view/204\n",
            "Captcha OCR (try 1): 4BBGEN\n",
            "Invalid captcha, retrying...\n",
            "Captcha OCR (try 2): BBAGG6GB\n",
            "Invalid captcha, retrying...\n",
            "Captcha OCR (try 3): IGFLHJ\n",
            "Invalid captcha, retrying...\n",
            "Skipping project 204 due to repeated captcha failures.\n",
            "\n",
            "Fetching: https://maharerait.maharashtra.gov.in/public/project/view/205\n",
            "Captcha OCR (try 1): LSO4JEI\n",
            "Invalid captcha, retrying...\n",
            "Captcha OCR (try 2): MM4C4A\n"
          ]
        },
        {
          "output_type": "stream",
          "name": "stderr",
          "text": [
            "/tmp/ipython-input-3615969914.py:85: DeprecationWarning: The 'text' argument to find()-type methods is deprecated. Use 'string' instead.\n",
            "  el = soup.find(text=re.compile(label, re.I))\n"
          ]
        },
        {
          "output_type": "stream",
          "name": "stdout",
          "text": [
            "✓ Saved Project ID 205\n",
            "\n",
            "Fetching: https://maharerait.maharashtra.gov.in/public/project/view/206\n",
            "Captcha OCR (try 1): NCSB2A\n",
            "Invalid captcha, retrying...\n",
            "Captcha OCR (try 2): 5DB4G1\n"
          ]
        },
        {
          "output_type": "stream",
          "name": "stderr",
          "text": [
            "/tmp/ipython-input-3615969914.py:85: DeprecationWarning: The 'text' argument to find()-type methods is deprecated. Use 'string' instead.\n",
            "  el = soup.find(text=re.compile(label, re.I))\n"
          ]
        },
        {
          "output_type": "stream",
          "name": "stdout",
          "text": [
            "✓ Saved Project ID 206\n",
            "\n",
            "Fetching: https://maharerait.maharashtra.gov.in/public/project/view/207\n",
            "Captcha OCR (try 1): 1355338\n",
            "Invalid captcha, retrying...\n",
            "Captcha OCR (try 2): AE4AGA\n"
          ]
        },
        {
          "output_type": "stream",
          "name": "stderr",
          "text": [
            "/tmp/ipython-input-3615969914.py:85: DeprecationWarning: The 'text' argument to find()-type methods is deprecated. Use 'string' instead.\n",
            "  el = soup.find(text=re.compile(label, re.I))\n"
          ]
        },
        {
          "output_type": "stream",
          "name": "stdout",
          "text": [
            "✓ Saved Project ID 207\n",
            "\n",
            "Fetching: https://maharerait.maharashtra.gov.in/public/project/view/208\n",
            "Captcha OCR (try 1): B61MJK\n",
            "Invalid captcha, retrying...\n",
            "Captcha OCR (try 2): L9DM50\n"
          ]
        },
        {
          "output_type": "stream",
          "name": "stderr",
          "text": [
            "/tmp/ipython-input-3615969914.py:85: DeprecationWarning: The 'text' argument to find()-type methods is deprecated. Use 'string' instead.\n",
            "  el = soup.find(text=re.compile(label, re.I))\n"
          ]
        },
        {
          "output_type": "stream",
          "name": "stdout",
          "text": [
            "✓ Saved Project ID 208\n",
            "\n",
            "Fetching: https://maharerait.maharashtra.gov.in/public/project/view/209\n",
            "Captcha OCR (try 1): 3M220K\n"
          ]
        },
        {
          "output_type": "stream",
          "name": "stderr",
          "text": [
            "/tmp/ipython-input-3615969914.py:85: DeprecationWarning: The 'text' argument to find()-type methods is deprecated. Use 'string' instead.\n",
            "  el = soup.find(text=re.compile(label, re.I))\n"
          ]
        },
        {
          "output_type": "stream",
          "name": "stdout",
          "text": [
            "✓ Saved Project ID 209\n",
            "\n",
            "Fetching: https://maharerait.maharashtra.gov.in/public/project/view/210\n",
            "Captcha OCR (try 1): B3FOFH\n",
            "Invalid captcha, retrying...\n",
            "Captcha OCR (try 2): 6JEHJJ\n"
          ]
        },
        {
          "output_type": "stream",
          "name": "stderr",
          "text": [
            "/tmp/ipython-input-3615969914.py:85: DeprecationWarning: The 'text' argument to find()-type methods is deprecated. Use 'string' instead.\n",
            "  el = soup.find(text=re.compile(label, re.I))\n"
          ]
        },
        {
          "output_type": "stream",
          "name": "stdout",
          "text": [
            "✓ Saved Project ID 210\n",
            "\n",
            "Fetching: https://maharerait.maharashtra.gov.in/public/project/view/211\n",
            "Captcha OCR (try 1): L81ED7\n"
          ]
        },
        {
          "output_type": "stream",
          "name": "stderr",
          "text": [
            "/tmp/ipython-input-3615969914.py:85: DeprecationWarning: The 'text' argument to find()-type methods is deprecated. Use 'string' instead.\n",
            "  el = soup.find(text=re.compile(label, re.I))\n"
          ]
        },
        {
          "output_type": "stream",
          "name": "stdout",
          "text": [
            "✓ Saved Project ID 211\n",
            "\n",
            "Fetching: https://maharerait.maharashtra.gov.in/public/project/view/212\n",
            "Captcha OCR (try 1): EBHCHK\n"
          ]
        },
        {
          "output_type": "stream",
          "name": "stderr",
          "text": [
            "/tmp/ipython-input-3615969914.py:85: DeprecationWarning: The 'text' argument to find()-type methods is deprecated. Use 'string' instead.\n",
            "  el = soup.find(text=re.compile(label, re.I))\n"
          ]
        },
        {
          "output_type": "stream",
          "name": "stdout",
          "text": [
            "✓ Saved Project ID 212\n",
            "\n",
            "Fetching: https://maharerait.maharashtra.gov.in/public/project/view/213\n",
            "Captcha OCR (try 1): 406LCO\n",
            "Invalid captcha, retrying...\n",
            "Captcha OCR (try 2): 223NHG\n"
          ]
        },
        {
          "output_type": "stream",
          "name": "stderr",
          "text": [
            "/tmp/ipython-input-3615969914.py:85: DeprecationWarning: The 'text' argument to find()-type methods is deprecated. Use 'string' instead.\n",
            "  el = soup.find(text=re.compile(label, re.I))\n"
          ]
        },
        {
          "output_type": "stream",
          "name": "stdout",
          "text": [
            "✓ Saved Project ID 213\n",
            "\n",
            "Fetching: https://maharerait.maharashtra.gov.in/public/project/view/214\n",
            "Captcha OCR (try 1): M72E1A\n"
          ]
        },
        {
          "output_type": "stream",
          "name": "stderr",
          "text": [
            "/tmp/ipython-input-3615969914.py:85: DeprecationWarning: The 'text' argument to find()-type methods is deprecated. Use 'string' instead.\n",
            "  el = soup.find(text=re.compile(label, re.I))\n"
          ]
        },
        {
          "output_type": "stream",
          "name": "stdout",
          "text": [
            "✓ Saved Project ID 214\n",
            "\n",
            "Fetching: https://maharerait.maharashtra.gov.in/public/project/view/215\n",
            "Captcha OCR (try 1): HH2KN1\n"
          ]
        },
        {
          "output_type": "stream",
          "name": "stderr",
          "text": [
            "/tmp/ipython-input-3615969914.py:85: DeprecationWarning: The 'text' argument to find()-type methods is deprecated. Use 'string' instead.\n",
            "  el = soup.find(text=re.compile(label, re.I))\n"
          ]
        },
        {
          "output_type": "stream",
          "name": "stdout",
          "text": [
            "✓ Saved Project ID 215\n",
            "\n",
            "Fetching: https://maharerait.maharashtra.gov.in/public/project/view/216\n",
            "Captcha OCR (try 1): 3GCAKH\n"
          ]
        },
        {
          "output_type": "stream",
          "name": "stderr",
          "text": [
            "/tmp/ipython-input-3615969914.py:85: DeprecationWarning: The 'text' argument to find()-type methods is deprecated. Use 'string' instead.\n",
            "  el = soup.find(text=re.compile(label, re.I))\n"
          ]
        },
        {
          "output_type": "stream",
          "name": "stdout",
          "text": [
            "✓ Saved Project ID 216\n",
            "\n",
            "Fetching: https://maharerait.maharashtra.gov.in/public/project/view/217\n",
            "Captcha OCR (try 1): I14MLBG\n",
            "Invalid captcha, retrying...\n",
            "Captcha OCR (try 2): 1F50GK\n"
          ]
        },
        {
          "output_type": "stream",
          "name": "stderr",
          "text": [
            "/tmp/ipython-input-3615969914.py:85: DeprecationWarning: The 'text' argument to find()-type methods is deprecated. Use 'string' instead.\n",
            "  el = soup.find(text=re.compile(label, re.I))\n"
          ]
        },
        {
          "output_type": "stream",
          "name": "stdout",
          "text": [
            "✓ Saved Project ID 217\n",
            "\n",
            "Fetching: https://maharerait.maharashtra.gov.in/public/project/view/218\n",
            "Captcha OCR (try 1): MLYKE2\n",
            "Invalid captcha, retrying...\n",
            "Captcha OCR (try 2): FOSB77\n",
            "Invalid captcha, retrying...\n",
            "Captcha OCR (try 3): NLG7BK\n"
          ]
        },
        {
          "output_type": "stream",
          "name": "stderr",
          "text": [
            "/tmp/ipython-input-3615969914.py:85: DeprecationWarning: The 'text' argument to find()-type methods is deprecated. Use 'string' instead.\n",
            "  el = soup.find(text=re.compile(label, re.I))\n"
          ]
        },
        {
          "output_type": "stream",
          "name": "stdout",
          "text": [
            "✓ Saved Project ID 218\n",
            "\n",
            "Fetching: https://maharerait.maharashtra.gov.in/public/project/view/219\n",
            "Captcha OCR (try 1): 129G35\n",
            "Invalid captcha, retrying...\n",
            "Captcha OCR (try 2): KIHACI\n",
            "Invalid captcha, retrying...\n",
            "Captcha OCR (try 3): IL7F65\n"
          ]
        },
        {
          "output_type": "stream",
          "name": "stderr",
          "text": [
            "/tmp/ipython-input-3615969914.py:85: DeprecationWarning: The 'text' argument to find()-type methods is deprecated. Use 'string' instead.\n",
            "  el = soup.find(text=re.compile(label, re.I))\n"
          ]
        },
        {
          "output_type": "stream",
          "name": "stdout",
          "text": [
            "✓ Saved Project ID 219\n",
            "\n",
            "Fetching: https://maharerait.maharashtra.gov.in/public/project/view/220\n",
            "Captcha OCR (try 1): 6CS5H1J\n",
            "Invalid captcha, retrying...\n",
            "Captcha OCR (try 2): GD5117\n",
            "Invalid captcha, retrying...\n",
            "Captcha OCR (try 3): JMMGDO\n",
            "Invalid captcha, retrying...\n",
            "Skipping project 220 due to repeated captcha failures.\n",
            "\n",
            "Fetching: https://maharerait.maharashtra.gov.in/public/project/view/221\n",
            "Captcha OCR (try 1): GI3L3F\n"
          ]
        },
        {
          "output_type": "stream",
          "name": "stderr",
          "text": [
            "/tmp/ipython-input-3615969914.py:85: DeprecationWarning: The 'text' argument to find()-type methods is deprecated. Use 'string' instead.\n",
            "  el = soup.find(text=re.compile(label, re.I))\n"
          ]
        },
        {
          "output_type": "stream",
          "name": "stdout",
          "text": [
            "✓ Saved Project ID 221\n",
            "\n",
            "Fetching: https://maharerait.maharashtra.gov.in/public/project/view/222\n",
            "Captcha OCR (try 1): L9E2ID\n"
          ]
        },
        {
          "output_type": "stream",
          "name": "stderr",
          "text": [
            "/tmp/ipython-input-3615969914.py:85: DeprecationWarning: The 'text' argument to find()-type methods is deprecated. Use 'string' instead.\n",
            "  el = soup.find(text=re.compile(label, re.I))\n"
          ]
        },
        {
          "output_type": "stream",
          "name": "stdout",
          "text": [
            "✓ Saved Project ID 222\n",
            "\n",
            "Fetching: https://maharerait.maharashtra.gov.in/public/project/view/223\n",
            "Captcha OCR (try 1): LIJBSH\n",
            "Invalid captcha, retrying...\n",
            "Captcha OCR (try 2): 7GE4NL\n"
          ]
        },
        {
          "output_type": "stream",
          "name": "stderr",
          "text": [
            "/tmp/ipython-input-3615969914.py:85: DeprecationWarning: The 'text' argument to find()-type methods is deprecated. Use 'string' instead.\n",
            "  el = soup.find(text=re.compile(label, re.I))\n"
          ]
        },
        {
          "output_type": "stream",
          "name": "stdout",
          "text": [
            "✓ Saved Project ID 223\n",
            "\n",
            "Fetching: https://maharerait.maharashtra.gov.in/public/project/view/224\n",
            "Captcha OCR (try 1): NGOFBI1\n",
            "Invalid captcha, retrying...\n",
            "Captcha OCR (try 2): DCYI6N\n",
            "Invalid captcha, retrying...\n",
            "Captcha OCR (try 3): J3HLO1\n",
            "Invalid captcha, retrying...\n",
            "Skipping project 224 due to repeated captcha failures.\n",
            "\n",
            "Fetching: https://maharerait.maharashtra.gov.in/public/project/view/225\n",
            "Captcha OCR (try 1): GC6FH7\n"
          ]
        },
        {
          "output_type": "stream",
          "name": "stderr",
          "text": [
            "/tmp/ipython-input-3615969914.py:85: DeprecationWarning: The 'text' argument to find()-type methods is deprecated. Use 'string' instead.\n",
            "  el = soup.find(text=re.compile(label, re.I))\n"
          ]
        },
        {
          "output_type": "stream",
          "name": "stdout",
          "text": [
            "✓ Saved Project ID 225\n",
            "\n",
            "Fetching: https://maharerait.maharashtra.gov.in/public/project/view/226\n",
            "Captcha OCR (try 1): LEIMDJ\n"
          ]
        },
        {
          "output_type": "stream",
          "name": "stderr",
          "text": [
            "/tmp/ipython-input-3615969914.py:85: DeprecationWarning: The 'text' argument to find()-type methods is deprecated. Use 'string' instead.\n",
            "  el = soup.find(text=re.compile(label, re.I))\n"
          ]
        },
        {
          "output_type": "stream",
          "name": "stdout",
          "text": [
            "✓ Saved Project ID 226\n",
            "\n",
            "Fetching: https://maharerait.maharashtra.gov.in/public/project/view/227\n",
            "Captcha OCR (try 1): ALN3AC\n"
          ]
        },
        {
          "output_type": "stream",
          "name": "stderr",
          "text": [
            "/tmp/ipython-input-3615969914.py:85: DeprecationWarning: The 'text' argument to find()-type methods is deprecated. Use 'string' instead.\n",
            "  el = soup.find(text=re.compile(label, re.I))\n"
          ]
        },
        {
          "output_type": "stream",
          "name": "stdout",
          "text": [
            "✓ Saved Project ID 227\n",
            "\n",
            "Fetching: https://maharerait.maharashtra.gov.in/public/project/view/228\n",
            "Captcha OCR (try 1): NSE7GN\n",
            "Invalid captcha, retrying...\n",
            "Captcha OCR (try 2): B8J3112\n",
            "Invalid captcha, retrying...\n",
            "Captcha OCR (try 3): 6NFH7C\n"
          ]
        },
        {
          "output_type": "stream",
          "name": "stderr",
          "text": [
            "/tmp/ipython-input-3615969914.py:85: DeprecationWarning: The 'text' argument to find()-type methods is deprecated. Use 'string' instead.\n",
            "  el = soup.find(text=re.compile(label, re.I))\n"
          ]
        },
        {
          "output_type": "stream",
          "name": "stdout",
          "text": [
            "✓ Saved Project ID 228\n",
            "\n",
            "Fetching: https://maharerait.maharashtra.gov.in/public/project/view/229\n",
            "Captcha OCR (try 1): HNGL19\n"
          ]
        },
        {
          "output_type": "stream",
          "name": "stderr",
          "text": [
            "/tmp/ipython-input-3615969914.py:85: DeprecationWarning: The 'text' argument to find()-type methods is deprecated. Use 'string' instead.\n",
            "  el = soup.find(text=re.compile(label, re.I))\n"
          ]
        },
        {
          "output_type": "stream",
          "name": "stdout",
          "text": [
            "✓ Saved Project ID 229\n",
            "\n",
            "Fetching: https://maharerait.maharashtra.gov.in/public/project/view/230\n",
            "Captcha OCR (try 1): FB3MKM\n"
          ]
        },
        {
          "output_type": "stream",
          "name": "stderr",
          "text": [
            "/tmp/ipython-input-3615969914.py:85: DeprecationWarning: The 'text' argument to find()-type methods is deprecated. Use 'string' instead.\n",
            "  el = soup.find(text=re.compile(label, re.I))\n"
          ]
        },
        {
          "output_type": "stream",
          "name": "stdout",
          "text": [
            "✓ Saved Project ID 230\n",
            "\n",
            "Fetching: https://maharerait.maharashtra.gov.in/public/project/view/231\n",
            "Captcha OCR (try 1): 4DNA8F\n"
          ]
        },
        {
          "output_type": "stream",
          "name": "stderr",
          "text": [
            "/tmp/ipython-input-3615969914.py:85: DeprecationWarning: The 'text' argument to find()-type methods is deprecated. Use 'string' instead.\n",
            "  el = soup.find(text=re.compile(label, re.I))\n"
          ]
        },
        {
          "output_type": "stream",
          "name": "stdout",
          "text": [
            "✓ Saved Project ID 231\n",
            "\n",
            "Fetching: https://maharerait.maharashtra.gov.in/public/project/view/232\n",
            "Captcha OCR (try 1): 2LLGH5\n"
          ]
        },
        {
          "output_type": "stream",
          "name": "stderr",
          "text": [
            "/tmp/ipython-input-3615969914.py:85: DeprecationWarning: The 'text' argument to find()-type methods is deprecated. Use 'string' instead.\n",
            "  el = soup.find(text=re.compile(label, re.I))\n"
          ]
        },
        {
          "output_type": "stream",
          "name": "stdout",
          "text": [
            "✓ Saved Project ID 232\n",
            "\n",
            "Fetching: https://maharerait.maharashtra.gov.in/public/project/view/233\n",
            "Captcha OCR (try 1): IC5J9H\n"
          ]
        },
        {
          "output_type": "stream",
          "name": "stderr",
          "text": [
            "/tmp/ipython-input-3615969914.py:85: DeprecationWarning: The 'text' argument to find()-type methods is deprecated. Use 'string' instead.\n",
            "  el = soup.find(text=re.compile(label, re.I))\n"
          ]
        },
        {
          "output_type": "stream",
          "name": "stdout",
          "text": [
            "✓ Saved Project ID 233\n",
            "\n",
            "Fetching: https://maharerait.maharashtra.gov.in/public/project/view/234\n",
            "Captcha OCR (try 1): 578H75\n"
          ]
        },
        {
          "output_type": "stream",
          "name": "stderr",
          "text": [
            "/tmp/ipython-input-3615969914.py:85: DeprecationWarning: The 'text' argument to find()-type methods is deprecated. Use 'string' instead.\n",
            "  el = soup.find(text=re.compile(label, re.I))\n"
          ]
        },
        {
          "output_type": "stream",
          "name": "stdout",
          "text": [
            "✓ Saved Project ID 234\n",
            "\n",
            "Fetching: https://maharerait.maharashtra.gov.in/public/project/view/235\n",
            "Captcha OCR (try 1): E5946G\n"
          ]
        },
        {
          "output_type": "stream",
          "name": "stderr",
          "text": [
            "/tmp/ipython-input-3615969914.py:85: DeprecationWarning: The 'text' argument to find()-type methods is deprecated. Use 'string' instead.\n",
            "  el = soup.find(text=re.compile(label, re.I))\n"
          ]
        },
        {
          "output_type": "stream",
          "name": "stdout",
          "text": [
            "✓ Saved Project ID 235\n",
            "\n",
            "Fetching: https://maharerait.maharashtra.gov.in/public/project/view/236\n",
            "Captcha OCR (try 1): 2K7KA5\n"
          ]
        },
        {
          "output_type": "stream",
          "name": "stderr",
          "text": [
            "/tmp/ipython-input-3615969914.py:85: DeprecationWarning: The 'text' argument to find()-type methods is deprecated. Use 'string' instead.\n",
            "  el = soup.find(text=re.compile(label, re.I))\n"
          ]
        },
        {
          "output_type": "stream",
          "name": "stdout",
          "text": [
            "✓ Saved Project ID 236\n",
            "\n",
            "Fetching: https://maharerait.maharashtra.gov.in/public/project/view/237\n",
            "Captcha OCR (try 1): C3F4DM\n"
          ]
        },
        {
          "output_type": "stream",
          "name": "stderr",
          "text": [
            "/tmp/ipython-input-3615969914.py:85: DeprecationWarning: The 'text' argument to find()-type methods is deprecated. Use 'string' instead.\n",
            "  el = soup.find(text=re.compile(label, re.I))\n"
          ]
        },
        {
          "output_type": "stream",
          "name": "stdout",
          "text": [
            "✓ Saved Project ID 237\n",
            "\n",
            "Fetching: https://maharerait.maharashtra.gov.in/public/project/view/238\n",
            "Captcha OCR (try 1): 26BKEB\n"
          ]
        },
        {
          "output_type": "stream",
          "name": "stderr",
          "text": [
            "/tmp/ipython-input-3615969914.py:85: DeprecationWarning: The 'text' argument to find()-type methods is deprecated. Use 'string' instead.\n",
            "  el = soup.find(text=re.compile(label, re.I))\n"
          ]
        },
        {
          "output_type": "stream",
          "name": "stdout",
          "text": [
            "✓ Saved Project ID 238\n",
            "\n",
            "Fetching: https://maharerait.maharashtra.gov.in/public/project/view/239\n",
            "Captcha OCR (try 1): 35606K\n"
          ]
        },
        {
          "output_type": "stream",
          "name": "stderr",
          "text": [
            "/tmp/ipython-input-3615969914.py:85: DeprecationWarning: The 'text' argument to find()-type methods is deprecated. Use 'string' instead.\n",
            "  el = soup.find(text=re.compile(label, re.I))\n"
          ]
        },
        {
          "output_type": "stream",
          "name": "stdout",
          "text": [
            "✓ Saved Project ID 239\n",
            "\n",
            "Fetching: https://maharerait.maharashtra.gov.in/public/project/view/240\n",
            "Captcha OCR (try 1): 43L22J\n"
          ]
        },
        {
          "output_type": "stream",
          "name": "stderr",
          "text": [
            "/tmp/ipython-input-3615969914.py:85: DeprecationWarning: The 'text' argument to find()-type methods is deprecated. Use 'string' instead.\n",
            "  el = soup.find(text=re.compile(label, re.I))\n"
          ]
        },
        {
          "output_type": "stream",
          "name": "stdout",
          "text": [
            "✓ Saved Project ID 240\n",
            "\n",
            "Fetching: https://maharerait.maharashtra.gov.in/public/project/view/241\n",
            "Captcha OCR (try 1): M5CG73\n"
          ]
        },
        {
          "output_type": "stream",
          "name": "stderr",
          "text": [
            "/tmp/ipython-input-3615969914.py:85: DeprecationWarning: The 'text' argument to find()-type methods is deprecated. Use 'string' instead.\n",
            "  el = soup.find(text=re.compile(label, re.I))\n"
          ]
        },
        {
          "output_type": "stream",
          "name": "stdout",
          "text": [
            "✓ Saved Project ID 241\n",
            "\n",
            "Fetching: https://maharerait.maharashtra.gov.in/public/project/view/242\n",
            "Captcha OCR (try 1): BEESC2\n",
            "Invalid captcha, retrying...\n",
            "Captcha OCR (try 2): 8369EM\n"
          ]
        },
        {
          "output_type": "stream",
          "name": "stderr",
          "text": [
            "/tmp/ipython-input-3615969914.py:85: DeprecationWarning: The 'text' argument to find()-type methods is deprecated. Use 'string' instead.\n",
            "  el = soup.find(text=re.compile(label, re.I))\n"
          ]
        },
        {
          "output_type": "stream",
          "name": "stdout",
          "text": [
            "✓ Saved Project ID 242\n",
            "\n",
            "Fetching: https://maharerait.maharashtra.gov.in/public/project/view/243\n",
            "Captcha OCR (try 1): 9FEDA7\n"
          ]
        },
        {
          "output_type": "stream",
          "name": "stderr",
          "text": [
            "/tmp/ipython-input-3615969914.py:85: DeprecationWarning: The 'text' argument to find()-type methods is deprecated. Use 'string' instead.\n",
            "  el = soup.find(text=re.compile(label, re.I))\n"
          ]
        },
        {
          "output_type": "stream",
          "name": "stdout",
          "text": [
            "✓ Saved Project ID 243\n",
            "\n",
            "Fetching: https://maharerait.maharashtra.gov.in/public/project/view/244\n",
            "Captcha OCR (try 1): SILLGS\n",
            "Invalid captcha, retrying...\n",
            "Captcha OCR (try 2): 3E2CJM\n"
          ]
        },
        {
          "output_type": "stream",
          "name": "stderr",
          "text": [
            "/tmp/ipython-input-3615969914.py:85: DeprecationWarning: The 'text' argument to find()-type methods is deprecated. Use 'string' instead.\n",
            "  el = soup.find(text=re.compile(label, re.I))\n"
          ]
        },
        {
          "output_type": "stream",
          "name": "stdout",
          "text": [
            "✓ Saved Project ID 244\n",
            "\n",
            "Fetching: https://maharerait.maharashtra.gov.in/public/project/view/245\n",
            "Captcha OCR (try 1): H535H1\n"
          ]
        },
        {
          "output_type": "stream",
          "name": "stderr",
          "text": [
            "/tmp/ipython-input-3615969914.py:85: DeprecationWarning: The 'text' argument to find()-type methods is deprecated. Use 'string' instead.\n",
            "  el = soup.find(text=re.compile(label, re.I))\n"
          ]
        },
        {
          "output_type": "stream",
          "name": "stdout",
          "text": [
            "✓ Saved Project ID 245\n",
            "\n",
            "Fetching: https://maharerait.maharashtra.gov.in/public/project/view/246\n",
            "Captcha OCR (try 1): 7TAL5S27\n",
            "Invalid captcha, retrying...\n",
            "Captcha OCR (try 2): 1G9INC\n"
          ]
        },
        {
          "output_type": "stream",
          "name": "stderr",
          "text": [
            "/tmp/ipython-input-3615969914.py:85: DeprecationWarning: The 'text' argument to find()-type methods is deprecated. Use 'string' instead.\n",
            "  el = soup.find(text=re.compile(label, re.I))\n"
          ]
        },
        {
          "output_type": "stream",
          "name": "stdout",
          "text": [
            "✓ Saved Project ID 246\n",
            "\n",
            "Fetching: https://maharerait.maharashtra.gov.in/public/project/view/247\n",
            "Captcha OCR (try 1): 9NC342\n"
          ]
        },
        {
          "output_type": "stream",
          "name": "stderr",
          "text": [
            "/tmp/ipython-input-3615969914.py:85: DeprecationWarning: The 'text' argument to find()-type methods is deprecated. Use 'string' instead.\n",
            "  el = soup.find(text=re.compile(label, re.I))\n"
          ]
        },
        {
          "output_type": "stream",
          "name": "stdout",
          "text": [
            "✓ Saved Project ID 247\n",
            "\n",
            "Fetching: https://maharerait.maharashtra.gov.in/public/project/view/248\n",
            "Captcha OCR (try 1): G9H71K\n"
          ]
        },
        {
          "output_type": "stream",
          "name": "stderr",
          "text": [
            "/tmp/ipython-input-3615969914.py:85: DeprecationWarning: The 'text' argument to find()-type methods is deprecated. Use 'string' instead.\n",
            "  el = soup.find(text=re.compile(label, re.I))\n"
          ]
        },
        {
          "output_type": "stream",
          "name": "stdout",
          "text": [
            "✓ Saved Project ID 248\n",
            "\n",
            "Fetching: https://maharerait.maharashtra.gov.in/public/project/view/249\n",
            "Captcha OCR (try 1): ONS5MC8\n",
            "Invalid captcha, retrying...\n",
            "Captcha OCR (try 2): MH18NN\n"
          ]
        },
        {
          "output_type": "stream",
          "name": "stderr",
          "text": [
            "/tmp/ipython-input-3615969914.py:85: DeprecationWarning: The 'text' argument to find()-type methods is deprecated. Use 'string' instead.\n",
            "  el = soup.find(text=re.compile(label, re.I))\n"
          ]
        },
        {
          "output_type": "stream",
          "name": "stdout",
          "text": [
            "✓ Saved Project ID 249\n",
            "\n",
            "Fetching: https://maharerait.maharashtra.gov.in/public/project/view/250\n",
            "Captcha OCR (try 1): 22C199\n",
            "Invalid captcha, retrying...\n",
            "Captcha OCR (try 2): 50G1DL\n"
          ]
        },
        {
          "output_type": "stream",
          "name": "stderr",
          "text": [
            "/tmp/ipython-input-3615969914.py:85: DeprecationWarning: The 'text' argument to find()-type methods is deprecated. Use 'string' instead.\n",
            "  el = soup.find(text=re.compile(label, re.I))\n"
          ]
        },
        {
          "output_type": "stream",
          "name": "stdout",
          "text": [
            "✓ Saved Project ID 250\n",
            "\n",
            "Fetching: https://maharerait.maharashtra.gov.in/public/project/view/251\n",
            "Captcha OCR (try 1): 96INI9\n"
          ]
        },
        {
          "output_type": "stream",
          "name": "stderr",
          "text": [
            "/tmp/ipython-input-3615969914.py:85: DeprecationWarning: The 'text' argument to find()-type methods is deprecated. Use 'string' instead.\n",
            "  el = soup.find(text=re.compile(label, re.I))\n"
          ]
        },
        {
          "output_type": "stream",
          "name": "stdout",
          "text": [
            "✓ Saved Project ID 251\n",
            "\n",
            "Fetching: https://maharerait.maharashtra.gov.in/public/project/view/252\n",
            "Captcha OCR (try 1): BFMG73\n",
            "Invalid captcha, retrying...\n",
            "Captcha OCR (try 2): 334HGI\n"
          ]
        },
        {
          "output_type": "stream",
          "name": "stderr",
          "text": [
            "/tmp/ipython-input-3615969914.py:85: DeprecationWarning: The 'text' argument to find()-type methods is deprecated. Use 'string' instead.\n",
            "  el = soup.find(text=re.compile(label, re.I))\n"
          ]
        },
        {
          "output_type": "stream",
          "name": "stdout",
          "text": [
            "✓ Saved Project ID 252\n",
            "\n",
            "Fetching: https://maharerait.maharashtra.gov.in/public/project/view/253\n",
            "Captcha OCR (try 1): KIOQSE9\n",
            "Invalid captcha, retrying...\n",
            "Captcha OCR (try 2): K3LEBN\n"
          ]
        },
        {
          "output_type": "stream",
          "name": "stderr",
          "text": [
            "/tmp/ipython-input-3615969914.py:85: DeprecationWarning: The 'text' argument to find()-type methods is deprecated. Use 'string' instead.\n",
            "  el = soup.find(text=re.compile(label, re.I))\n"
          ]
        },
        {
          "output_type": "stream",
          "name": "stdout",
          "text": [
            "✓ Saved Project ID 253\n",
            "\n",
            "Fetching: https://maharerait.maharashtra.gov.in/public/project/view/254\n",
            "Captcha OCR (try 1): 608J4N\n"
          ]
        },
        {
          "output_type": "stream",
          "name": "stderr",
          "text": [
            "/tmp/ipython-input-3615969914.py:85: DeprecationWarning: The 'text' argument to find()-type methods is deprecated. Use 'string' instead.\n",
            "  el = soup.find(text=re.compile(label, re.I))\n"
          ]
        },
        {
          "output_type": "stream",
          "name": "stdout",
          "text": [
            "✓ Saved Project ID 254\n",
            "\n",
            "Fetching: https://maharerait.maharashtra.gov.in/public/project/view/255\n",
            "Captcha OCR (try 1): 3MH59H\n"
          ]
        },
        {
          "output_type": "stream",
          "name": "stderr",
          "text": [
            "/tmp/ipython-input-3615969914.py:85: DeprecationWarning: The 'text' argument to find()-type methods is deprecated. Use 'string' instead.\n",
            "  el = soup.find(text=re.compile(label, re.I))\n"
          ]
        },
        {
          "output_type": "stream",
          "name": "stdout",
          "text": [
            "✓ Saved Project ID 255\n",
            "\n",
            "Fetching: https://maharerait.maharashtra.gov.in/public/project/view/256\n",
            "Captcha OCR (try 1): 037026\n"
          ]
        },
        {
          "output_type": "stream",
          "name": "stderr",
          "text": [
            "/tmp/ipython-input-3615969914.py:85: DeprecationWarning: The 'text' argument to find()-type methods is deprecated. Use 'string' instead.\n",
            "  el = soup.find(text=re.compile(label, re.I))\n"
          ]
        },
        {
          "output_type": "stream",
          "name": "stdout",
          "text": [
            "✓ Saved Project ID 256\n",
            "\n",
            "Fetching: https://maharerait.maharashtra.gov.in/public/project/view/257\n",
            "Captcha OCR (try 1): 544G3E\n"
          ]
        },
        {
          "output_type": "stream",
          "name": "stderr",
          "text": [
            "/tmp/ipython-input-3615969914.py:85: DeprecationWarning: The 'text' argument to find()-type methods is deprecated. Use 'string' instead.\n",
            "  el = soup.find(text=re.compile(label, re.I))\n"
          ]
        },
        {
          "output_type": "stream",
          "name": "stdout",
          "text": [
            "✓ Saved Project ID 257\n",
            "\n",
            "Fetching: https://maharerait.maharashtra.gov.in/public/project/view/258\n",
            "Captcha OCR (try 1): BSEKLL\n",
            "Invalid captcha, retrying...\n",
            "Captcha OCR (try 2): 2GFIK2\n"
          ]
        },
        {
          "output_type": "stream",
          "name": "stderr",
          "text": [
            "/tmp/ipython-input-3615969914.py:85: DeprecationWarning: The 'text' argument to find()-type methods is deprecated. Use 'string' instead.\n",
            "  el = soup.find(text=re.compile(label, re.I))\n"
          ]
        },
        {
          "output_type": "stream",
          "name": "stdout",
          "text": [
            "✓ Saved Project ID 258\n",
            "\n",
            "Fetching: https://maharerait.maharashtra.gov.in/public/project/view/259\n",
            "Captcha OCR (try 1): KE4GHA\n"
          ]
        },
        {
          "output_type": "stream",
          "name": "stderr",
          "text": [
            "/tmp/ipython-input-3615969914.py:85: DeprecationWarning: The 'text' argument to find()-type methods is deprecated. Use 'string' instead.\n",
            "  el = soup.find(text=re.compile(label, re.I))\n"
          ]
        },
        {
          "output_type": "stream",
          "name": "stdout",
          "text": [
            "✓ Saved Project ID 259\n",
            "\n",
            "Fetching: https://maharerait.maharashtra.gov.in/public/project/view/260\n",
            "Captcha OCR (try 1): NCFE89\n"
          ]
        },
        {
          "output_type": "stream",
          "name": "stderr",
          "text": [
            "/tmp/ipython-input-3615969914.py:85: DeprecationWarning: The 'text' argument to find()-type methods is deprecated. Use 'string' instead.\n",
            "  el = soup.find(text=re.compile(label, re.I))\n"
          ]
        },
        {
          "output_type": "stream",
          "name": "stdout",
          "text": [
            "✓ Saved Project ID 260\n",
            "\n",
            "Fetching: https://maharerait.maharashtra.gov.in/public/project/view/261\n",
            "Captcha OCR (try 1): H7DG4N\n"
          ]
        },
        {
          "output_type": "stream",
          "name": "stderr",
          "text": [
            "/tmp/ipython-input-3615969914.py:85: DeprecationWarning: The 'text' argument to find()-type methods is deprecated. Use 'string' instead.\n",
            "  el = soup.find(text=re.compile(label, re.I))\n"
          ]
        },
        {
          "output_type": "stream",
          "name": "stdout",
          "text": [
            "✓ Saved Project ID 261\n",
            "\n",
            "Fetching: https://maharerait.maharashtra.gov.in/public/project/view/262\n",
            "Captcha OCR (try 1): 7BSBBJ\n",
            "Invalid captcha, retrying...\n",
            "Captcha OCR (try 2): CKSKLL\n",
            "Invalid captcha, retrying...\n",
            "Captcha OCR (try 3): DJD3GM\n"
          ]
        },
        {
          "output_type": "stream",
          "name": "stderr",
          "text": [
            "/tmp/ipython-input-3615969914.py:85: DeprecationWarning: The 'text' argument to find()-type methods is deprecated. Use 'string' instead.\n",
            "  el = soup.find(text=re.compile(label, re.I))\n"
          ]
        },
        {
          "output_type": "stream",
          "name": "stdout",
          "text": [
            "✓ Saved Project ID 262\n",
            "\n",
            "Fetching: https://maharerait.maharashtra.gov.in/public/project/view/263\n",
            "Captcha OCR (try 1): ECJJJA\n"
          ]
        },
        {
          "output_type": "stream",
          "name": "stderr",
          "text": [
            "/tmp/ipython-input-3615969914.py:85: DeprecationWarning: The 'text' argument to find()-type methods is deprecated. Use 'string' instead.\n",
            "  el = soup.find(text=re.compile(label, re.I))\n"
          ]
        },
        {
          "output_type": "stream",
          "name": "stdout",
          "text": [
            "✓ Saved Project ID 263\n",
            "\n",
            "Fetching: https://maharerait.maharashtra.gov.in/public/project/view/264\n",
            "Captcha OCR (try 1): 51FJ00\n"
          ]
        },
        {
          "output_type": "stream",
          "name": "stderr",
          "text": [
            "/tmp/ipython-input-3615969914.py:85: DeprecationWarning: The 'text' argument to find()-type methods is deprecated. Use 'string' instead.\n",
            "  el = soup.find(text=re.compile(label, re.I))\n"
          ]
        },
        {
          "output_type": "stream",
          "name": "stdout",
          "text": [
            "✓ Saved Project ID 264\n",
            "\n",
            "Fetching: https://maharerait.maharashtra.gov.in/public/project/view/265\n",
            "Captcha OCR (try 1): 961861\n",
            "Invalid captcha, retrying...\n",
            "Captcha OCR (try 2): 4B16C7\n"
          ]
        },
        {
          "output_type": "stream",
          "name": "stderr",
          "text": [
            "/tmp/ipython-input-3615969914.py:85: DeprecationWarning: The 'text' argument to find()-type methods is deprecated. Use 'string' instead.\n",
            "  el = soup.find(text=re.compile(label, re.I))\n"
          ]
        },
        {
          "output_type": "stream",
          "name": "stdout",
          "text": [
            "✓ Saved Project ID 265\n",
            "\n",
            "Fetching: https://maharerait.maharashtra.gov.in/public/project/view/266\n",
            "Captcha OCR (try 1): 91LED6\n"
          ]
        },
        {
          "output_type": "stream",
          "name": "stderr",
          "text": [
            "/tmp/ipython-input-3615969914.py:85: DeprecationWarning: The 'text' argument to find()-type methods is deprecated. Use 'string' instead.\n",
            "  el = soup.find(text=re.compile(label, re.I))\n"
          ]
        },
        {
          "output_type": "stream",
          "name": "stdout",
          "text": [
            "✓ Saved Project ID 266\n",
            "\n",
            "Fetching: https://maharerait.maharashtra.gov.in/public/project/view/267\n",
            "Captcha OCR (try 1): 79JIMM4\n",
            "Invalid captcha, retrying...\n",
            "Captcha OCR (try 2): G001G5\n"
          ]
        },
        {
          "output_type": "stream",
          "name": "stderr",
          "text": [
            "/tmp/ipython-input-3615969914.py:85: DeprecationWarning: The 'text' argument to find()-type methods is deprecated. Use 'string' instead.\n",
            "  el = soup.find(text=re.compile(label, re.I))\n"
          ]
        },
        {
          "output_type": "stream",
          "name": "stdout",
          "text": [
            "✓ Saved Project ID 267\n",
            "\n",
            "Fetching: https://maharerait.maharashtra.gov.in/public/project/view/268\n",
            "Captcha OCR (try 1): N8KOGI1\n",
            "Invalid captcha, retrying...\n",
            "Captcha OCR (try 2): KFF61A\n"
          ]
        },
        {
          "output_type": "stream",
          "name": "stderr",
          "text": [
            "/tmp/ipython-input-3615969914.py:85: DeprecationWarning: The 'text' argument to find()-type methods is deprecated. Use 'string' instead.\n",
            "  el = soup.find(text=re.compile(label, re.I))\n"
          ]
        },
        {
          "output_type": "stream",
          "name": "stdout",
          "text": [
            "✓ Saved Project ID 268\n",
            "\n",
            "Fetching: https://maharerait.maharashtra.gov.in/public/project/view/269\n",
            "Captcha OCR (try 1): 64G555\n"
          ]
        },
        {
          "output_type": "stream",
          "name": "stderr",
          "text": [
            "/tmp/ipython-input-3615969914.py:85: DeprecationWarning: The 'text' argument to find()-type methods is deprecated. Use 'string' instead.\n",
            "  el = soup.find(text=re.compile(label, re.I))\n"
          ]
        },
        {
          "output_type": "stream",
          "name": "stdout",
          "text": [
            "✓ Saved Project ID 269\n",
            "\n",
            "Fetching: https://maharerait.maharashtra.gov.in/public/project/view/270\n",
            "Captcha OCR (try 1): I12BLGM\n",
            "Invalid captcha, retrying...\n",
            "Captcha OCR (try 2): 6AEDS7\n",
            "Invalid captcha, retrying...\n",
            "Captcha OCR (try 3): B9I112\n"
          ]
        },
        {
          "output_type": "stream",
          "name": "stderr",
          "text": [
            "/tmp/ipython-input-3615969914.py:85: DeprecationWarning: The 'text' argument to find()-type methods is deprecated. Use 'string' instead.\n",
            "  el = soup.find(text=re.compile(label, re.I))\n"
          ]
        },
        {
          "output_type": "stream",
          "name": "stdout",
          "text": [
            "✓ Saved Project ID 270\n",
            "\n",
            "Fetching: https://maharerait.maharashtra.gov.in/public/project/view/271\n",
            "Captcha OCR (try 1): B4C106\n"
          ]
        },
        {
          "output_type": "stream",
          "name": "stderr",
          "text": [
            "/tmp/ipython-input-3615969914.py:85: DeprecationWarning: The 'text' argument to find()-type methods is deprecated. Use 'string' instead.\n",
            "  el = soup.find(text=re.compile(label, re.I))\n"
          ]
        },
        {
          "output_type": "stream",
          "name": "stdout",
          "text": [
            "✓ Saved Project ID 271\n",
            "\n",
            "Fetching: https://maharerait.maharashtra.gov.in/public/project/view/272\n",
            "Captcha OCR (try 1): 6JFKM7\n"
          ]
        },
        {
          "output_type": "stream",
          "name": "stderr",
          "text": [
            "/tmp/ipython-input-3615969914.py:85: DeprecationWarning: The 'text' argument to find()-type methods is deprecated. Use 'string' instead.\n",
            "  el = soup.find(text=re.compile(label, re.I))\n"
          ]
        },
        {
          "output_type": "stream",
          "name": "stdout",
          "text": [
            "✓ Saved Project ID 272\n",
            "\n",
            "Fetching: https://maharerait.maharashtra.gov.in/public/project/view/273\n",
            "Captcha OCR (try 1): J3BICH\n"
          ]
        },
        {
          "output_type": "stream",
          "name": "stderr",
          "text": [
            "/tmp/ipython-input-3615969914.py:85: DeprecationWarning: The 'text' argument to find()-type methods is deprecated. Use 'string' instead.\n",
            "  el = soup.find(text=re.compile(label, re.I))\n"
          ]
        },
        {
          "output_type": "stream",
          "name": "stdout",
          "text": [
            "✓ Saved Project ID 273\n",
            "\n",
            "Fetching: https://maharerait.maharashtra.gov.in/public/project/view/274\n",
            "Captcha OCR (try 1): GFS7E9\n",
            "Invalid captcha, retrying...\n",
            "Captcha OCR (try 2): DELIJM\n",
            "Invalid captcha, retrying...\n",
            "Captcha OCR (try 3): NFO7JH\n",
            "Invalid captcha, retrying...\n",
            "Skipping project 274 due to repeated captcha failures.\n",
            "\n",
            "Fetching: https://maharerait.maharashtra.gov.in/public/project/view/275\n",
            "Captcha OCR (try 1): KLHSAH\n",
            "Invalid captcha, retrying...\n",
            "Captcha OCR (try 2): K92ZHHA\n",
            "Invalid captcha, retrying...\n",
            "Captcha OCR (try 3): 2L8GME\n"
          ]
        },
        {
          "output_type": "stream",
          "name": "stderr",
          "text": [
            "/tmp/ipython-input-3615969914.py:85: DeprecationWarning: The 'text' argument to find()-type methods is deprecated. Use 'string' instead.\n",
            "  el = soup.find(text=re.compile(label, re.I))\n"
          ]
        },
        {
          "output_type": "stream",
          "name": "stdout",
          "text": [
            "✓ Saved Project ID 275\n",
            "\n",
            "Fetching: https://maharerait.maharashtra.gov.in/public/project/view/276\n",
            "Captcha OCR (try 1): K2E3BK\n"
          ]
        },
        {
          "output_type": "stream",
          "name": "stderr",
          "text": [
            "/tmp/ipython-input-3615969914.py:85: DeprecationWarning: The 'text' argument to find()-type methods is deprecated. Use 'string' instead.\n",
            "  el = soup.find(text=re.compile(label, re.I))\n"
          ]
        },
        {
          "output_type": "stream",
          "name": "stdout",
          "text": [
            "✓ Saved Project ID 276\n",
            "\n",
            "Fetching: https://maharerait.maharashtra.gov.in/public/project/view/277\n",
            "Captcha OCR (try 1): 73J60G\n"
          ]
        },
        {
          "output_type": "stream",
          "name": "stderr",
          "text": [
            "/tmp/ipython-input-3615969914.py:85: DeprecationWarning: The 'text' argument to find()-type methods is deprecated. Use 'string' instead.\n",
            "  el = soup.find(text=re.compile(label, re.I))\n"
          ]
        },
        {
          "output_type": "stream",
          "name": "stdout",
          "text": [
            "✓ Saved Project ID 277\n",
            "\n",
            "Fetching: https://maharerait.maharashtra.gov.in/public/project/view/278\n",
            "Captcha OCR (try 1): 7223NH\n"
          ]
        },
        {
          "output_type": "stream",
          "name": "stderr",
          "text": [
            "/tmp/ipython-input-3615969914.py:85: DeprecationWarning: The 'text' argument to find()-type methods is deprecated. Use 'string' instead.\n",
            "  el = soup.find(text=re.compile(label, re.I))\n"
          ]
        },
        {
          "output_type": "stream",
          "name": "stdout",
          "text": [
            "✓ Saved Project ID 278\n",
            "\n",
            "Fetching: https://maharerait.maharashtra.gov.in/public/project/view/279\n",
            "Captcha OCR (try 1): S5O0JJIB\n",
            "Invalid captcha, retrying...\n",
            "Captcha OCR (try 2): 3MBGDA\n"
          ]
        },
        {
          "output_type": "stream",
          "name": "stderr",
          "text": [
            "/tmp/ipython-input-3615969914.py:85: DeprecationWarning: The 'text' argument to find()-type methods is deprecated. Use 'string' instead.\n",
            "  el = soup.find(text=re.compile(label, re.I))\n"
          ]
        },
        {
          "output_type": "stream",
          "name": "stdout",
          "text": [
            "✓ Saved Project ID 279\n",
            "\n",
            "Fetching: https://maharerait.maharashtra.gov.in/public/project/view/280\n",
            "Captcha OCR (try 1): F5S4B6G\n",
            "Invalid captcha, retrying...\n",
            "Captcha OCR (try 2): 9FKIKK\n"
          ]
        },
        {
          "output_type": "stream",
          "name": "stderr",
          "text": [
            "/tmp/ipython-input-3615969914.py:85: DeprecationWarning: The 'text' argument to find()-type methods is deprecated. Use 'string' instead.\n",
            "  el = soup.find(text=re.compile(label, re.I))\n"
          ]
        },
        {
          "output_type": "stream",
          "name": "stdout",
          "text": [
            "✓ Saved Project ID 280\n",
            "\n",
            "Fetching: https://maharerait.maharashtra.gov.in/public/project/view/281\n",
            "Captcha OCR (try 1): BH949G\n"
          ]
        },
        {
          "output_type": "stream",
          "name": "stderr",
          "text": [
            "/tmp/ipython-input-3615969914.py:85: DeprecationWarning: The 'text' argument to find()-type methods is deprecated. Use 'string' instead.\n",
            "  el = soup.find(text=re.compile(label, re.I))\n"
          ]
        },
        {
          "output_type": "stream",
          "name": "stdout",
          "text": [
            "✓ Saved Project ID 281\n",
            "\n",
            "Fetching: https://maharerait.maharashtra.gov.in/public/project/view/282\n",
            "Captcha OCR (try 1): 9KO6GH\n",
            "Invalid captcha, retrying...\n",
            "Captcha OCR (try 2): OAF707\n",
            "Invalid captcha, retrying...\n",
            "Captcha OCR (try 3): OIGHIM\n",
            "Invalid captcha, retrying...\n",
            "Skipping project 282 due to repeated captcha failures.\n",
            "\n",
            "Fetching: https://maharerait.maharashtra.gov.in/public/project/view/283\n",
            "Captcha OCR (try 1): 50ED81\n"
          ]
        },
        {
          "output_type": "stream",
          "name": "stderr",
          "text": [
            "/tmp/ipython-input-3615969914.py:85: DeprecationWarning: The 'text' argument to find()-type methods is deprecated. Use 'string' instead.\n",
            "  el = soup.find(text=re.compile(label, re.I))\n"
          ]
        },
        {
          "output_type": "stream",
          "name": "stdout",
          "text": [
            "✓ Saved Project ID 283\n",
            "\n",
            "Fetching: https://maharerait.maharashtra.gov.in/public/project/view/284\n",
            "Captcha OCR (try 1): AJON8N\n",
            "Invalid captcha, retrying...\n",
            "Captcha OCR (try 2): 965A3B\n"
          ]
        },
        {
          "output_type": "stream",
          "name": "stderr",
          "text": [
            "/tmp/ipython-input-3615969914.py:85: DeprecationWarning: The 'text' argument to find()-type methods is deprecated. Use 'string' instead.\n",
            "  el = soup.find(text=re.compile(label, re.I))\n"
          ]
        },
        {
          "output_type": "stream",
          "name": "stdout",
          "text": [
            "✓ Saved Project ID 284\n",
            "\n",
            "Fetching: https://maharerait.maharashtra.gov.in/public/project/view/285\n",
            "Captcha OCR (try 1): 3D1I6D3\n",
            "Invalid captcha, retrying...\n",
            "Captcha OCR (try 2): 29EF4A\n"
          ]
        },
        {
          "output_type": "stream",
          "name": "stderr",
          "text": [
            "/tmp/ipython-input-3615969914.py:85: DeprecationWarning: The 'text' argument to find()-type methods is deprecated. Use 'string' instead.\n",
            "  el = soup.find(text=re.compile(label, re.I))\n"
          ]
        },
        {
          "output_type": "stream",
          "name": "stdout",
          "text": [
            "✓ Saved Project ID 285\n",
            "\n",
            "Fetching: https://maharerait.maharashtra.gov.in/public/project/view/286\n",
            "Captcha OCR (try 1): HD143N\n"
          ]
        },
        {
          "output_type": "stream",
          "name": "stderr",
          "text": [
            "/tmp/ipython-input-3615969914.py:85: DeprecationWarning: The 'text' argument to find()-type methods is deprecated. Use 'string' instead.\n",
            "  el = soup.find(text=re.compile(label, re.I))\n"
          ]
        },
        {
          "output_type": "stream",
          "name": "stdout",
          "text": [
            "✓ Saved Project ID 286\n",
            "\n",
            "Fetching: https://maharerait.maharashtra.gov.in/public/project/view/287\n",
            "Captcha OCR (try 1): M2HCJH\n"
          ]
        },
        {
          "output_type": "stream",
          "name": "stderr",
          "text": [
            "/tmp/ipython-input-3615969914.py:85: DeprecationWarning: The 'text' argument to find()-type methods is deprecated. Use 'string' instead.\n",
            "  el = soup.find(text=re.compile(label, re.I))\n"
          ]
        },
        {
          "output_type": "stream",
          "name": "stdout",
          "text": [
            "✓ Saved Project ID 287\n",
            "\n",
            "Fetching: https://maharerait.maharashtra.gov.in/public/project/view/288\n",
            "Captcha OCR (try 1): 227LAH\n"
          ]
        },
        {
          "output_type": "stream",
          "name": "stderr",
          "text": [
            "/tmp/ipython-input-3615969914.py:85: DeprecationWarning: The 'text' argument to find()-type methods is deprecated. Use 'string' instead.\n",
            "  el = soup.find(text=re.compile(label, re.I))\n"
          ]
        },
        {
          "output_type": "stream",
          "name": "stdout",
          "text": [
            "✓ Saved Project ID 288\n",
            "\n",
            "Fetching: https://maharerait.maharashtra.gov.in/public/project/view/289\n",
            "Captcha OCR (try 1): C2NANE\n"
          ]
        },
        {
          "output_type": "stream",
          "name": "stderr",
          "text": [
            "/tmp/ipython-input-3615969914.py:85: DeprecationWarning: The 'text' argument to find()-type methods is deprecated. Use 'string' instead.\n",
            "  el = soup.find(text=re.compile(label, re.I))\n"
          ]
        },
        {
          "output_type": "stream",
          "name": "stdout",
          "text": [
            "✓ Saved Project ID 289\n",
            "\n",
            "Fetching: https://maharerait.maharashtra.gov.in/public/project/view/290\n",
            "Captcha OCR (try 1): JJISMEO\n",
            "Invalid captcha, retrying...\n",
            "Captcha OCR (try 2): G4JHJO\n",
            "Invalid captcha, retrying...\n",
            "Captcha OCR (try 3): DNJBOG\n",
            "Invalid captcha, retrying...\n",
            "Skipping project 290 due to repeated captcha failures.\n",
            "\n",
            "Fetching: https://maharerait.maharashtra.gov.in/public/project/view/291\n",
            "Captcha OCR (try 1): MM9IONG\n",
            "Invalid captcha, retrying...\n",
            "Captcha OCR (try 2): ENOAL6\n",
            "Invalid captcha, retrying...\n",
            "Captcha OCR (try 3): HLCG6JB\n",
            "Invalid captcha, retrying...\n",
            "Skipping project 291 due to repeated captcha failures.\n",
            "\n",
            "Fetching: https://maharerait.maharashtra.gov.in/public/project/view/292\n",
            "Captcha OCR (try 1): C1iLNAG\n",
            "Invalid captcha, retrying...\n",
            "Captcha OCR (try 2): 86LG2D\n"
          ]
        },
        {
          "output_type": "stream",
          "name": "stderr",
          "text": [
            "/tmp/ipython-input-3615969914.py:85: DeprecationWarning: The 'text' argument to find()-type methods is deprecated. Use 'string' instead.\n",
            "  el = soup.find(text=re.compile(label, re.I))\n"
          ]
        },
        {
          "output_type": "stream",
          "name": "stdout",
          "text": [
            "✓ Saved Project ID 292\n",
            "\n",
            "Fetching: https://maharerait.maharashtra.gov.in/public/project/view/293\n",
            "Captcha OCR (try 1): FMIA7F\n"
          ]
        },
        {
          "output_type": "stream",
          "name": "stderr",
          "text": [
            "/tmp/ipython-input-3615969914.py:85: DeprecationWarning: The 'text' argument to find()-type methods is deprecated. Use 'string' instead.\n",
            "  el = soup.find(text=re.compile(label, re.I))\n"
          ]
        },
        {
          "output_type": "stream",
          "name": "stdout",
          "text": [
            "✓ Saved Project ID 293\n",
            "\n",
            "Fetching: https://maharerait.maharashtra.gov.in/public/project/view/294\n",
            "Captcha OCR (try 1): AISJIML\n",
            "Invalid captcha, retrying...\n",
            "Captcha OCR (try 2): HH6D9B\n"
          ]
        },
        {
          "output_type": "stream",
          "name": "stderr",
          "text": [
            "/tmp/ipython-input-3615969914.py:85: DeprecationWarning: The 'text' argument to find()-type methods is deprecated. Use 'string' instead.\n",
            "  el = soup.find(text=re.compile(label, re.I))\n"
          ]
        },
        {
          "output_type": "stream",
          "name": "stdout",
          "text": [
            "✓ Saved Project ID 294\n",
            "\n",
            "Fetching: https://maharerait.maharashtra.gov.in/public/project/view/295\n",
            "Captcha OCR (try 1): HIMOI6\n",
            "Invalid captcha, retrying...\n",
            "Captcha OCR (try 2): BK82K7\n"
          ]
        },
        {
          "output_type": "stream",
          "name": "stderr",
          "text": [
            "/tmp/ipython-input-3615969914.py:85: DeprecationWarning: The 'text' argument to find()-type methods is deprecated. Use 'string' instead.\n",
            "  el = soup.find(text=re.compile(label, re.I))\n"
          ]
        },
        {
          "output_type": "stream",
          "name": "stdout",
          "text": [
            "✓ Saved Project ID 295\n",
            "\n",
            "Fetching: https://maharerait.maharashtra.gov.in/public/project/view/296\n",
            "Captcha OCR (try 1): CJ6115\n",
            "Invalid captcha, retrying...\n",
            "Captcha OCR (try 2): JEMI1GE\n",
            "Invalid captcha, retrying...\n",
            "Captcha OCR (try 3): N5005M\n"
          ]
        },
        {
          "output_type": "stream",
          "name": "stderr",
          "text": [
            "/tmp/ipython-input-3615969914.py:85: DeprecationWarning: The 'text' argument to find()-type methods is deprecated. Use 'string' instead.\n",
            "  el = soup.find(text=re.compile(label, re.I))\n"
          ]
        },
        {
          "output_type": "stream",
          "name": "stdout",
          "text": [
            "✓ Saved Project ID 296\n",
            "\n",
            "Fetching: https://maharerait.maharashtra.gov.in/public/project/view/297\n",
            "Captcha OCR (try 1): IIF3H9\n"
          ]
        },
        {
          "output_type": "stream",
          "name": "stderr",
          "text": [
            "/tmp/ipython-input-3615969914.py:85: DeprecationWarning: The 'text' argument to find()-type methods is deprecated. Use 'string' instead.\n",
            "  el = soup.find(text=re.compile(label, re.I))\n"
          ]
        },
        {
          "output_type": "stream",
          "name": "stdout",
          "text": [
            "✓ Saved Project ID 297\n",
            "\n",
            "Fetching: https://maharerait.maharashtra.gov.in/public/project/view/298\n",
            "Captcha OCR (try 1): 60CG07\n"
          ]
        },
        {
          "output_type": "stream",
          "name": "stderr",
          "text": [
            "/tmp/ipython-input-3615969914.py:85: DeprecationWarning: The 'text' argument to find()-type methods is deprecated. Use 'string' instead.\n",
            "  el = soup.find(text=re.compile(label, re.I))\n"
          ]
        },
        {
          "output_type": "stream",
          "name": "stdout",
          "text": [
            "✓ Saved Project ID 298\n",
            "\n",
            "Fetching: https://maharerait.maharashtra.gov.in/public/project/view/299\n",
            "Captcha OCR (try 1): S5ONBD7\n",
            "Invalid captcha, retrying...\n",
            "Captcha OCR (try 2): 3124N3\n",
            "Invalid captcha, retrying...\n",
            "Captcha OCR (try 3): SFLIJL\n",
            "Invalid captcha, retrying...\n",
            "Skipping project 299 due to repeated captcha failures.\n",
            "\n",
            "Fetching: https://maharerait.maharashtra.gov.in/public/project/view/300\n",
            "Captcha OCR (try 1): OL92N3\n",
            "Invalid captcha, retrying...\n",
            "Captcha OCR (try 2): JIDSNJ\n",
            "Invalid captcha, retrying...\n",
            "Captcha OCR (try 3): 1BKE7K\n"
          ]
        },
        {
          "output_type": "stream",
          "name": "stderr",
          "text": [
            "/tmp/ipython-input-3615969914.py:85: DeprecationWarning: The 'text' argument to find()-type methods is deprecated. Use 'string' instead.\n",
            "  el = soup.find(text=re.compile(label, re.I))\n"
          ]
        },
        {
          "output_type": "stream",
          "name": "stdout",
          "text": [
            "✓ Saved Project ID 300\n",
            "\n",
            "Fetching: https://maharerait.maharashtra.gov.in/public/project/view/301\n",
            "Captcha OCR (try 1): E1G5N2\n"
          ]
        },
        {
          "output_type": "stream",
          "name": "stderr",
          "text": [
            "/tmp/ipython-input-3615969914.py:85: DeprecationWarning: The 'text' argument to find()-type methods is deprecated. Use 'string' instead.\n",
            "  el = soup.find(text=re.compile(label, re.I))\n"
          ]
        },
        {
          "output_type": "stream",
          "name": "stdout",
          "text": [
            "✓ Saved Project ID 301\n",
            "\n",
            "Fetching: https://maharerait.maharashtra.gov.in/public/project/view/302\n",
            "Captcha OCR (try 1): 5F62MK\n"
          ]
        },
        {
          "output_type": "stream",
          "name": "stderr",
          "text": [
            "/tmp/ipython-input-3615969914.py:85: DeprecationWarning: The 'text' argument to find()-type methods is deprecated. Use 'string' instead.\n",
            "  el = soup.find(text=re.compile(label, re.I))\n"
          ]
        },
        {
          "output_type": "stream",
          "name": "stdout",
          "text": [
            "✓ Saved Project ID 302\n",
            "\n",
            "Fetching: https://maharerait.maharashtra.gov.in/public/project/view/303\n",
            "Captcha OCR (try 1): D482M2\n"
          ]
        },
        {
          "output_type": "stream",
          "name": "stderr",
          "text": [
            "/tmp/ipython-input-3615969914.py:85: DeprecationWarning: The 'text' argument to find()-type methods is deprecated. Use 'string' instead.\n",
            "  el = soup.find(text=re.compile(label, re.I))\n"
          ]
        },
        {
          "output_type": "stream",
          "name": "stdout",
          "text": [
            "✓ Saved Project ID 303\n",
            "\n",
            "Fetching: https://maharerait.maharashtra.gov.in/public/project/view/304\n",
            "Captcha OCR (try 1): AGFDIJ\n"
          ]
        },
        {
          "output_type": "stream",
          "name": "stderr",
          "text": [
            "/tmp/ipython-input-3615969914.py:85: DeprecationWarning: The 'text' argument to find()-type methods is deprecated. Use 'string' instead.\n",
            "  el = soup.find(text=re.compile(label, re.I))\n"
          ]
        },
        {
          "output_type": "stream",
          "name": "stdout",
          "text": [
            "✓ Saved Project ID 304\n",
            "\n",
            "Fetching: https://maharerait.maharashtra.gov.in/public/project/view/305\n",
            "Captcha OCR (try 1): 7FNH78\n"
          ]
        },
        {
          "output_type": "stream",
          "name": "stderr",
          "text": [
            "/tmp/ipython-input-3615969914.py:85: DeprecationWarning: The 'text' argument to find()-type methods is deprecated. Use 'string' instead.\n",
            "  el = soup.find(text=re.compile(label, re.I))\n"
          ]
        },
        {
          "output_type": "stream",
          "name": "stdout",
          "text": [
            "✓ Saved Project ID 305\n",
            "\n",
            "Fetching: https://maharerait.maharashtra.gov.in/public/project/view/306\n",
            "Captcha OCR (try 1): 3FFLM7\n"
          ]
        },
        {
          "output_type": "stream",
          "name": "stderr",
          "text": [
            "/tmp/ipython-input-3615969914.py:85: DeprecationWarning: The 'text' argument to find()-type methods is deprecated. Use 'string' instead.\n",
            "  el = soup.find(text=re.compile(label, re.I))\n"
          ]
        },
        {
          "output_type": "stream",
          "name": "stdout",
          "text": [
            "✓ Saved Project ID 306\n",
            "\n",
            "Fetching: https://maharerait.maharashtra.gov.in/public/project/view/307\n",
            "Captcha OCR (try 1): LJE4DN\n"
          ]
        },
        {
          "output_type": "stream",
          "name": "stderr",
          "text": [
            "/tmp/ipython-input-3615969914.py:85: DeprecationWarning: The 'text' argument to find()-type methods is deprecated. Use 'string' instead.\n",
            "  el = soup.find(text=re.compile(label, re.I))\n"
          ]
        },
        {
          "output_type": "stream",
          "name": "stdout",
          "text": [
            "✓ Saved Project ID 307\n",
            "\n",
            "Fetching: https://maharerait.maharashtra.gov.in/public/project/view/308\n",
            "Captcha OCR (try 1): 7M1LL7\n"
          ]
        },
        {
          "output_type": "stream",
          "name": "stderr",
          "text": [
            "/tmp/ipython-input-3615969914.py:85: DeprecationWarning: The 'text' argument to find()-type methods is deprecated. Use 'string' instead.\n",
            "  el = soup.find(text=re.compile(label, re.I))\n"
          ]
        },
        {
          "output_type": "stream",
          "name": "stdout",
          "text": [
            "✓ Saved Project ID 308\n",
            "\n",
            "Fetching: https://maharerait.maharashtra.gov.in/public/project/view/309\n",
            "Captcha OCR (try 1): 352GAG\n"
          ]
        },
        {
          "output_type": "stream",
          "name": "stderr",
          "text": [
            "/tmp/ipython-input-3615969914.py:85: DeprecationWarning: The 'text' argument to find()-type methods is deprecated. Use 'string' instead.\n",
            "  el = soup.find(text=re.compile(label, re.I))\n"
          ]
        },
        {
          "output_type": "stream",
          "name": "stdout",
          "text": [
            "✓ Saved Project ID 309\n",
            "\n",
            "Fetching: https://maharerait.maharashtra.gov.in/public/project/view/310\n",
            "Captcha OCR (try 1): MEA29A\n"
          ]
        },
        {
          "output_type": "stream",
          "name": "stderr",
          "text": [
            "/tmp/ipython-input-3615969914.py:85: DeprecationWarning: The 'text' argument to find()-type methods is deprecated. Use 'string' instead.\n",
            "  el = soup.find(text=re.compile(label, re.I))\n"
          ]
        },
        {
          "output_type": "stream",
          "name": "stdout",
          "text": [
            "✓ Saved Project ID 310\n",
            "\n",
            "Fetching: https://maharerait.maharashtra.gov.in/public/project/view/311\n",
            "Captcha OCR (try 1): HSEO4A\n",
            "Invalid captcha, retrying...\n",
            "Captcha OCR (try 2): 74HK6F\n"
          ]
        },
        {
          "output_type": "stream",
          "name": "stderr",
          "text": [
            "/tmp/ipython-input-3615969914.py:85: DeprecationWarning: The 'text' argument to find()-type methods is deprecated. Use 'string' instead.\n",
            "  el = soup.find(text=re.compile(label, re.I))\n"
          ]
        },
        {
          "output_type": "stream",
          "name": "stdout",
          "text": [
            "✓ Saved Project ID 311\n",
            "\n",
            "Fetching: https://maharerait.maharashtra.gov.in/public/project/view/312\n",
            "Captcha OCR (try 1): L2L1E4\n"
          ]
        },
        {
          "output_type": "stream",
          "name": "stderr",
          "text": [
            "/tmp/ipython-input-3615969914.py:85: DeprecationWarning: The 'text' argument to find()-type methods is deprecated. Use 'string' instead.\n",
            "  el = soup.find(text=re.compile(label, re.I))\n"
          ]
        },
        {
          "output_type": "stream",
          "name": "stdout",
          "text": [
            "✓ Saved Project ID 312\n",
            "\n",
            "Fetching: https://maharerait.maharashtra.gov.in/public/project/view/313\n",
            "Captcha OCR (try 1): 4627AB\n"
          ]
        },
        {
          "output_type": "stream",
          "name": "stderr",
          "text": [
            "/tmp/ipython-input-3615969914.py:85: DeprecationWarning: The 'text' argument to find()-type methods is deprecated. Use 'string' instead.\n",
            "  el = soup.find(text=re.compile(label, re.I))\n"
          ]
        },
        {
          "output_type": "stream",
          "name": "stdout",
          "text": [
            "✓ Saved Project ID 313\n",
            "\n",
            "Fetching: https://maharerait.maharashtra.gov.in/public/project/view/314\n",
            "Captcha OCR (try 1): 44B6GJ\n"
          ]
        },
        {
          "output_type": "stream",
          "name": "stderr",
          "text": [
            "/tmp/ipython-input-3615969914.py:85: DeprecationWarning: The 'text' argument to find()-type methods is deprecated. Use 'string' instead.\n",
            "  el = soup.find(text=re.compile(label, re.I))\n"
          ]
        },
        {
          "output_type": "stream",
          "name": "stdout",
          "text": [
            "✓ Saved Project ID 314\n",
            "\n",
            "Fetching: https://maharerait.maharashtra.gov.in/public/project/view/315\n",
            "Captcha OCR (try 1): BLFEFK27\n",
            "Invalid captcha, retrying...\n",
            "Captcha OCR (try 2): 710NC5\n"
          ]
        },
        {
          "output_type": "stream",
          "name": "stderr",
          "text": [
            "/tmp/ipython-input-3615969914.py:85: DeprecationWarning: The 'text' argument to find()-type methods is deprecated. Use 'string' instead.\n",
            "  el = soup.find(text=re.compile(label, re.I))\n"
          ]
        },
        {
          "output_type": "stream",
          "name": "stdout",
          "text": [
            "✓ Saved Project ID 315\n",
            "\n",
            "Fetching: https://maharerait.maharashtra.gov.in/public/project/view/316\n",
            "Captcha OCR (try 1): 3IHHOS\n",
            "Invalid captcha, retrying...\n",
            "Captcha OCR (try 2): CF88FJ\n"
          ]
        },
        {
          "output_type": "stream",
          "name": "stderr",
          "text": [
            "/tmp/ipython-input-3615969914.py:85: DeprecationWarning: The 'text' argument to find()-type methods is deprecated. Use 'string' instead.\n",
            "  el = soup.find(text=re.compile(label, re.I))\n"
          ]
        },
        {
          "output_type": "stream",
          "name": "stdout",
          "text": [
            "✓ Saved Project ID 316\n",
            "\n",
            "Fetching: https://maharerait.maharashtra.gov.in/public/project/view/317\n",
            "Captcha OCR (try 1): 1FDH51\n"
          ]
        },
        {
          "output_type": "stream",
          "name": "stderr",
          "text": [
            "/tmp/ipython-input-3615969914.py:85: DeprecationWarning: The 'text' argument to find()-type methods is deprecated. Use 'string' instead.\n",
            "  el = soup.find(text=re.compile(label, re.I))\n"
          ]
        },
        {
          "output_type": "stream",
          "name": "stdout",
          "text": [
            "✓ Saved Project ID 317\n",
            "\n",
            "Fetching: https://maharerait.maharashtra.gov.in/public/project/view/318\n",
            "Captcha OCR (try 1): BAKI16I\n",
            "Invalid captcha, retrying...\n",
            "Captcha OCR (try 2): J57618\n",
            "Invalid captcha, retrying...\n",
            "Captcha OCR (try 3): BE3DCN\n"
          ]
        },
        {
          "output_type": "stream",
          "name": "stderr",
          "text": [
            "/tmp/ipython-input-3615969914.py:85: DeprecationWarning: The 'text' argument to find()-type methods is deprecated. Use 'string' instead.\n",
            "  el = soup.find(text=re.compile(label, re.I))\n"
          ]
        },
        {
          "output_type": "stream",
          "name": "stdout",
          "text": [
            "✓ Saved Project ID 318\n",
            "\n",
            "Fetching: https://maharerait.maharashtra.gov.in/public/project/view/319\n",
            "Captcha OCR (try 1): N8C71K\n"
          ]
        },
        {
          "output_type": "stream",
          "name": "stderr",
          "text": [
            "/tmp/ipython-input-3615969914.py:85: DeprecationWarning: The 'text' argument to find()-type methods is deprecated. Use 'string' instead.\n",
            "  el = soup.find(text=re.compile(label, re.I))\n"
          ]
        },
        {
          "output_type": "stream",
          "name": "stdout",
          "text": [
            "✓ Saved Project ID 319\n",
            "\n",
            "Fetching: https://maharerait.maharashtra.gov.in/public/project/view/320\n",
            "Captcha OCR (try 1): 1B9EAJ\n",
            "Invalid captcha, retrying...\n",
            "Captcha canvas not found, skipping this ID.\n",
            "Skipping project 320 due to repeated captcha failures.\n",
            "\n",
            "Fetching: https://maharerait.maharashtra.gov.in/public/project/view/321\n",
            "Captcha OCR (try 1): 334JH6\n"
          ]
        },
        {
          "output_type": "stream",
          "name": "stderr",
          "text": [
            "/tmp/ipython-input-3615969914.py:85: DeprecationWarning: The 'text' argument to find()-type methods is deprecated. Use 'string' instead.\n",
            "  el = soup.find(text=re.compile(label, re.I))\n"
          ]
        },
        {
          "output_type": "stream",
          "name": "stdout",
          "text": [
            "✓ Saved Project ID 321\n",
            "\n",
            "Fetching: https://maharerait.maharashtra.gov.in/public/project/view/322\n",
            "Captcha OCR (try 1): 568H9I\n"
          ]
        },
        {
          "output_type": "stream",
          "name": "stderr",
          "text": [
            "/tmp/ipython-input-3615969914.py:85: DeprecationWarning: The 'text' argument to find()-type methods is deprecated. Use 'string' instead.\n",
            "  el = soup.find(text=re.compile(label, re.I))\n"
          ]
        },
        {
          "output_type": "stream",
          "name": "stdout",
          "text": [
            "✓ Saved Project ID 322\n",
            "\n",
            "Fetching: https://maharerait.maharashtra.gov.in/public/project/view/323\n",
            "Captcha OCR (try 1): 5HC59G\n"
          ]
        },
        {
          "output_type": "stream",
          "name": "stderr",
          "text": [
            "/tmp/ipython-input-3615969914.py:85: DeprecationWarning: The 'text' argument to find()-type methods is deprecated. Use 'string' instead.\n",
            "  el = soup.find(text=re.compile(label, re.I))\n"
          ]
        },
        {
          "output_type": "stream",
          "name": "stdout",
          "text": [
            "✓ Saved Project ID 323\n",
            "\n",
            "Fetching: https://maharerait.maharashtra.gov.in/public/project/view/324\n",
            "Captcha OCR (try 1): 73JGGF\n"
          ]
        },
        {
          "output_type": "stream",
          "name": "stderr",
          "text": [
            "/tmp/ipython-input-3615969914.py:85: DeprecationWarning: The 'text' argument to find()-type methods is deprecated. Use 'string' instead.\n",
            "  el = soup.find(text=re.compile(label, re.I))\n"
          ]
        },
        {
          "output_type": "stream",
          "name": "stdout",
          "text": [
            "✓ Saved Project ID 324\n",
            "\n",
            "Fetching: https://maharerait.maharashtra.gov.in/public/project/view/325\n",
            "Captcha OCR (try 1): 60M8CM\n"
          ]
        },
        {
          "output_type": "stream",
          "name": "stderr",
          "text": [
            "/tmp/ipython-input-3615969914.py:85: DeprecationWarning: The 'text' argument to find()-type methods is deprecated. Use 'string' instead.\n",
            "  el = soup.find(text=re.compile(label, re.I))\n"
          ]
        },
        {
          "output_type": "stream",
          "name": "stdout",
          "text": [
            "✓ Saved Project ID 325\n",
            "\n",
            "Fetching: https://maharerait.maharashtra.gov.in/public/project/view/326\n",
            "Captcha OCR (try 1): DB26AK\n"
          ]
        },
        {
          "output_type": "stream",
          "name": "stderr",
          "text": [
            "/tmp/ipython-input-3615969914.py:85: DeprecationWarning: The 'text' argument to find()-type methods is deprecated. Use 'string' instead.\n",
            "  el = soup.find(text=re.compile(label, re.I))\n"
          ]
        },
        {
          "output_type": "stream",
          "name": "stdout",
          "text": [
            "✓ Saved Project ID 326\n",
            "\n",
            "Fetching: https://maharerait.maharashtra.gov.in/public/project/view/327\n",
            "Captcha OCR (try 1): JIJEED\n",
            "Invalid captcha, retrying...\n",
            "Captcha OCR (try 2): TAAB2I\n",
            "Invalid captcha, retrying...\n",
            "Captcha OCR (try 3): MDIEF1\n",
            "Invalid captcha, retrying...\n",
            "Skipping project 327 due to repeated captcha failures.\n",
            "\n",
            "Fetching: https://maharerait.maharashtra.gov.in/public/project/view/328\n",
            "Captcha OCR (try 1): JII84N\n"
          ]
        },
        {
          "output_type": "stream",
          "name": "stderr",
          "text": [
            "/tmp/ipython-input-3615969914.py:85: DeprecationWarning: The 'text' argument to find()-type methods is deprecated. Use 'string' instead.\n",
            "  el = soup.find(text=re.compile(label, re.I))\n"
          ]
        },
        {
          "output_type": "stream",
          "name": "stdout",
          "text": [
            "✓ Saved Project ID 328\n",
            "\n",
            "Fetching: https://maharerait.maharashtra.gov.in/public/project/view/329\n",
            "Captcha OCR (try 1): J5GB20\n"
          ]
        },
        {
          "output_type": "stream",
          "name": "stderr",
          "text": [
            "/tmp/ipython-input-3615969914.py:85: DeprecationWarning: The 'text' argument to find()-type methods is deprecated. Use 'string' instead.\n",
            "  el = soup.find(text=re.compile(label, re.I))\n"
          ]
        },
        {
          "output_type": "stream",
          "name": "stdout",
          "text": [
            "✓ Saved Project ID 329\n",
            "\n",
            "Fetching: https://maharerait.maharashtra.gov.in/public/project/view/330\n",
            "Captcha OCR (try 1): C406KE\n"
          ]
        },
        {
          "output_type": "stream",
          "name": "stderr",
          "text": [
            "/tmp/ipython-input-3615969914.py:85: DeprecationWarning: The 'text' argument to find()-type methods is deprecated. Use 'string' instead.\n",
            "  el = soup.find(text=re.compile(label, re.I))\n"
          ]
        },
        {
          "output_type": "stream",
          "name": "stdout",
          "text": [
            "✓ Saved Project ID 330\n",
            "\n",
            "Fetching: https://maharerait.maharashtra.gov.in/public/project/view/331\n",
            "Captcha OCR (try 1): 7EBDMK\n"
          ]
        },
        {
          "output_type": "stream",
          "name": "stderr",
          "text": [
            "/tmp/ipython-input-3615969914.py:85: DeprecationWarning: The 'text' argument to find()-type methods is deprecated. Use 'string' instead.\n",
            "  el = soup.find(text=re.compile(label, re.I))\n"
          ]
        },
        {
          "output_type": "stream",
          "name": "stdout",
          "text": [
            "✓ Saved Project ID 331\n",
            "\n",
            "Fetching: https://maharerait.maharashtra.gov.in/public/project/view/332\n",
            "Captcha OCR (try 1): 5LG42A\n"
          ]
        },
        {
          "output_type": "stream",
          "name": "stderr",
          "text": [
            "/tmp/ipython-input-3615969914.py:85: DeprecationWarning: The 'text' argument to find()-type methods is deprecated. Use 'string' instead.\n",
            "  el = soup.find(text=re.compile(label, re.I))\n"
          ]
        },
        {
          "output_type": "stream",
          "name": "stdout",
          "text": [
            "✓ Saved Project ID 332\n",
            "\n",
            "Fetching: https://maharerait.maharashtra.gov.in/public/project/view/333\n",
            "Captcha OCR (try 1): HK618L\n"
          ]
        },
        {
          "output_type": "stream",
          "name": "stderr",
          "text": [
            "/tmp/ipython-input-3615969914.py:85: DeprecationWarning: The 'text' argument to find()-type methods is deprecated. Use 'string' instead.\n",
            "  el = soup.find(text=re.compile(label, re.I))\n"
          ]
        },
        {
          "output_type": "stream",
          "name": "stdout",
          "text": [
            "✓ Saved Project ID 333\n",
            "\n",
            "Fetching: https://maharerait.maharashtra.gov.in/public/project/view/334\n",
            "Captcha OCR (try 1): OS5SDJFJ\n",
            "Invalid captcha, retrying...\n",
            "Captcha OCR (try 2): BLSOHN\n",
            "Invalid captcha, retrying...\n",
            "Captcha OCR (try 3): 3J4AEN\n"
          ]
        },
        {
          "output_type": "stream",
          "name": "stderr",
          "text": [
            "/tmp/ipython-input-3615969914.py:85: DeprecationWarning: The 'text' argument to find()-type methods is deprecated. Use 'string' instead.\n",
            "  el = soup.find(text=re.compile(label, re.I))\n"
          ]
        },
        {
          "output_type": "stream",
          "name": "stdout",
          "text": [
            "✓ Saved Project ID 334\n",
            "\n",
            "Fetching: https://maharerait.maharashtra.gov.in/public/project/view/335\n",
            "Captcha OCR (try 1): HGHNE4\n"
          ]
        },
        {
          "output_type": "stream",
          "name": "stderr",
          "text": [
            "/tmp/ipython-input-3615969914.py:85: DeprecationWarning: The 'text' argument to find()-type methods is deprecated. Use 'string' instead.\n",
            "  el = soup.find(text=re.compile(label, re.I))\n"
          ]
        },
        {
          "output_type": "stream",
          "name": "stdout",
          "text": [
            "✓ Saved Project ID 335\n",
            "\n",
            "Fetching: https://maharerait.maharashtra.gov.in/public/project/view/336\n",
            "Captcha OCR (try 1): G4E4D8\n"
          ]
        },
        {
          "output_type": "stream",
          "name": "stderr",
          "text": [
            "/tmp/ipython-input-3615969914.py:85: DeprecationWarning: The 'text' argument to find()-type methods is deprecated. Use 'string' instead.\n",
            "  el = soup.find(text=re.compile(label, re.I))\n"
          ]
        },
        {
          "output_type": "stream",
          "name": "stdout",
          "text": [
            "✓ Saved Project ID 336\n",
            "\n",
            "Fetching: https://maharerait.maharashtra.gov.in/public/project/view/337\n",
            "Captcha OCR (try 1): K9FHOI\n",
            "Invalid captcha, retrying...\n",
            "Captcha OCR (try 2): A410N4\n"
          ]
        },
        {
          "output_type": "stream",
          "name": "stderr",
          "text": [
            "/tmp/ipython-input-3615969914.py:85: DeprecationWarning: The 'text' argument to find()-type methods is deprecated. Use 'string' instead.\n",
            "  el = soup.find(text=re.compile(label, re.I))\n"
          ]
        },
        {
          "output_type": "stream",
          "name": "stdout",
          "text": [
            "✓ Saved Project ID 337\n",
            "\n",
            "Fetching: https://maharerait.maharashtra.gov.in/public/project/view/338\n",
            "Captcha OCR (try 1): MGBLDB\n"
          ]
        },
        {
          "output_type": "stream",
          "name": "stderr",
          "text": [
            "/tmp/ipython-input-3615969914.py:85: DeprecationWarning: The 'text' argument to find()-type methods is deprecated. Use 'string' instead.\n",
            "  el = soup.find(text=re.compile(label, re.I))\n"
          ]
        },
        {
          "output_type": "stream",
          "name": "stdout",
          "text": [
            "✓ Saved Project ID 338\n",
            "\n",
            "Fetching: https://maharerait.maharashtra.gov.in/public/project/view/339\n",
            "Captcha OCR (try 1): OCS4E5\n",
            "Invalid captcha, retrying...\n",
            "Captcha OCR (try 2): 4B9NI1F\n",
            "Invalid captcha, retrying...\n",
            "Captcha OCR (try 3): FSEOMB\n",
            "Invalid captcha, retrying...\n",
            "Skipping project 339 due to repeated captcha failures.\n",
            "\n",
            "Fetching: https://maharerait.maharashtra.gov.in/public/project/view/340\n",
            "Captcha OCR (try 1): KN8N4E\n"
          ]
        },
        {
          "output_type": "stream",
          "name": "stderr",
          "text": [
            "/tmp/ipython-input-3615969914.py:85: DeprecationWarning: The 'text' argument to find()-type methods is deprecated. Use 'string' instead.\n",
            "  el = soup.find(text=re.compile(label, re.I))\n"
          ]
        },
        {
          "output_type": "stream",
          "name": "stdout",
          "text": [
            "✓ Saved Project ID 340\n",
            "\n",
            "Fetching: https://maharerait.maharashtra.gov.in/public/project/view/341\n",
            "Captcha OCR (try 1): 36LGM4\n"
          ]
        },
        {
          "output_type": "stream",
          "name": "stderr",
          "text": [
            "/tmp/ipython-input-3615969914.py:85: DeprecationWarning: The 'text' argument to find()-type methods is deprecated. Use 'string' instead.\n",
            "  el = soup.find(text=re.compile(label, re.I))\n"
          ]
        },
        {
          "output_type": "stream",
          "name": "stdout",
          "text": [
            "✓ Saved Project ID 341\n",
            "\n",
            "Fetching: https://maharerait.maharashtra.gov.in/public/project/view/342\n",
            "Captcha OCR (try 1): 370C8B\n"
          ]
        },
        {
          "output_type": "stream",
          "name": "stderr",
          "text": [
            "/tmp/ipython-input-3615969914.py:85: DeprecationWarning: The 'text' argument to find()-type methods is deprecated. Use 'string' instead.\n",
            "  el = soup.find(text=re.compile(label, re.I))\n"
          ]
        },
        {
          "output_type": "stream",
          "name": "stdout",
          "text": [
            "✓ Saved Project ID 342\n",
            "\n",
            "Fetching: https://maharerait.maharashtra.gov.in/public/project/view/343\n",
            "Captcha OCR (try 1): FNKCJ6\n"
          ]
        },
        {
          "output_type": "stream",
          "name": "stderr",
          "text": [
            "/tmp/ipython-input-3615969914.py:85: DeprecationWarning: The 'text' argument to find()-type methods is deprecated. Use 'string' instead.\n",
            "  el = soup.find(text=re.compile(label, re.I))\n"
          ]
        },
        {
          "output_type": "stream",
          "name": "stdout",
          "text": [
            "✓ Saved Project ID 343\n",
            "\n",
            "Fetching: https://maharerait.maharashtra.gov.in/public/project/view/344\n",
            "Captcha OCR (try 1): 4M5J7C\n"
          ]
        },
        {
          "output_type": "stream",
          "name": "stderr",
          "text": [
            "/tmp/ipython-input-3615969914.py:85: DeprecationWarning: The 'text' argument to find()-type methods is deprecated. Use 'string' instead.\n",
            "  el = soup.find(text=re.compile(label, re.I))\n"
          ]
        },
        {
          "output_type": "stream",
          "name": "stdout",
          "text": [
            "✓ Saved Project ID 344\n",
            "\n",
            "Fetching: https://maharerait.maharashtra.gov.in/public/project/view/345\n",
            "Captcha OCR (try 1): LS8KAH\n",
            "Invalid captcha, retrying...\n",
            "Captcha OCR (try 2): BA2MMD\n",
            "Invalid captcha, retrying...\n",
            "Captcha OCR (try 3): OGIM8L\n",
            "Invalid captcha, retrying...\n",
            "Skipping project 345 due to repeated captcha failures.\n",
            "\n",
            "Fetching: https://maharerait.maharashtra.gov.in/public/project/view/346\n",
            "Captcha OCR (try 1): ANNSIGI\n",
            "Invalid captcha, retrying...\n",
            "Captcha OCR (try 2): 9KKFLB\n"
          ]
        },
        {
          "output_type": "stream",
          "name": "stderr",
          "text": [
            "/tmp/ipython-input-3615969914.py:85: DeprecationWarning: The 'text' argument to find()-type methods is deprecated. Use 'string' instead.\n",
            "  el = soup.find(text=re.compile(label, re.I))\n"
          ]
        },
        {
          "output_type": "stream",
          "name": "stdout",
          "text": [
            "✓ Saved Project ID 346\n",
            "\n",
            "Fetching: https://maharerait.maharashtra.gov.in/public/project/view/347\n",
            "Captcha OCR (try 1): 3N6D7K\n"
          ]
        },
        {
          "output_type": "stream",
          "name": "stderr",
          "text": [
            "/tmp/ipython-input-3615969914.py:85: DeprecationWarning: The 'text' argument to find()-type methods is deprecated. Use 'string' instead.\n",
            "  el = soup.find(text=re.compile(label, re.I))\n"
          ]
        },
        {
          "output_type": "stream",
          "name": "stdout",
          "text": [
            "✓ Saved Project ID 347\n",
            "\n",
            "Fetching: https://maharerait.maharashtra.gov.in/public/project/view/348\n",
            "Captcha OCR (try 1): 2BAKNK\n"
          ]
        },
        {
          "output_type": "stream",
          "name": "stderr",
          "text": [
            "/tmp/ipython-input-3615969914.py:85: DeprecationWarning: The 'text' argument to find()-type methods is deprecated. Use 'string' instead.\n",
            "  el = soup.find(text=re.compile(label, re.I))\n"
          ]
        },
        {
          "output_type": "stream",
          "name": "stdout",
          "text": [
            "✓ Saved Project ID 348\n",
            "\n",
            "Fetching: https://maharerait.maharashtra.gov.in/public/project/view/349\n",
            "Captcha OCR (try 1): JLHNO8\n",
            "Invalid captcha, retrying...\n",
            "Captcha OCR (try 2): 66BIL2\n"
          ]
        },
        {
          "output_type": "stream",
          "name": "stderr",
          "text": [
            "/tmp/ipython-input-3615969914.py:85: DeprecationWarning: The 'text' argument to find()-type methods is deprecated. Use 'string' instead.\n",
            "  el = soup.find(text=re.compile(label, re.I))\n"
          ]
        },
        {
          "output_type": "stream",
          "name": "stdout",
          "text": [
            "✓ Saved Project ID 349\n",
            "\n",
            "Fetching: https://maharerait.maharashtra.gov.in/public/project/view/350\n",
            "Captcha OCR (try 1): DC2MJK\n"
          ]
        },
        {
          "output_type": "stream",
          "name": "stderr",
          "text": [
            "/tmp/ipython-input-3615969914.py:85: DeprecationWarning: The 'text' argument to find()-type methods is deprecated. Use 'string' instead.\n",
            "  el = soup.find(text=re.compile(label, re.I))\n"
          ]
        },
        {
          "output_type": "stream",
          "name": "stdout",
          "text": [
            "✓ Saved Project ID 350\n",
            "\n",
            "Fetching: https://maharerait.maharashtra.gov.in/public/project/view/351\n",
            "Captcha OCR (try 1): B7A9C6\n"
          ]
        },
        {
          "output_type": "stream",
          "name": "stderr",
          "text": [
            "/tmp/ipython-input-3615969914.py:85: DeprecationWarning: The 'text' argument to find()-type methods is deprecated. Use 'string' instead.\n",
            "  el = soup.find(text=re.compile(label, re.I))\n"
          ]
        },
        {
          "output_type": "stream",
          "name": "stdout",
          "text": [
            "✓ Saved Project ID 351\n",
            "\n",
            "Fetching: https://maharerait.maharashtra.gov.in/public/project/view/352\n",
            "Captcha OCR (try 1): K4JM1H\n"
          ]
        },
        {
          "output_type": "stream",
          "name": "stderr",
          "text": [
            "/tmp/ipython-input-3615969914.py:85: DeprecationWarning: The 'text' argument to find()-type methods is deprecated. Use 'string' instead.\n",
            "  el = soup.find(text=re.compile(label, re.I))\n"
          ]
        },
        {
          "output_type": "stream",
          "name": "stdout",
          "text": [
            "✓ Saved Project ID 352\n",
            "\n",
            "Fetching: https://maharerait.maharashtra.gov.in/public/project/view/353\n",
            "Captcha OCR (try 1): 22N41K\n",
            "Invalid captcha, retrying...\n",
            "Captcha OCR (try 2): MH1B38\n"
          ]
        },
        {
          "output_type": "stream",
          "name": "stderr",
          "text": [
            "/tmp/ipython-input-3615969914.py:85: DeprecationWarning: The 'text' argument to find()-type methods is deprecated. Use 'string' instead.\n",
            "  el = soup.find(text=re.compile(label, re.I))\n"
          ]
        },
        {
          "output_type": "stream",
          "name": "stdout",
          "text": [
            "✓ Saved Project ID 353\n",
            "\n",
            "Fetching: https://maharerait.maharashtra.gov.in/public/project/view/354\n",
            "Captcha OCR (try 1): GNHGAI\n"
          ]
        },
        {
          "output_type": "stream",
          "name": "stderr",
          "text": [
            "/tmp/ipython-input-3615969914.py:85: DeprecationWarning: The 'text' argument to find()-type methods is deprecated. Use 'string' instead.\n",
            "  el = soup.find(text=re.compile(label, re.I))\n"
          ]
        },
        {
          "output_type": "stream",
          "name": "stdout",
          "text": [
            "✓ Saved Project ID 354\n",
            "\n",
            "Fetching: https://maharerait.maharashtra.gov.in/public/project/view/355\n",
            "Captcha OCR (try 1): CLCJOI\n",
            "Invalid captcha, retrying...\n",
            "Captcha OCR (try 2): 5LBDD7\n"
          ]
        },
        {
          "output_type": "stream",
          "name": "stderr",
          "text": [
            "/tmp/ipython-input-3615969914.py:85: DeprecationWarning: The 'text' argument to find()-type methods is deprecated. Use 'string' instead.\n",
            "  el = soup.find(text=re.compile(label, re.I))\n"
          ]
        },
        {
          "output_type": "stream",
          "name": "stdout",
          "text": [
            "✓ Saved Project ID 355\n",
            "\n",
            "Fetching: https://maharerait.maharashtra.gov.in/public/project/view/356\n",
            "Captcha OCR (try 1): A41BLL\n"
          ]
        },
        {
          "output_type": "stream",
          "name": "stderr",
          "text": [
            "/tmp/ipython-input-3615969914.py:85: DeprecationWarning: The 'text' argument to find()-type methods is deprecated. Use 'string' instead.\n",
            "  el = soup.find(text=re.compile(label, re.I))\n"
          ]
        },
        {
          "output_type": "stream",
          "name": "stdout",
          "text": [
            "✓ Saved Project ID 356\n",
            "\n",
            "Fetching: https://maharerait.maharashtra.gov.in/public/project/view/357\n",
            "Captcha OCR (try 1): LG48JN\n"
          ]
        },
        {
          "output_type": "stream",
          "name": "stderr",
          "text": [
            "/tmp/ipython-input-3615969914.py:85: DeprecationWarning: The 'text' argument to find()-type methods is deprecated. Use 'string' instead.\n",
            "  el = soup.find(text=re.compile(label, re.I))\n"
          ]
        },
        {
          "output_type": "stream",
          "name": "stdout",
          "text": [
            "✓ Saved Project ID 357\n",
            "\n",
            "Fetching: https://maharerait.maharashtra.gov.in/public/project/view/358\n",
            "Captcha OCR (try 1): E9L2FB\n"
          ]
        },
        {
          "output_type": "stream",
          "name": "stderr",
          "text": [
            "/tmp/ipython-input-3615969914.py:85: DeprecationWarning: The 'text' argument to find()-type methods is deprecated. Use 'string' instead.\n",
            "  el = soup.find(text=re.compile(label, re.I))\n"
          ]
        },
        {
          "output_type": "stream",
          "name": "stdout",
          "text": [
            "✓ Saved Project ID 358\n",
            "\n",
            "Fetching: https://maharerait.maharashtra.gov.in/public/project/view/359\n",
            "Captcha OCR (try 1): EH351H\n"
          ]
        },
        {
          "output_type": "stream",
          "name": "stderr",
          "text": [
            "/tmp/ipython-input-3615969914.py:85: DeprecationWarning: The 'text' argument to find()-type methods is deprecated. Use 'string' instead.\n",
            "  el = soup.find(text=re.compile(label, re.I))\n"
          ]
        },
        {
          "output_type": "stream",
          "name": "stdout",
          "text": [
            "✓ Saved Project ID 359\n",
            "\n",
            "Fetching: https://maharerait.maharashtra.gov.in/public/project/view/360\n",
            "Captcha OCR (try 1): CM2LDH\n"
          ]
        },
        {
          "output_type": "stream",
          "name": "stderr",
          "text": [
            "/tmp/ipython-input-3615969914.py:85: DeprecationWarning: The 'text' argument to find()-type methods is deprecated. Use 'string' instead.\n",
            "  el = soup.find(text=re.compile(label, re.I))\n"
          ]
        },
        {
          "output_type": "stream",
          "name": "stdout",
          "text": [
            "✓ Saved Project ID 360\n",
            "\n",
            "Fetching: https://maharerait.maharashtra.gov.in/public/project/view/361\n",
            "Captcha OCR (try 1): K3GC3F\n"
          ]
        },
        {
          "output_type": "stream",
          "name": "stderr",
          "text": [
            "/tmp/ipython-input-3615969914.py:85: DeprecationWarning: The 'text' argument to find()-type methods is deprecated. Use 'string' instead.\n",
            "  el = soup.find(text=re.compile(label, re.I))\n"
          ]
        },
        {
          "output_type": "stream",
          "name": "stdout",
          "text": [
            "✓ Saved Project ID 361\n",
            "\n",
            "Fetching: https://maharerait.maharashtra.gov.in/public/project/view/362\n",
            "Captcha OCR (try 1): BOASC1\n",
            "Invalid captcha, retrying...\n",
            "Captcha OCR (try 2): JN8BM9\n"
          ]
        },
        {
          "output_type": "stream",
          "name": "stderr",
          "text": [
            "/tmp/ipython-input-3615969914.py:85: DeprecationWarning: The 'text' argument to find()-type methods is deprecated. Use 'string' instead.\n",
            "  el = soup.find(text=re.compile(label, re.I))\n"
          ]
        },
        {
          "output_type": "stream",
          "name": "stdout",
          "text": [
            "✓ Saved Project ID 362\n",
            "\n",
            "Fetching: https://maharerait.maharashtra.gov.in/public/project/view/363\n",
            "Captcha OCR (try 1): LJOB89\n",
            "Invalid captcha, retrying...\n",
            "Captcha OCR (try 2): B361E6\n",
            "Invalid captcha, retrying...\n",
            "Captcha OCR (try 3): 4J8AAC\n"
          ]
        },
        {
          "output_type": "stream",
          "name": "stderr",
          "text": [
            "/tmp/ipython-input-3615969914.py:85: DeprecationWarning: The 'text' argument to find()-type methods is deprecated. Use 'string' instead.\n",
            "  el = soup.find(text=re.compile(label, re.I))\n"
          ]
        },
        {
          "output_type": "stream",
          "name": "stdout",
          "text": [
            "✓ Saved Project ID 363\n",
            "\n",
            "Fetching: https://maharerait.maharashtra.gov.in/public/project/view/364\n",
            "Captcha OCR (try 1): MKGH78\n"
          ]
        },
        {
          "output_type": "stream",
          "name": "stderr",
          "text": [
            "/tmp/ipython-input-3615969914.py:85: DeprecationWarning: The 'text' argument to find()-type methods is deprecated. Use 'string' instead.\n",
            "  el = soup.find(text=re.compile(label, re.I))\n"
          ]
        },
        {
          "output_type": "stream",
          "name": "stdout",
          "text": [
            "✓ Saved Project ID 364\n",
            "\n",
            "Fetching: https://maharerait.maharashtra.gov.in/public/project/view/365\n",
            "Captcha OCR (try 1): GCS5S3CE\n",
            "Invalid captcha, retrying...\n",
            "Captcha OCR (try 2): 7EIAS9\n",
            "Invalid captcha, retrying...\n",
            "Captcha OCR (try 3): 9CD85J\n"
          ]
        },
        {
          "output_type": "stream",
          "name": "stderr",
          "text": [
            "/tmp/ipython-input-3615969914.py:85: DeprecationWarning: The 'text' argument to find()-type methods is deprecated. Use 'string' instead.\n",
            "  el = soup.find(text=re.compile(label, re.I))\n"
          ]
        },
        {
          "output_type": "stream",
          "name": "stdout",
          "text": [
            "✓ Saved Project ID 365\n",
            "\n",
            "Fetching: https://maharerait.maharashtra.gov.in/public/project/view/366\n",
            "Captcha OCR (try 1): O19KLM\n",
            "Invalid captcha, retrying...\n",
            "Captcha OCR (try 2): DBIKNN\n",
            "Invalid captcha, retrying...\n",
            "Captcha OCR (try 3): GCHN2E\n"
          ]
        },
        {
          "output_type": "stream",
          "name": "stderr",
          "text": [
            "/tmp/ipython-input-3615969914.py:85: DeprecationWarning: The 'text' argument to find()-type methods is deprecated. Use 'string' instead.\n",
            "  el = soup.find(text=re.compile(label, re.I))\n"
          ]
        },
        {
          "output_type": "stream",
          "name": "stdout",
          "text": [
            "✓ Saved Project ID 366\n",
            "\n",
            "Fetching: https://maharerait.maharashtra.gov.in/public/project/view/367\n",
            "Captcha OCR (try 1): 436036\n"
          ]
        },
        {
          "output_type": "stream",
          "name": "stderr",
          "text": [
            "/tmp/ipython-input-3615969914.py:85: DeprecationWarning: The 'text' argument to find()-type methods is deprecated. Use 'string' instead.\n",
            "  el = soup.find(text=re.compile(label, re.I))\n"
          ]
        },
        {
          "output_type": "stream",
          "name": "stdout",
          "text": [
            "✓ Saved Project ID 367\n",
            "\n",
            "Fetching: https://maharerait.maharashtra.gov.in/public/project/view/368\n",
            "Captcha OCR (try 1): 39HBG6\n"
          ]
        },
        {
          "output_type": "stream",
          "name": "stderr",
          "text": [
            "/tmp/ipython-input-3615969914.py:85: DeprecationWarning: The 'text' argument to find()-type methods is deprecated. Use 'string' instead.\n",
            "  el = soup.find(text=re.compile(label, re.I))\n"
          ]
        },
        {
          "output_type": "stream",
          "name": "stdout",
          "text": [
            "✓ Saved Project ID 368\n",
            "\n",
            "Fetching: https://maharerait.maharashtra.gov.in/public/project/view/369\n",
            "Captcha OCR (try 1): G3LAHE\n"
          ]
        },
        {
          "output_type": "stream",
          "name": "stderr",
          "text": [
            "/tmp/ipython-input-3615969914.py:85: DeprecationWarning: The 'text' argument to find()-type methods is deprecated. Use 'string' instead.\n",
            "  el = soup.find(text=re.compile(label, re.I))\n"
          ]
        },
        {
          "output_type": "stream",
          "name": "stdout",
          "text": [
            "✓ Saved Project ID 369\n",
            "\n",
            "Fetching: https://maharerait.maharashtra.gov.in/public/project/view/370\n",
            "Captcha OCR (try 1): H3NMDJ\n"
          ]
        },
        {
          "output_type": "stream",
          "name": "stderr",
          "text": [
            "/tmp/ipython-input-3615969914.py:85: DeprecationWarning: The 'text' argument to find()-type methods is deprecated. Use 'string' instead.\n",
            "  el = soup.find(text=re.compile(label, re.I))\n"
          ]
        },
        {
          "output_type": "stream",
          "name": "stdout",
          "text": [
            "✓ Saved Project ID 370\n",
            "\n",
            "Fetching: https://maharerait.maharashtra.gov.in/public/project/view/371\n",
            "Captcha OCR (try 1): FCHBDS\n",
            "Invalid captcha, retrying...\n",
            "Captcha OCR (try 2): N5S5GJJ\n",
            "Invalid captcha, retrying...\n",
            "Captcha OCR (try 3): EDS5GJM\n",
            "Invalid captcha, retrying...\n",
            "Skipping project 371 due to repeated captcha failures.\n",
            "\n",
            "Fetching: https://maharerait.maharashtra.gov.in/public/project/view/372\n",
            "Captcha OCR (try 1): 1J61D6\n",
            "Invalid captcha, retrying...\n",
            "Captcha OCR (try 2): 495LGM\n"
          ]
        },
        {
          "output_type": "stream",
          "name": "stderr",
          "text": [
            "/tmp/ipython-input-3615969914.py:85: DeprecationWarning: The 'text' argument to find()-type methods is deprecated. Use 'string' instead.\n",
            "  el = soup.find(text=re.compile(label, re.I))\n"
          ]
        },
        {
          "output_type": "stream",
          "name": "stdout",
          "text": [
            "✓ Saved Project ID 372\n",
            "\n",
            "Fetching: https://maharerait.maharashtra.gov.in/public/project/view/373\n",
            "Captcha OCR (try 1): HOEMS54\n",
            "Invalid captcha, retrying...\n",
            "Captcha OCR (try 2): 231L59\n"
          ]
        },
        {
          "output_type": "stream",
          "name": "stderr",
          "text": [
            "/tmp/ipython-input-3615969914.py:85: DeprecationWarning: The 'text' argument to find()-type methods is deprecated. Use 'string' instead.\n",
            "  el = soup.find(text=re.compile(label, re.I))\n"
          ]
        },
        {
          "output_type": "stream",
          "name": "stdout",
          "text": [
            "✓ Saved Project ID 373\n",
            "\n",
            "Fetching: https://maharerait.maharashtra.gov.in/public/project/view/374\n",
            "Captcha OCR (try 1): A1I1GMGA\n",
            "Invalid captcha, retrying...\n",
            "Captcha OCR (try 2): 5AJ2CB\n"
          ]
        },
        {
          "output_type": "stream",
          "name": "stderr",
          "text": [
            "/tmp/ipython-input-3615969914.py:85: DeprecationWarning: The 'text' argument to find()-type methods is deprecated. Use 'string' instead.\n",
            "  el = soup.find(text=re.compile(label, re.I))\n"
          ]
        },
        {
          "output_type": "stream",
          "name": "stdout",
          "text": [
            "✓ Saved Project ID 374\n",
            "\n",
            "Fetching: https://maharerait.maharashtra.gov.in/public/project/view/375\n",
            "Captcha OCR (try 1): KKCHJG\n"
          ]
        },
        {
          "output_type": "stream",
          "name": "stderr",
          "text": [
            "/tmp/ipython-input-3615969914.py:85: DeprecationWarning: The 'text' argument to find()-type methods is deprecated. Use 'string' instead.\n",
            "  el = soup.find(text=re.compile(label, re.I))\n"
          ]
        },
        {
          "output_type": "stream",
          "name": "stdout",
          "text": [
            "✓ Saved Project ID 375\n",
            "\n",
            "Fetching: https://maharerait.maharashtra.gov.in/public/project/view/376\n",
            "Captcha OCR (try 1): CFIHMD\n"
          ]
        },
        {
          "output_type": "stream",
          "name": "stderr",
          "text": [
            "/tmp/ipython-input-3615969914.py:85: DeprecationWarning: The 'text' argument to find()-type methods is deprecated. Use 'string' instead.\n",
            "  el = soup.find(text=re.compile(label, re.I))\n"
          ]
        },
        {
          "output_type": "stream",
          "name": "stdout",
          "text": [
            "✓ Saved Project ID 376\n",
            "\n",
            "Fetching: https://maharerait.maharashtra.gov.in/public/project/view/377\n",
            "Captcha OCR (try 1): MBCFEC\n"
          ]
        },
        {
          "output_type": "stream",
          "name": "stderr",
          "text": [
            "/tmp/ipython-input-3615969914.py:85: DeprecationWarning: The 'text' argument to find()-type methods is deprecated. Use 'string' instead.\n",
            "  el = soup.find(text=re.compile(label, re.I))\n"
          ]
        },
        {
          "output_type": "stream",
          "name": "stdout",
          "text": [
            "✓ Saved Project ID 377\n",
            "\n",
            "Fetching: https://maharerait.maharashtra.gov.in/public/project/view/378\n",
            "Captcha OCR (try 1): D915LD\n"
          ]
        },
        {
          "output_type": "stream",
          "name": "stderr",
          "text": [
            "/tmp/ipython-input-3615969914.py:85: DeprecationWarning: The 'text' argument to find()-type methods is deprecated. Use 'string' instead.\n",
            "  el = soup.find(text=re.compile(label, re.I))\n"
          ]
        },
        {
          "output_type": "stream",
          "name": "stdout",
          "text": [
            "✓ Saved Project ID 378\n",
            "\n",
            "Fetching: https://maharerait.maharashtra.gov.in/public/project/view/379\n",
            "Captcha OCR (try 1): 69D5NL\n"
          ]
        },
        {
          "output_type": "stream",
          "name": "stderr",
          "text": [
            "/tmp/ipython-input-3615969914.py:85: DeprecationWarning: The 'text' argument to find()-type methods is deprecated. Use 'string' instead.\n",
            "  el = soup.find(text=re.compile(label, re.I))\n"
          ]
        },
        {
          "output_type": "stream",
          "name": "stdout",
          "text": [
            "✓ Saved Project ID 379\n",
            "\n",
            "Fetching: https://maharerait.maharashtra.gov.in/public/project/view/380\n",
            "Captcha OCR (try 1): 6D25KK\n"
          ]
        },
        {
          "output_type": "stream",
          "name": "stderr",
          "text": [
            "/tmp/ipython-input-3615969914.py:85: DeprecationWarning: The 'text' argument to find()-type methods is deprecated. Use 'string' instead.\n",
            "  el = soup.find(text=re.compile(label, re.I))\n"
          ]
        },
        {
          "output_type": "stream",
          "name": "stdout",
          "text": [
            "✓ Saved Project ID 380\n",
            "\n",
            "Fetching: https://maharerait.maharashtra.gov.in/public/project/view/381\n",
            "Captcha OCR (try 1): 6EMAGO\n",
            "Invalid captcha, retrying...\n",
            "Captcha OCR (try 2): OFDB45\n",
            "Invalid captcha, retrying...\n",
            "Captcha OCR (try 3): 7MBAJSC\n",
            "Invalid captcha, retrying...\n",
            "Skipping project 381 due to repeated captcha failures.\n",
            "\n",
            "Fetching: https://maharerait.maharashtra.gov.in/public/project/view/382\n",
            "Captcha OCR (try 1): 5N2LMI\n"
          ]
        },
        {
          "output_type": "stream",
          "name": "stderr",
          "text": [
            "/tmp/ipython-input-3615969914.py:85: DeprecationWarning: The 'text' argument to find()-type methods is deprecated. Use 'string' instead.\n",
            "  el = soup.find(text=re.compile(label, re.I))\n"
          ]
        },
        {
          "output_type": "stream",
          "name": "stdout",
          "text": [
            "✓ Saved Project ID 382\n",
            "\n",
            "Fetching: https://maharerait.maharashtra.gov.in/public/project/view/383\n",
            "Captcha OCR (try 1): M8ALJN\n"
          ]
        },
        {
          "output_type": "stream",
          "name": "stderr",
          "text": [
            "/tmp/ipython-input-3615969914.py:85: DeprecationWarning: The 'text' argument to find()-type methods is deprecated. Use 'string' instead.\n",
            "  el = soup.find(text=re.compile(label, re.I))\n"
          ]
        },
        {
          "output_type": "stream",
          "name": "stdout",
          "text": [
            "✓ Saved Project ID 383\n",
            "\n",
            "Fetching: https://maharerait.maharashtra.gov.in/public/project/view/384\n",
            "Captcha OCR (try 1): BDHKH9\n",
            "Invalid captcha, retrying...\n",
            "Captcha canvas not found, skipping this ID.\n",
            "Skipping project 384 due to repeated captcha failures.\n",
            "\n",
            "Fetching: https://maharerait.maharashtra.gov.in/public/project/view/385\n",
            "Captcha OCR (try 1): 2LE4D8\n"
          ]
        },
        {
          "output_type": "stream",
          "name": "stderr",
          "text": [
            "/tmp/ipython-input-3615969914.py:85: DeprecationWarning: The 'text' argument to find()-type methods is deprecated. Use 'string' instead.\n",
            "  el = soup.find(text=re.compile(label, re.I))\n"
          ]
        },
        {
          "output_type": "stream",
          "name": "stdout",
          "text": [
            "✓ Saved Project ID 385\n",
            "\n",
            "Fetching: https://maharerait.maharashtra.gov.in/public/project/view/386\n",
            "Captcha OCR (try 1): 2F50FK\n"
          ]
        },
        {
          "output_type": "stream",
          "name": "stderr",
          "text": [
            "/tmp/ipython-input-3615969914.py:85: DeprecationWarning: The 'text' argument to find()-type methods is deprecated. Use 'string' instead.\n",
            "  el = soup.find(text=re.compile(label, re.I))\n"
          ]
        },
        {
          "output_type": "stream",
          "name": "stdout",
          "text": [
            "✓ Saved Project ID 386\n",
            "\n",
            "Fetching: https://maharerait.maharashtra.gov.in/public/project/view/387\n",
            "Captcha OCR (try 1): HCBCLM\n"
          ]
        },
        {
          "output_type": "stream",
          "name": "stderr",
          "text": [
            "/tmp/ipython-input-3615969914.py:85: DeprecationWarning: The 'text' argument to find()-type methods is deprecated. Use 'string' instead.\n",
            "  el = soup.find(text=re.compile(label, re.I))\n"
          ]
        },
        {
          "output_type": "stream",
          "name": "stdout",
          "text": [
            "✓ Saved Project ID 387\n",
            "\n",
            "Fetching: https://maharerait.maharashtra.gov.in/public/project/view/388\n",
            "Captcha OCR (try 1): 4A4MMH\n"
          ]
        },
        {
          "output_type": "stream",
          "name": "stderr",
          "text": [
            "/tmp/ipython-input-3615969914.py:85: DeprecationWarning: The 'text' argument to find()-type methods is deprecated. Use 'string' instead.\n",
            "  el = soup.find(text=re.compile(label, re.I))\n"
          ]
        },
        {
          "output_type": "stream",
          "name": "stdout",
          "text": [
            "✓ Saved Project ID 388\n",
            "\n",
            "Fetching: https://maharerait.maharashtra.gov.in/public/project/view/389\n",
            "Captcha OCR (try 1): 6FJIN85S\n",
            "Invalid captcha, retrying...\n",
            "Captcha OCR (try 2): 4MB461\n",
            "Invalid captcha, retrying...\n",
            "Captcha OCR (try 3): 1LBJHD\n"
          ]
        },
        {
          "output_type": "stream",
          "name": "stderr",
          "text": [
            "/tmp/ipython-input-3615969914.py:85: DeprecationWarning: The 'text' argument to find()-type methods is deprecated. Use 'string' instead.\n",
            "  el = soup.find(text=re.compile(label, re.I))\n"
          ]
        },
        {
          "output_type": "stream",
          "name": "stdout",
          "text": [
            "✓ Saved Project ID 389\n",
            "\n",
            "Fetching: https://maharerait.maharashtra.gov.in/public/project/view/390\n",
            "Captcha OCR (try 1): 297CJ0\n"
          ]
        },
        {
          "output_type": "stream",
          "name": "stderr",
          "text": [
            "/tmp/ipython-input-3615969914.py:85: DeprecationWarning: The 'text' argument to find()-type methods is deprecated. Use 'string' instead.\n",
            "  el = soup.find(text=re.compile(label, re.I))\n"
          ]
        },
        {
          "output_type": "stream",
          "name": "stdout",
          "text": [
            "✓ Saved Project ID 390\n",
            "\n",
            "Fetching: https://maharerait.maharashtra.gov.in/public/project/view/391\n",
            "Captcha OCR (try 1): 69ECDN\n"
          ]
        },
        {
          "output_type": "stream",
          "name": "stderr",
          "text": [
            "/tmp/ipython-input-3615969914.py:85: DeprecationWarning: The 'text' argument to find()-type methods is deprecated. Use 'string' instead.\n",
            "  el = soup.find(text=re.compile(label, re.I))\n"
          ]
        },
        {
          "output_type": "stream",
          "name": "stdout",
          "text": [
            "✓ Saved Project ID 391\n",
            "\n",
            "Fetching: https://maharerait.maharashtra.gov.in/public/project/view/392\n",
            "Captcha OCR (try 1): F5G065\n"
          ]
        },
        {
          "output_type": "stream",
          "name": "stderr",
          "text": [
            "/tmp/ipython-input-3615969914.py:85: DeprecationWarning: The 'text' argument to find()-type methods is deprecated. Use 'string' instead.\n",
            "  el = soup.find(text=re.compile(label, re.I))\n"
          ]
        },
        {
          "output_type": "stream",
          "name": "stdout",
          "text": [
            "✓ Saved Project ID 392\n",
            "\n",
            "Fetching: https://maharerait.maharashtra.gov.in/public/project/view/393\n",
            "Captcha OCR (try 1): BDI9DK\n"
          ]
        },
        {
          "output_type": "stream",
          "name": "stderr",
          "text": [
            "/tmp/ipython-input-3615969914.py:85: DeprecationWarning: The 'text' argument to find()-type methods is deprecated. Use 'string' instead.\n",
            "  el = soup.find(text=re.compile(label, re.I))\n"
          ]
        },
        {
          "output_type": "stream",
          "name": "stdout",
          "text": [
            "✓ Saved Project ID 393\n",
            "\n",
            "Fetching: https://maharerait.maharashtra.gov.in/public/project/view/394\n",
            "Captcha OCR (try 1): EOIMJK\n",
            "Invalid captcha, retrying...\n",
            "Captcha OCR (try 2): BIG9JM\n"
          ]
        },
        {
          "output_type": "stream",
          "name": "stderr",
          "text": [
            "/tmp/ipython-input-3615969914.py:85: DeprecationWarning: The 'text' argument to find()-type methods is deprecated. Use 'string' instead.\n",
            "  el = soup.find(text=re.compile(label, re.I))\n"
          ]
        },
        {
          "output_type": "stream",
          "name": "stdout",
          "text": [
            "✓ Saved Project ID 394\n",
            "\n",
            "Fetching: https://maharerait.maharashtra.gov.in/public/project/view/395\n",
            "Captcha OCR (try 1): H1IDE20\n",
            "Invalid captcha, retrying...\n",
            "Captcha OCR (try 2): 4DFNIC\n"
          ]
        },
        {
          "output_type": "stream",
          "name": "stderr",
          "text": [
            "/tmp/ipython-input-3615969914.py:85: DeprecationWarning: The 'text' argument to find()-type methods is deprecated. Use 'string' instead.\n",
            "  el = soup.find(text=re.compile(label, re.I))\n"
          ]
        },
        {
          "output_type": "stream",
          "name": "stdout",
          "text": [
            "✓ Saved Project ID 395\n",
            "\n",
            "Fetching: https://maharerait.maharashtra.gov.in/public/project/view/396\n",
            "Captcha OCR (try 1): S5EDGBE\n",
            "Invalid captcha, retrying...\n",
            "Captcha OCR (try 2): 53FO0FM\n",
            "Invalid captcha, retrying...\n",
            "Captcha OCR (try 3): I6LNE9\n",
            "Invalid captcha, retrying...\n"
          ]
        },
        {
          "output_type": "error",
          "ename": "TimeoutError",
          "evalue": "Locator.click: Timeout 30000ms exceeded.\nCall log:\n  - waiting for get_by_role(\"button\", name=\"Ok\")\n    - locator resolved to <a role=\"button\" id=\"download1\" value=\"download\" class=\"download\" _ngcontent-ndp-c22=\"\" title=\"Click to Download\"> Gokuldham-Agreement.pdf </a>\n  - attempting click action\n    2 × waiting for element to be visible, enabled and stable\n      - element is visible, enabled and stable\n      - scrolling into view if needed\n      - done scrolling\n      - <div class=\"abeyance-msg\" _ngcontent-ndp-c22=\"\">…</div> from <div tabindex=\"-1\" id=\"abeyanceMsg\" _ngcontent-ndp-c22=\"\" class=\"modal fade show\">…</div> subtree intercepts pointer events\n    - retrying click action\n    - waiting 20ms\n    2 × waiting for element to be visible, enabled and stable\n      - element is not stable\n    - retrying click action\n      - waiting 100ms\n    - waiting for element to be visible, enabled and stable\n    - element is not stable\n  14 × retrying click action\n       - waiting 500ms\n       - waiting for element to be visible, enabled and stable\n       - element is visible, enabled and stable\n       - scrolling into view if needed\n       - done scrolling\n       - <div tabindex=\"-1\" id=\"abeyanceMsg\" _ngcontent-ndp-c22=\"\" class=\"modal fade show\">…</div> intercepts pointer events\n     - retrying click action\n       - waiting 500ms\n       - waiting for element to be visible, enabled and stable\n       - element is visible, enabled and stable\n       - scrolling into view if needed\n       - done scrolling\n       - <div tabindex=\"-1\" id=\"abeyanceMsg\" _ngcontent-ndp-c22=\"\" class=\"modal fade show\">…</div> intercepts pointer events\n     - retrying click action\n       - waiting 500ms\n       - waiting for element to be visible, enabled and stable\n       - element is visible, enabled and stable\n       - scrolling into view if needed\n       - done scrolling\n       - <div class=\"abeyance-msg\" _ngcontent-ndp-c22=\"\">…</div> from <div tabindex=\"-1\" id=\"abeyanceMsg\" _ngcontent-ndp-c22=\"\" class=\"modal fade show\">…</div> subtree intercepts pointer events\n     - retrying click action\n       - waiting 500ms\n       - waiting for element to be visible, enabled and stable\n       - element is visible, enabled and stable\n       - scrolling into view if needed\n       - done scrolling\n       - <div tabindex=\"-1\" id=\"abeyanceMsg\" _ngcontent-ndp-c22=\"\" class=\"modal fade show\">…</div> intercepts pointer events\n  - retrying click action\n    - waiting 500ms\n",
          "traceback": [
            "\u001b[0;31m---------------------------------------------------------------------------\u001b[0m",
            "\u001b[0;31mTimeoutError\u001b[0m                              Traceback (most recent call last)",
            "\u001b[0;32m/tmp/ipython-input-278341093.py\u001b[0m in \u001b[0;36m<cell line: 1>\u001b[0;34m()\u001b[0m\n\u001b[0;32m----> 1\u001b[0;31m await scrape_projects_to_csv(\n\u001b[0m\u001b[1;32m      2\u001b[0m     \u001b[0mbase_url\u001b[0m\u001b[0;34m=\u001b[0m\u001b[0;34m\"https://maharerait.maharashtra.gov.in/public/project/view\"\u001b[0m\u001b[0;34m,\u001b[0m\u001b[0;34m\u001b[0m\u001b[0;34m\u001b[0m\u001b[0m\n\u001b[1;32m      3\u001b[0m     \u001b[0mstart_id\u001b[0m\u001b[0;34m=\u001b[0m\u001b[0;36m1\u001b[0m\u001b[0;34m,\u001b[0m\u001b[0;34m\u001b[0m\u001b[0;34m\u001b[0m\u001b[0m\n\u001b[1;32m      4\u001b[0m     \u001b[0mcsv_filename\u001b[0m\u001b[0;34m=\u001b[0m\u001b[0;34m\"maharera_projects.csv\"\u001b[0m\u001b[0;34m\u001b[0m\u001b[0;34m\u001b[0m\u001b[0m\n\u001b[1;32m      5\u001b[0m )\n",
            "\u001b[0;32m/tmp/ipython-input-3615969914.py\u001b[0m in \u001b[0;36mscrape_projects_to_csv\u001b[0;34m(base_url, start_id, csv_filename)\u001b[0m\n\u001b[1;32m     66\u001b[0m                 \u001b[0;32mif\u001b[0m \u001b[0;32mawait\u001b[0m \u001b[0mpage\u001b[0m\u001b[0;34m.\u001b[0m\u001b[0mget_by_role\u001b[0m\u001b[0;34m(\u001b[0m\u001b[0;34m\"button\"\u001b[0m\u001b[0;34m,\u001b[0m \u001b[0mname\u001b[0m\u001b[0;34m=\u001b[0m\u001b[0;34m\"Ok\"\u001b[0m\u001b[0;34m)\u001b[0m\u001b[0;34m.\u001b[0m\u001b[0mis_visible\u001b[0m\u001b[0;34m(\u001b[0m\u001b[0;34m)\u001b[0m\u001b[0;34m:\u001b[0m\u001b[0;34m\u001b[0m\u001b[0;34m\u001b[0m\u001b[0m\n\u001b[1;32m     67\u001b[0m                     \u001b[0mprint\u001b[0m\u001b[0;34m(\u001b[0m\u001b[0;34m\"Invalid captcha, retrying...\"\u001b[0m\u001b[0;34m)\u001b[0m\u001b[0;34m\u001b[0m\u001b[0;34m\u001b[0m\u001b[0m\n\u001b[0;32m---> 68\u001b[0;31m                     \u001b[0;32mawait\u001b[0m \u001b[0mpage\u001b[0m\u001b[0;34m.\u001b[0m\u001b[0mget_by_role\u001b[0m\u001b[0;34m(\u001b[0m\u001b[0;34m\"button\"\u001b[0m\u001b[0;34m,\u001b[0m \u001b[0mname\u001b[0m\u001b[0;34m=\u001b[0m\u001b[0;34m\"Ok\"\u001b[0m\u001b[0;34m)\u001b[0m\u001b[0;34m.\u001b[0m\u001b[0mclick\u001b[0m\u001b[0;34m(\u001b[0m\u001b[0;34m)\u001b[0m\u001b[0;34m\u001b[0m\u001b[0;34m\u001b[0m\u001b[0m\n\u001b[0m\u001b[1;32m     69\u001b[0m                     \u001b[0;32mawait\u001b[0m \u001b[0mpage\u001b[0m\u001b[0;34m.\u001b[0m\u001b[0mwait_for_timeout\u001b[0m\u001b[0;34m(\u001b[0m\u001b[0;36m1000\u001b[0m\u001b[0;34m)\u001b[0m\u001b[0;34m\u001b[0m\u001b[0;34m\u001b[0m\u001b[0m\n\u001b[1;32m     70\u001b[0m                     \u001b[0;32mcontinue\u001b[0m  \u001b[0;31m# Try again\u001b[0m\u001b[0;34m\u001b[0m\u001b[0;34m\u001b[0m\u001b[0m\n",
            "\u001b[0;32m/usr/local/lib/python3.12/dist-packages/playwright/async_api/_generated.py\u001b[0m in \u001b[0;36mclick\u001b[0;34m(self, modifiers, position, delay, button, click_count, timeout, force, no_wait_after, trial)\u001b[0m\n\u001b[1;32m  15495\u001b[0m \u001b[0;34m\u001b[0m\u001b[0m\n\u001b[1;32m  15496\u001b[0m         return mapping.from_maybe_impl(\n\u001b[0;32m> 15497\u001b[0;31m             await self._impl_obj.click(\n\u001b[0m\u001b[1;32m  15498\u001b[0m                 \u001b[0mmodifiers\u001b[0m\u001b[0;34m=\u001b[0m\u001b[0mmapping\u001b[0m\u001b[0;34m.\u001b[0m\u001b[0mto_impl\u001b[0m\u001b[0;34m(\u001b[0m\u001b[0mmodifiers\u001b[0m\u001b[0;34m)\u001b[0m\u001b[0;34m,\u001b[0m\u001b[0;34m\u001b[0m\u001b[0;34m\u001b[0m\u001b[0m\n\u001b[1;32m  15499\u001b[0m                 \u001b[0mposition\u001b[0m\u001b[0;34m=\u001b[0m\u001b[0mposition\u001b[0m\u001b[0;34m,\u001b[0m\u001b[0;34m\u001b[0m\u001b[0;34m\u001b[0m\u001b[0m\n",
            "\u001b[0;32m/usr/local/lib/python3.12/dist-packages/playwright/_impl/_locator.py\u001b[0m in \u001b[0;36mclick\u001b[0;34m(self, modifiers, position, delay, button, clickCount, timeout, force, noWaitAfter, trial)\u001b[0m\n\u001b[1;32m    158\u001b[0m     ) -> None:\n\u001b[1;32m    159\u001b[0m         \u001b[0mparams\u001b[0m \u001b[0;34m=\u001b[0m \u001b[0mlocals_to_params\u001b[0m\u001b[0;34m(\u001b[0m\u001b[0mlocals\u001b[0m\u001b[0;34m(\u001b[0m\u001b[0;34m)\u001b[0m\u001b[0;34m)\u001b[0m\u001b[0;34m\u001b[0m\u001b[0;34m\u001b[0m\u001b[0m\n\u001b[0;32m--> 160\u001b[0;31m         \u001b[0;32mreturn\u001b[0m \u001b[0;32mawait\u001b[0m \u001b[0mself\u001b[0m\u001b[0;34m.\u001b[0m\u001b[0m_frame\u001b[0m\u001b[0;34m.\u001b[0m\u001b[0mclick\u001b[0m\u001b[0;34m(\u001b[0m\u001b[0mself\u001b[0m\u001b[0;34m.\u001b[0m\u001b[0m_selector\u001b[0m\u001b[0;34m,\u001b[0m \u001b[0mstrict\u001b[0m\u001b[0;34m=\u001b[0m\u001b[0;32mTrue\u001b[0m\u001b[0;34m,\u001b[0m \u001b[0;34m**\u001b[0m\u001b[0mparams\u001b[0m\u001b[0;34m)\u001b[0m\u001b[0;34m\u001b[0m\u001b[0;34m\u001b[0m\u001b[0m\n\u001b[0m\u001b[1;32m    161\u001b[0m \u001b[0;34m\u001b[0m\u001b[0m\n\u001b[1;32m    162\u001b[0m     async def dblclick(\n",
            "\u001b[0;32m/usr/local/lib/python3.12/dist-packages/playwright/_impl/_frame.py\u001b[0m in \u001b[0;36mclick\u001b[0;34m(self, selector, modifiers, position, delay, button, clickCount, timeout, force, noWaitAfter, strict, trial)\u001b[0m\n\u001b[1;32m    547\u001b[0m         \u001b[0mtrial\u001b[0m\u001b[0;34m:\u001b[0m \u001b[0mbool\u001b[0m \u001b[0;34m=\u001b[0m \u001b[0;32mNone\u001b[0m\u001b[0;34m,\u001b[0m\u001b[0;34m\u001b[0m\u001b[0;34m\u001b[0m\u001b[0m\n\u001b[1;32m    548\u001b[0m     ) -> None:\n\u001b[0;32m--> 549\u001b[0;31m         \u001b[0;32mawait\u001b[0m \u001b[0mself\u001b[0m\u001b[0;34m.\u001b[0m\u001b[0m_channel\u001b[0m\u001b[0;34m.\u001b[0m\u001b[0msend\u001b[0m\u001b[0;34m(\u001b[0m\u001b[0;34m\"click\"\u001b[0m\u001b[0;34m,\u001b[0m \u001b[0mself\u001b[0m\u001b[0;34m.\u001b[0m\u001b[0m_timeout\u001b[0m\u001b[0;34m,\u001b[0m \u001b[0mlocals_to_params\u001b[0m\u001b[0;34m(\u001b[0m\u001b[0mlocals\u001b[0m\u001b[0;34m(\u001b[0m\u001b[0;34m)\u001b[0m\u001b[0;34m)\u001b[0m\u001b[0;34m)\u001b[0m\u001b[0;34m\u001b[0m\u001b[0;34m\u001b[0m\u001b[0m\n\u001b[0m\u001b[1;32m    550\u001b[0m \u001b[0;34m\u001b[0m\u001b[0m\n\u001b[1;32m    551\u001b[0m     async def dblclick(\n",
            "\u001b[0;32m/usr/local/lib/python3.12/dist-packages/playwright/_impl/_connection.py\u001b[0m in \u001b[0;36msend\u001b[0;34m(self, method, timeout_calculator, params, is_internal, title)\u001b[0m\n\u001b[1;32m     67\u001b[0m         \u001b[0mtitle\u001b[0m\u001b[0;34m:\u001b[0m \u001b[0mstr\u001b[0m \u001b[0;34m=\u001b[0m \u001b[0;32mNone\u001b[0m\u001b[0;34m,\u001b[0m\u001b[0;34m\u001b[0m\u001b[0;34m\u001b[0m\u001b[0m\n\u001b[1;32m     68\u001b[0m     ) -> Any:\n\u001b[0;32m---> 69\u001b[0;31m         return await self._connection.wrap_api_call(\n\u001b[0m\u001b[1;32m     70\u001b[0m             \u001b[0;32mlambda\u001b[0m\u001b[0;34m:\u001b[0m \u001b[0mself\u001b[0m\u001b[0;34m.\u001b[0m\u001b[0m_inner_send\u001b[0m\u001b[0;34m(\u001b[0m\u001b[0mmethod\u001b[0m\u001b[0;34m,\u001b[0m \u001b[0mtimeout_calculator\u001b[0m\u001b[0;34m,\u001b[0m \u001b[0mparams\u001b[0m\u001b[0;34m,\u001b[0m \u001b[0;32mFalse\u001b[0m\u001b[0;34m)\u001b[0m\u001b[0;34m,\u001b[0m\u001b[0;34m\u001b[0m\u001b[0;34m\u001b[0m\u001b[0m\n\u001b[1;32m     71\u001b[0m             \u001b[0mis_internal\u001b[0m\u001b[0;34m,\u001b[0m\u001b[0;34m\u001b[0m\u001b[0;34m\u001b[0m\u001b[0m\n",
            "\u001b[0;32m/usr/local/lib/python3.12/dist-packages/playwright/_impl/_connection.py\u001b[0m in \u001b[0;36mwrap_api_call\u001b[0;34m(self, cb, is_internal, title)\u001b[0m\n\u001b[1;32m    556\u001b[0m             \u001b[0;32mreturn\u001b[0m \u001b[0;32mawait\u001b[0m \u001b[0mcb\u001b[0m\u001b[0;34m(\u001b[0m\u001b[0;34m)\u001b[0m\u001b[0;34m\u001b[0m\u001b[0;34m\u001b[0m\u001b[0m\n\u001b[1;32m    557\u001b[0m         \u001b[0;32mexcept\u001b[0m \u001b[0mException\u001b[0m \u001b[0;32mas\u001b[0m \u001b[0merror\u001b[0m\u001b[0;34m:\u001b[0m\u001b[0;34m\u001b[0m\u001b[0;34m\u001b[0m\u001b[0m\n\u001b[0;32m--> 558\u001b[0;31m             \u001b[0;32mraise\u001b[0m \u001b[0mrewrite_error\u001b[0m\u001b[0;34m(\u001b[0m\u001b[0merror\u001b[0m\u001b[0;34m,\u001b[0m \u001b[0;34mf\"{parsed_st['apiName']}: {error}\"\u001b[0m\u001b[0;34m)\u001b[0m \u001b[0;32mfrom\u001b[0m \u001b[0;32mNone\u001b[0m\u001b[0;34m\u001b[0m\u001b[0;34m\u001b[0m\u001b[0m\n\u001b[0m\u001b[1;32m    559\u001b[0m         \u001b[0;32mfinally\u001b[0m\u001b[0;34m:\u001b[0m\u001b[0;34m\u001b[0m\u001b[0;34m\u001b[0m\u001b[0m\n\u001b[1;32m    560\u001b[0m             \u001b[0mself\u001b[0m\u001b[0;34m.\u001b[0m\u001b[0m_api_zone\u001b[0m\u001b[0;34m.\u001b[0m\u001b[0mset\u001b[0m\u001b[0;34m(\u001b[0m\u001b[0;32mNone\u001b[0m\u001b[0;34m)\u001b[0m\u001b[0;34m\u001b[0m\u001b[0;34m\u001b[0m\u001b[0m\n",
            "\u001b[0;31mTimeoutError\u001b[0m: Locator.click: Timeout 30000ms exceeded.\nCall log:\n  - waiting for get_by_role(\"button\", name=\"Ok\")\n    - locator resolved to <a role=\"button\" id=\"download1\" value=\"download\" class=\"download\" _ngcontent-ndp-c22=\"\" title=\"Click to Download\"> Gokuldham-Agreement.pdf </a>\n  - attempting click action\n    2 × waiting for element to be visible, enabled and stable\n      - element is visible, enabled and stable\n      - scrolling into view if needed\n      - done scrolling\n      - <div class=\"abeyance-msg\" _ngcontent-ndp-c22=\"\">…</div> from <div tabindex=\"-1\" id=\"abeyanceMsg\" _ngcontent-ndp-c22=\"\" class=\"modal fade show\">…</div> subtree intercepts pointer events\n    - retrying click action\n    - waiting 20ms\n    2 × waiting for element to be visible, enabled and stable\n      - element is not stable\n    - retrying click action\n      - waiting 100ms\n    - waiting for element to be visible, enabled and stable\n    - element is not stable\n  14 × retrying click action\n       - waiting 500ms\n       - waiting for element to be visible, enabled and stable\n       - element is visible, enabled and stable\n       - scrolling into view if needed\n       - done scrolling\n       - <div tabindex=\"-1\" id=\"abeyanceMsg\" _ngcontent-ndp-c22=\"\" class=\"modal fade show\">…</div> intercepts pointer events\n     - retrying click action\n       - waiting 500ms\n       - waiting for element to be visible, enabled and stable\n       - element is visible, enabled and stable\n       - scrolling into view if needed\n       - done scrolling\n       - <div tabindex=\"-1\" id=\"abeyanceMsg\" _ngcontent-ndp-c22=\"\" class=\"modal fade show\">…</div> intercepts pointer events\n     - retrying click action\n       - waiting 500ms\n       - waiting for element to be visible, enabled and stable\n       - element is visible, enabled and stable\n       - scrolling into view if needed\n       - done scrolling\n       - <div class=\"abeyance-msg\" _ngcontent-ndp-c22=\"\">…</div> from <div tabindex=\"-1\" id=\"abeyanceMsg\" _ngcontent-ndp-c22=\"\" class=\"modal fade show\">…</div> subtree intercepts pointer events\n     - retrying click action\n       - waiting 500ms\n       - waiting for element to be visible, enabled and stable\n       - element is visible, enabled and stable\n       - scrolling into view if needed\n       - done scrolling\n       - <div tabindex=\"-1\" id=\"abeyanceMsg\" _ngcontent-ndp-c22=\"\" class=\"modal fade show\">…</div> intercepts pointer events\n  - retrying click action\n    - waiting 500ms\n"
          ]
        }
      ]
    },
    {
      "cell_type": "markdown",
      "source": [
        "# Data entries for Raheja Group\n"
      ],
      "metadata": {
        "id": "0AkwSaMve3Ij"
      }
    },
    {
      "cell_type": "code",
      "source": [
        "from playwright.async_api import async_playwright\n",
        "\n",
        "async def get_all_raheja_project_links():\n",
        "    all_links = set()\n",
        "\n",
        "    async with async_playwright() as p:\n",
        "        browser = await p.chromium.launch(headless=True)  # headless=True\n",
        "        page = await browser.new_page()\n",
        "\n",
        "        await page.goto(\"https://maharera.maharashtra.gov.in/projects-search-result\", timeout=60000)\n",
        "\n",
        "        # Type \"raheja\" in Project Name field\n",
        "        await page.fill('input[name=\"project_name\"]', \"raheja\")\n",
        "        await page.get_by_role(\"button\", name=\"Search\").click()\n",
        "        await page.wait_for_load_state(\"networkidle\")\n",
        "\n",
        "        page_num = 1\n",
        "        while True:\n",
        "            print(f\"Scraping page {page_num}...\")\n",
        "            await page.wait_for_selector('a.click-projectmodal.viewLink.targetBlankLink', timeout=30000)\n",
        "\n",
        "            # Collect all links on this page\n",
        "            links = await page.eval_on_selector_all(\n",
        "                'a.click-projectmodal.viewLink.targetBlankLink',\n",
        "                'elements => elements.map(el => el.href)'\n",
        "            )\n",
        "\n",
        "            # Filter only the non-isOriginal links\n",
        "            for link in links:\n",
        "                if \"?isOriginal=true\" not in link:\n",
        "                    all_links.add(link)\n",
        "\n",
        "            # Check for the \"Next\" button\n",
        "            next_button = page.locator('a.next')\n",
        "            if await next_button.count() > 0 and await next_button.is_enabled():\n",
        "                await next_button.click()\n",
        "                await page.wait_for_load_state(\"networkidle\")\n",
        "                page_num += 1\n",
        "            else:\n",
        "                break\n",
        "\n",
        "        await browser.close()\n",
        "\n",
        "    return list(all_links)\n"
      ],
      "metadata": {
        "id": "f4u7QEx225Ai"
      },
      "execution_count": null,
      "outputs": []
    },
    {
      "cell_type": "code",
      "source": [
        "links = await get_all_raheja_project_links()\n",
        "print(f\"Total projects found: {len(links)}\")\n",
        "for l in links:\n",
        "    print(l)\n"
      ],
      "metadata": {
        "colab": {
          "base_uri": "https://localhost:8080/"
        },
        "id": "ybFq54vxfWWt",
        "outputId": "dc12f106-c7fb-4983-e9a8-e2bd70ef1b1f"
      },
      "execution_count": null,
      "outputs": [
        {
          "output_type": "stream",
          "name": "stdout",
          "text": [
            "Scraping page 1...\n",
            "Scraping page 2...\n",
            "Scraping page 3...\n",
            "Scraping page 4...\n",
            "Scraping page 5...\n",
            "Total projects found: 48\n",
            "https://maharerait.maharashtra.gov.in/public/project/view/56402\n",
            "https://maharerait.maharashtra.gov.in/public/project/view/40873\n",
            "https://maharerait.maharashtra.gov.in/public/project/view/55889\n",
            "https://maharerait.maharashtra.gov.in/public/project/view/56256\n",
            "https://maharerait.maharashtra.gov.in/public/project/view/41191\n",
            "https://maharerait.maharashtra.gov.in/public/project/view/54949\n",
            "https://maharerait.maharashtra.gov.in/public/project/view/55411\n",
            "https://maharerait.maharashtra.gov.in/public/project/view/31227\n",
            "https://maharerait.maharashtra.gov.in/public/project/view/39202\n",
            "https://maharerait.maharashtra.gov.in/public/project/view/41817\n",
            "https://maharerait.maharashtra.gov.in/public/project/view/45385\n",
            "https://maharerait.maharashtra.gov.in/public/project/view/45797\n",
            "https://maharerait.maharashtra.gov.in/public/project/view/30577\n",
            "https://maharerait.maharashtra.gov.in/public/project/view/47505\n",
            "https://maharerait.maharashtra.gov.in/public/project/view/45763\n",
            "https://maharerait.maharashtra.gov.in/public/project/view/31231\n",
            "https://maharerait.maharashtra.gov.in/public/project/view/34388\n",
            "https://maharerait.maharashtra.gov.in/public/project/view/30578\n",
            "https://maharerait.maharashtra.gov.in/public/project/view/39745\n",
            "https://maharerait.maharashtra.gov.in/public/project/view/31232\n",
            "https://maharerait.maharashtra.gov.in/public/project/view/8776\n",
            "https://maharerait.maharashtra.gov.in/public/project/view/30215\n",
            "https://maharerait.maharashtra.gov.in/public/project/view/47429\n",
            "https://maharerait.maharashtra.gov.in/public/project/view/46720\n",
            "https://maharerait.maharashtra.gov.in/public/project/view/3167\n",
            "https://maharerait.maharashtra.gov.in/public/project/view/36362\n",
            "https://maharerait.maharashtra.gov.in/public/project/view/41812\n",
            "https://maharerait.maharashtra.gov.in/public/project/view/33412\n",
            "https://maharerait.maharashtra.gov.in/public/project/view/46975\n",
            "https://maharerait.maharashtra.gov.in/public/project/view/47274\n",
            "https://maharerait.maharashtra.gov.in/public/project/view/35193\n",
            "https://maharerait.maharashtra.gov.in/public/project/view/39031\n",
            "https://maharerait.maharashtra.gov.in/public/project/view/58088\n",
            "https://maharerait.maharashtra.gov.in/public/project/view/36388\n",
            "https://maharerait.maharashtra.gov.in/public/project/view/35912\n",
            "https://maharerait.maharashtra.gov.in/public/project/view/43613\n",
            "https://maharerait.maharashtra.gov.in/public/project/view/27151\n",
            "https://maharerait.maharashtra.gov.in/public/project/view/19580\n",
            "https://maharerait.maharashtra.gov.in/public/project/view/39114\n",
            "https://maharerait.maharashtra.gov.in/public/project/view/54607\n",
            "https://maharerait.maharashtra.gov.in/public/project/view/57011\n",
            "https://maharerait.maharashtra.gov.in/public/project/view/4149\n",
            "https://maharerait.maharashtra.gov.in/public/project/view/42184\n",
            "https://maharerait.maharashtra.gov.in/public/project/view/20388\n",
            "https://maharerait.maharashtra.gov.in/public/project/view/47259\n",
            "https://maharerait.maharashtra.gov.in/public/project/view/38990\n",
            "https://maharerait.maharashtra.gov.in/public/project/view/24748\n",
            "https://maharerait.maharashtra.gov.in/public/project/view/40880\n"
          ]
        }
      ]
    },
    {
      "cell_type": "code",
      "source": [
        "import os\n",
        "import csv\n",
        "import re\n",
        "from bs4 import BeautifulSoup\n",
        "from PIL import Image as PILImage\n",
        "import pytesseract\n",
        "from playwright.async_api import async_playwright\n",
        "\n",
        "RAHEJA_PROGRESS_FILE = \"raheja_progress.txt\"\n",
        "\n",
        "async def scrape_raheja_projects(links, csv_filename=\"raheja.csv\"):\n",
        "    # --- Resume from last progress if exists ---\n",
        "    start_index = 0\n",
        "    if os.path.exists(RAHEJA_PROGRESS_FILE):\n",
        "        with open(RAHEJA_PROGRESS_FILE, \"r\") as f:\n",
        "            saved_index = f.read().strip()\n",
        "            if saved_index.isdigit():\n",
        "                start_index = int(saved_index)\n",
        "                print(f\"Resuming from saved link index: {start_index}\")\n",
        "\n",
        "    # --- Ensure CSV has header ---\n",
        "    fieldnames = [\n",
        "        \"Registration Number\", \"Date of Registration\", \"Project Status\", \"Project Name\",\n",
        "        \"Project Type\", \"Project Location\",\n",
        "        \"Proposed Completion Date (Original)\", \"Proposed Completion Date (Revised)\",\n",
        "        \"Planning Authority\", \"Full Name of Planning Authority\", \"Land Area\", \"Project Address\",\n",
        "        \"District\", \"Taluka\", \"Village\", \"Pin Code\",\n",
        "        \"Longitude\", \"Latitude\", \"Promoter Name\", \"Promoter Type\",\n",
        "        \"Promoter Address\", \"Bank IFSC Code\", \"Permissible Built-up Area\"\n",
        "    ]\n",
        "    if not os.path.exists(csv_filename):\n",
        "        with open(csv_filename, \"w\", newline=\"\", encoding=\"utf-8\") as f:\n",
        "            csv.DictWriter(f, fieldnames=fieldnames).writeheader()\n",
        "\n",
        "    async with async_playwright() as p:\n",
        "        browser = await p.chromium.launch(headless=True)\n",
        "        page = await browser.new_page()\n",
        "\n",
        "        for idx in range(start_index, len(links)):\n",
        "            url = links[idx]\n",
        "            print(f\"\\nFetching ({idx+1}/{len(links)}): {url}\")\n",
        "            await page.goto(url, timeout=60000)\n",
        "\n",
        "            # --- Solve captcha if exists (max 3 retries) ---\n",
        "            success = False\n",
        "            for attempt in range(10):\n",
        "                try:\n",
        "                    await page.wait_for_selector(\"canvas#captcahCanvas\", timeout=5000)\n",
        "                except:\n",
        "                    # No captcha found\n",
        "                    success = True\n",
        "                    break\n",
        "\n",
        "                canvas = await page.query_selector(\"canvas#captcahCanvas\")\n",
        "                await canvas.screenshot(path=\"canvas.png\")\n",
        "                image = PILImage.open(\"canvas.png\")\n",
        "                raw_text = pytesseract.image_to_string(image, config='--psm 6')\n",
        "                alnum_text = ''.join(re.findall(r'[A-Za-z0-9]', raw_text))\n",
        "                print(f\"Captcha OCR (try {attempt+1}): {alnum_text}\")\n",
        "\n",
        "                await page.locator('input[name=\"captcha\"]').fill(alnum_text)\n",
        "                await page.get_by_role(\"button\", name=\"Submit\").click()\n",
        "                await page.wait_for_timeout(3000)\n",
        "\n",
        "                if await page.get_by_role(\"button\", name=\"Ok\").is_visible():\n",
        "                    print(\"Invalid captcha, retrying...\")\n",
        "                    await page.get_by_role(\"button\", name=\"Ok\").click()\n",
        "                    await page.wait_for_timeout(1000)\n",
        "                    continue\n",
        "\n",
        "                success = True\n",
        "                break\n",
        "\n",
        "            if not success:\n",
        "                print(f\"Skipping {url} due to captcha failures.\")\n",
        "                continue\n",
        "\n",
        "            # --- Extract project details ---\n",
        "            html = await page.content()\n",
        "            soup = BeautifulSoup(html, 'html.parser')\n",
        "\n",
        "            def get_text_after(label):\n",
        "                el = soup.find(text=re.compile(label, re.I))\n",
        "                if el and el.find_next():\n",
        "                    return el.find_next().get_text(strip=True)\n",
        "                return None\n",
        "\n",
        "            def get_value_after_label(label_text):\n",
        "                label_div = soup.find(\"div\", string=re.compile(label_text, re.I))\n",
        "                if label_div:\n",
        "                    value_div = label_div.find_next_sibling(\"div\")\n",
        "                    if value_div:\n",
        "                        return value_div.get_text(strip=True)\n",
        "                return None\n",
        "\n",
        "            def get_permissible_builtup_area(soup):\n",
        "              label = soup.find(\"label\", string=re.compile(r\"Permissible Built-up Area\", re.I))\n",
        "              if label:\n",
        "                  container = label.find_next(\"div\", class_=\"col-12 text-font f-w-700\")\n",
        "                  if container:\n",
        "                      return container.get_text(strip=True)\n",
        "              return None\n",
        "\n",
        "\n",
        "            project_details = {\n",
        "                \"Registration Number\": get_text_after(\"Registration Number\"),\n",
        "                \"Date of Registration\": get_text_after(\"Date of Registration\"),\n",
        "                \"Project Status\": get_text_after(\"Project Status\"),\n",
        "                \"Project Name\": get_text_after(\"Project Name\"),\n",
        "                \"Project Type\": get_text_after(\"Project Type\"),\n",
        "                \"Project Location\": get_text_after(\"Project Location\"),\n",
        "                \"Proposed Completion Date (Original)\": get_value_after_label(r\"Proposed Completion Date \\(Original\\)\"),\n",
        "                \"Proposed Completion Date (Revised)\": get_value_after_label(r\"Proposed Completion Date \\(Revised\\)\"),\n",
        "                \"Planning Authority\": get_text_after(\"Planning Authority\"),\n",
        "                \"Full Name of Planning Authority\": get_text_after(\"Full Name of the Planning Authority\"),\n",
        "                \"Land Area\": get_text_after(\"Total Land Area of Approved Layout\"),\n",
        "                \"Project Address\": get_text_after(\"Address\"),\n",
        "                \"District\": get_text_after(\"District\"),\n",
        "                \"Taluka\": get_text_after(\"Taluka\"),\n",
        "                \"Village\": get_text_after(\"Village\"),\n",
        "                \"Pin Code\": get_text_after(\"Pin Code\"),\n",
        "                \"Longitude\": get_text_after(\"Longitude\"),\n",
        "                \"Latitude\": get_text_after(\"Latitude\"),\n",
        "                \"Promoter Name\": get_text_after(\"Name of Partnership\"),\n",
        "                \"Promoter Type\": get_text_after(\"Promoter Type\"),\n",
        "                \"Promoter Address\": get_text_after(\"Promoter Official Communication Address\"),\n",
        "                \"Bank IFSC Code\": get_text_after(\"IFSC Code\"),\n",
        "                \"Permissible Built-up Area\": get_permissible_builtup_area(soup),\n",
        "            }\n",
        "\n",
        "            # --- Append to CSV ---\n",
        "            with open(csv_filename, \"a\", newline=\"\", encoding=\"utf-8\") as f:\n",
        "                csv.DictWriter(f, fieldnames=fieldnames).writerow(project_details)\n",
        "\n",
        "            # --- Save progress ---\n",
        "            with open(RAHEJA_PROGRESS_FILE, \"w\") as f:\n",
        "                f.write(str(idx + 1))\n",
        "\n",
        "            print(f\"✓ Saved project ({idx+1}/{len(links)})\")\n",
        "\n",
        "        await browser.close()\n",
        "\n",
        "    print(\"Scraping finished.\")\n"
      ],
      "metadata": {
        "id": "wtKIGjlpfb7S"
      },
      "execution_count": null,
      "outputs": []
    },
    {
      "cell_type": "code",
      "source": [
        "await scrape_raheja_projects(links, csv_filename=\"raheja.csv\")\n"
      ],
      "metadata": {
        "colab": {
          "base_uri": "https://localhost:8080/"
        },
        "id": "Q0uSYy5Sia26",
        "outputId": "ae54a3da-3668-45bb-ebb8-fdbfe568ea86"
      },
      "execution_count": null,
      "outputs": [
        {
          "metadata": {
            "tags": null
          },
          "name": "stdout",
          "output_type": "stream",
          "text": [
            "\n",
            "Fetching (1/48): https://maharerait.maharashtra.gov.in/public/project/view/56402\n",
            "Captcha OCR (try 1): I1BICJ\n"
          ]
        },
        {
          "metadata": {
            "tags": null
          },
          "name": "stderr",
          "output_type": "stream",
          "text": [
            "/tmp/ipython-input-3046506841.py:83: DeprecationWarning: The 'text' argument to find()-type methods is deprecated. Use 'string' instead.\n",
            "  el = soup.find(text=re.compile(label, re.I))\n"
          ]
        },
        {
          "metadata": {
            "tags": null
          },
          "name": "stdout",
          "output_type": "stream",
          "text": [
            "✓ Saved project (1/48)\n",
            "\n",
            "Fetching (2/48): https://maharerait.maharashtra.gov.in/public/project/view/40873\n",
            "Captcha OCR (try 1): 62LOKD\n",
            "Invalid captcha, retrying...\n",
            "Captcha OCR (try 2): A43562\n"
          ]
        },
        {
          "metadata": {
            "tags": null
          },
          "name": "stderr",
          "output_type": "stream",
          "text": [
            "/tmp/ipython-input-3046506841.py:83: DeprecationWarning: The 'text' argument to find()-type methods is deprecated. Use 'string' instead.\n",
            "  el = soup.find(text=re.compile(label, re.I))\n"
          ]
        },
        {
          "metadata": {
            "tags": null
          },
          "name": "stdout",
          "output_type": "stream",
          "text": [
            "✓ Saved project (2/48)\n",
            "\n",
            "Fetching (3/48): https://maharerait.maharashtra.gov.in/public/project/view/55889\n",
            "Captcha OCR (try 1): 93CNBI\n"
          ]
        },
        {
          "metadata": {
            "tags": null
          },
          "name": "stderr",
          "output_type": "stream",
          "text": [
            "/tmp/ipython-input-3046506841.py:83: DeprecationWarning: The 'text' argument to find()-type methods is deprecated. Use 'string' instead.\n",
            "  el = soup.find(text=re.compile(label, re.I))\n"
          ]
        },
        {
          "metadata": {
            "tags": null
          },
          "name": "stdout",
          "output_type": "stream",
          "text": [
            "✓ Saved project (3/48)\n",
            "\n",
            "Fetching (4/48): https://maharerait.maharashtra.gov.in/public/project/view/56256\n",
            "Captcha OCR (try 1): 6G81K3\n"
          ]
        },
        {
          "metadata": {
            "tags": null
          },
          "name": "stderr",
          "output_type": "stream",
          "text": [
            "/tmp/ipython-input-3046506841.py:83: DeprecationWarning: The 'text' argument to find()-type methods is deprecated. Use 'string' instead.\n",
            "  el = soup.find(text=re.compile(label, re.I))\n"
          ]
        },
        {
          "metadata": {
            "tags": null
          },
          "name": "stdout",
          "output_type": "stream",
          "text": [
            "✓ Saved project (4/48)\n",
            "\n",
            "Fetching (5/48): https://maharerait.maharashtra.gov.in/public/project/view/41191\n",
            "Captcha OCR (try 1): O2FE3M\n",
            "Invalid captcha, retrying...\n",
            "Captcha OCR (try 2): HAIEAB\n"
          ]
        },
        {
          "metadata": {
            "tags": null
          },
          "name": "stderr",
          "output_type": "stream",
          "text": [
            "/tmp/ipython-input-3046506841.py:83: DeprecationWarning: The 'text' argument to find()-type methods is deprecated. Use 'string' instead.\n",
            "  el = soup.find(text=re.compile(label, re.I))\n"
          ]
        },
        {
          "metadata": {
            "tags": null
          },
          "name": "stdout",
          "output_type": "stream",
          "text": [
            "✓ Saved project (5/48)\n",
            "\n",
            "Fetching (6/48): https://maharerait.maharashtra.gov.in/public/project/view/54949\n",
            "Captcha OCR (try 1): 23MIHN\n"
          ]
        },
        {
          "metadata": {
            "tags": null
          },
          "name": "stderr",
          "output_type": "stream",
          "text": [
            "/tmp/ipython-input-3046506841.py:83: DeprecationWarning: The 'text' argument to find()-type methods is deprecated. Use 'string' instead.\n",
            "  el = soup.find(text=re.compile(label, re.I))\n"
          ]
        },
        {
          "metadata": {
            "tags": null
          },
          "name": "stdout",
          "output_type": "stream",
          "text": [
            "✓ Saved project (6/48)\n",
            "\n",
            "Fetching (7/48): https://maharerait.maharashtra.gov.in/public/project/view/55411\n",
            "Captcha OCR (try 1): FHHS61\n",
            "Invalid captcha, retrying...\n",
            "Captcha OCR (try 2): NALDHD\n"
          ]
        },
        {
          "metadata": {
            "tags": null
          },
          "name": "stderr",
          "output_type": "stream",
          "text": [
            "/tmp/ipython-input-3046506841.py:83: DeprecationWarning: The 'text' argument to find()-type methods is deprecated. Use 'string' instead.\n",
            "  el = soup.find(text=re.compile(label, re.I))\n"
          ]
        },
        {
          "metadata": {
            "tags": null
          },
          "name": "stdout",
          "output_type": "stream",
          "text": [
            "✓ Saved project (7/48)\n",
            "\n",
            "Fetching (8/48): https://maharerait.maharashtra.gov.in/public/project/view/31227\n",
            "Captcha OCR (try 1): 729MDA\n"
          ]
        },
        {
          "metadata": {
            "tags": null
          },
          "name": "stderr",
          "output_type": "stream",
          "text": [
            "/tmp/ipython-input-3046506841.py:83: DeprecationWarning: The 'text' argument to find()-type methods is deprecated. Use 'string' instead.\n",
            "  el = soup.find(text=re.compile(label, re.I))\n"
          ]
        },
        {
          "metadata": {
            "tags": null
          },
          "name": "stdout",
          "output_type": "stream",
          "text": [
            "✓ Saved project (8/48)\n",
            "\n",
            "Fetching (9/48): https://maharerait.maharashtra.gov.in/public/project/view/39202\n",
            "Captcha OCR (try 1): J53754\n"
          ]
        },
        {
          "metadata": {
            "tags": null
          },
          "name": "stderr",
          "output_type": "stream",
          "text": [
            "/tmp/ipython-input-3046506841.py:83: DeprecationWarning: The 'text' argument to find()-type methods is deprecated. Use 'string' instead.\n",
            "  el = soup.find(text=re.compile(label, re.I))\n"
          ]
        },
        {
          "metadata": {
            "tags": null
          },
          "name": "stdout",
          "output_type": "stream",
          "text": [
            "✓ Saved project (9/48)\n",
            "\n",
            "Fetching (10/48): https://maharerait.maharashtra.gov.in/public/project/view/41817\n",
            "Captcha OCR (try 1): 4422FM\n"
          ]
        },
        {
          "metadata": {
            "tags": null
          },
          "name": "stderr",
          "output_type": "stream",
          "text": [
            "/tmp/ipython-input-3046506841.py:83: DeprecationWarning: The 'text' argument to find()-type methods is deprecated. Use 'string' instead.\n",
            "  el = soup.find(text=re.compile(label, re.I))\n"
          ]
        },
        {
          "metadata": {
            "tags": null
          },
          "name": "stdout",
          "output_type": "stream",
          "text": [
            "✓ Saved project (10/48)\n",
            "\n",
            "Fetching (11/48): https://maharerait.maharashtra.gov.in/public/project/view/45385\n",
            "Captcha OCR (try 1): 8M26I1H\n",
            "Invalid captcha, retrying...\n",
            "Captcha OCR (try 2): IAB3C2\n"
          ]
        },
        {
          "metadata": {
            "tags": null
          },
          "name": "stderr",
          "output_type": "stream",
          "text": [
            "/tmp/ipython-input-3046506841.py:83: DeprecationWarning: The 'text' argument to find()-type methods is deprecated. Use 'string' instead.\n",
            "  el = soup.find(text=re.compile(label, re.I))\n"
          ]
        },
        {
          "metadata": {
            "tags": null
          },
          "name": "stdout",
          "output_type": "stream",
          "text": [
            "✓ Saved project (11/48)\n",
            "\n",
            "Fetching (12/48): https://maharerait.maharashtra.gov.in/public/project/view/45797\n",
            "Captcha OCR (try 1): 803514\n",
            "Invalid captcha, retrying...\n",
            "Captcha OCR (try 2): 7OKBOI\n",
            "Invalid captcha, retrying...\n",
            "Captcha OCR (try 3): 9OMHKE\n",
            "Invalid captcha, retrying...\n",
            "Captcha OCR (try 4): E9J38K\n"
          ]
        },
        {
          "metadata": {
            "tags": null
          },
          "name": "stderr",
          "output_type": "stream",
          "text": [
            "/tmp/ipython-input-3046506841.py:83: DeprecationWarning: The 'text' argument to find()-type methods is deprecated. Use 'string' instead.\n",
            "  el = soup.find(text=re.compile(label, re.I))\n"
          ]
        },
        {
          "metadata": {
            "tags": null
          },
          "name": "stdout",
          "output_type": "stream",
          "text": [
            "✓ Saved project (12/48)\n",
            "\n",
            "Fetching (13/48): https://maharerait.maharashtra.gov.in/public/project/view/30577\n",
            "Captcha OCR (try 1): Q9ECG6NF\n",
            "Invalid captcha, retrying...\n",
            "Captcha OCR (try 2): CDCHE9\n"
          ]
        },
        {
          "metadata": {
            "tags": null
          },
          "name": "stderr",
          "output_type": "stream",
          "text": [
            "/tmp/ipython-input-3046506841.py:83: DeprecationWarning: The 'text' argument to find()-type methods is deprecated. Use 'string' instead.\n",
            "  el = soup.find(text=re.compile(label, re.I))\n"
          ]
        },
        {
          "metadata": {
            "tags": null
          },
          "name": "stdout",
          "output_type": "stream",
          "text": [
            "✓ Saved project (13/48)\n",
            "\n",
            "Fetching (14/48): https://maharerait.maharashtra.gov.in/public/project/view/47505\n",
            "Captcha OCR (try 1): 77KGK6\n"
          ]
        },
        {
          "metadata": {
            "tags": null
          },
          "name": "stderr",
          "output_type": "stream",
          "text": [
            "/tmp/ipython-input-3046506841.py:83: DeprecationWarning: The 'text' argument to find()-type methods is deprecated. Use 'string' instead.\n",
            "  el = soup.find(text=re.compile(label, re.I))\n"
          ]
        },
        {
          "metadata": {
            "tags": null
          },
          "name": "stdout",
          "output_type": "stream",
          "text": [
            "✓ Saved project (14/48)\n",
            "\n",
            "Fetching (15/48): https://maharerait.maharashtra.gov.in/public/project/view/45763\n",
            "Captcha OCR (try 1): MCS9KLB\n",
            "Invalid captcha, retrying...\n",
            "Captcha OCR (try 2): 77A4D2\n"
          ]
        },
        {
          "metadata": {
            "tags": null
          },
          "name": "stderr",
          "output_type": "stream",
          "text": [
            "/tmp/ipython-input-3046506841.py:83: DeprecationWarning: The 'text' argument to find()-type methods is deprecated. Use 'string' instead.\n",
            "  el = soup.find(text=re.compile(label, re.I))\n"
          ]
        },
        {
          "metadata": {
            "tags": null
          },
          "name": "stdout",
          "output_type": "stream",
          "text": [
            "✓ Saved project (15/48)\n",
            "\n",
            "Fetching (16/48): https://maharerait.maharashtra.gov.in/public/project/view/31231\n",
            "Captcha OCR (try 1): NL9O7F3\n",
            "Invalid captcha, retrying...\n",
            "Captcha OCR (try 2): 4AIJHF\n"
          ]
        },
        {
          "metadata": {
            "tags": null
          },
          "name": "stderr",
          "output_type": "stream",
          "text": [
            "/tmp/ipython-input-3046506841.py:83: DeprecationWarning: The 'text' argument to find()-type methods is deprecated. Use 'string' instead.\n",
            "  el = soup.find(text=re.compile(label, re.I))\n"
          ]
        },
        {
          "metadata": {
            "tags": null
          },
          "name": "stdout",
          "output_type": "stream",
          "text": [
            "✓ Saved project (16/48)\n",
            "\n",
            "Fetching (17/48): https://maharerait.maharashtra.gov.in/public/project/view/34388\n",
            "Captcha OCR (try 1): C3C6K5\n"
          ]
        },
        {
          "metadata": {
            "tags": null
          },
          "name": "stderr",
          "output_type": "stream",
          "text": [
            "/tmp/ipython-input-3046506841.py:83: DeprecationWarning: The 'text' argument to find()-type methods is deprecated. Use 'string' instead.\n",
            "  el = soup.find(text=re.compile(label, re.I))\n"
          ]
        },
        {
          "metadata": {
            "tags": null
          },
          "name": "stdout",
          "output_type": "stream",
          "text": [
            "✓ Saved project (17/48)\n",
            "\n",
            "Fetching (18/48): https://maharerait.maharashtra.gov.in/public/project/view/30578\n",
            "Captcha OCR (try 1): JB648B\n"
          ]
        },
        {
          "metadata": {
            "tags": null
          },
          "name": "stderr",
          "output_type": "stream",
          "text": [
            "/tmp/ipython-input-3046506841.py:83: DeprecationWarning: The 'text' argument to find()-type methods is deprecated. Use 'string' instead.\n",
            "  el = soup.find(text=re.compile(label, re.I))\n"
          ]
        },
        {
          "metadata": {
            "tags": null
          },
          "name": "stdout",
          "output_type": "stream",
          "text": [
            "✓ Saved project (18/48)\n",
            "\n",
            "Fetching (19/48): https://maharerait.maharashtra.gov.in/public/project/view/39745\n",
            "Captcha OCR (try 1): KNCO072\n",
            "Invalid captcha, retrying...\n",
            "Captcha OCR (try 2): ADDO3E\n",
            "Invalid captcha, retrying...\n",
            "Captcha OCR (try 3): 1BECK4\n"
          ]
        },
        {
          "metadata": {
            "tags": null
          },
          "name": "stderr",
          "output_type": "stream",
          "text": [
            "/tmp/ipython-input-3046506841.py:83: DeprecationWarning: The 'text' argument to find()-type methods is deprecated. Use 'string' instead.\n",
            "  el = soup.find(text=re.compile(label, re.I))\n"
          ]
        },
        {
          "metadata": {
            "tags": null
          },
          "name": "stdout",
          "output_type": "stream",
          "text": [
            "✓ Saved project (19/48)\n",
            "\n",
            "Fetching (20/48): https://maharerait.maharashtra.gov.in/public/project/view/31232\n",
            "Captcha OCR (try 1): 2KL44B\n"
          ]
        },
        {
          "metadata": {
            "tags": null
          },
          "name": "stderr",
          "output_type": "stream",
          "text": [
            "/tmp/ipython-input-3046506841.py:83: DeprecationWarning: The 'text' argument to find()-type methods is deprecated. Use 'string' instead.\n",
            "  el = soup.find(text=re.compile(label, re.I))\n"
          ]
        },
        {
          "metadata": {
            "tags": null
          },
          "name": "stdout",
          "output_type": "stream",
          "text": [
            "✓ Saved project (20/48)\n",
            "\n",
            "Fetching (21/48): https://maharerait.maharashtra.gov.in/public/project/view/8776\n",
            "Captcha OCR (try 1): 180LHE\n"
          ]
        },
        {
          "metadata": {
            "tags": null
          },
          "name": "stderr",
          "output_type": "stream",
          "text": [
            "/tmp/ipython-input-3046506841.py:83: DeprecationWarning: The 'text' argument to find()-type methods is deprecated. Use 'string' instead.\n",
            "  el = soup.find(text=re.compile(label, re.I))\n"
          ]
        },
        {
          "metadata": {
            "tags": null
          },
          "name": "stdout",
          "output_type": "stream",
          "text": [
            "✓ Saved project (21/48)\n",
            "\n",
            "Fetching (22/48): https://maharerait.maharashtra.gov.in/public/project/view/30215\n",
            "Captcha OCR (try 1): MS5GI3E\n",
            "Invalid captcha, retrying...\n",
            "Captcha OCR (try 2): H699NF\n"
          ]
        },
        {
          "metadata": {
            "tags": null
          },
          "name": "stderr",
          "output_type": "stream",
          "text": [
            "/tmp/ipython-input-3046506841.py:83: DeprecationWarning: The 'text' argument to find()-type methods is deprecated. Use 'string' instead.\n",
            "  el = soup.find(text=re.compile(label, re.I))\n"
          ]
        },
        {
          "metadata": {
            "tags": null
          },
          "name": "stdout",
          "output_type": "stream",
          "text": [
            "✓ Saved project (22/48)\n",
            "\n",
            "Fetching (23/48): https://maharerait.maharashtra.gov.in/public/project/view/47429\n",
            "Captcha OCR (try 1): LJF1G9\n"
          ]
        },
        {
          "metadata": {
            "tags": null
          },
          "name": "stderr",
          "output_type": "stream",
          "text": [
            "/tmp/ipython-input-3046506841.py:83: DeprecationWarning: The 'text' argument to find()-type methods is deprecated. Use 'string' instead.\n",
            "  el = soup.find(text=re.compile(label, re.I))\n"
          ]
        },
        {
          "metadata": {
            "tags": null
          },
          "name": "stdout",
          "output_type": "stream",
          "text": [
            "✓ Saved project (23/48)\n",
            "\n",
            "Fetching (24/48): https://maharerait.maharashtra.gov.in/public/project/view/46720\n",
            "Captcha OCR (try 1): F8EMNO\n",
            "Invalid captcha, retrying...\n",
            "Captcha OCR (try 2): 5NNN70\n"
          ]
        },
        {
          "metadata": {
            "tags": null
          },
          "name": "stderr",
          "output_type": "stream",
          "text": [
            "/tmp/ipython-input-3046506841.py:83: DeprecationWarning: The 'text' argument to find()-type methods is deprecated. Use 'string' instead.\n",
            "  el = soup.find(text=re.compile(label, re.I))\n"
          ]
        },
        {
          "metadata": {
            "tags": null
          },
          "name": "stdout",
          "output_type": "stream",
          "text": [
            "✓ Saved project (24/48)\n",
            "\n",
            "Fetching (25/48): https://maharerait.maharashtra.gov.in/public/project/view/3167\n",
            "Captcha OCR (try 1): IA1LEJE\n",
            "Invalid captcha, retrying...\n",
            "Captcha OCR (try 2): 98FA3C\n"
          ]
        },
        {
          "metadata": {
            "tags": null
          },
          "name": "stderr",
          "output_type": "stream",
          "text": [
            "/tmp/ipython-input-3046506841.py:83: DeprecationWarning: The 'text' argument to find()-type methods is deprecated. Use 'string' instead.\n",
            "  el = soup.find(text=re.compile(label, re.I))\n"
          ]
        },
        {
          "metadata": {
            "tags": null
          },
          "name": "stdout",
          "output_type": "stream",
          "text": [
            "✓ Saved project (25/48)\n",
            "\n",
            "Fetching (26/48): https://maharerait.maharashtra.gov.in/public/project/view/36362\n",
            "Captcha OCR (try 1): M97325\n"
          ]
        },
        {
          "metadata": {
            "tags": null
          },
          "name": "stderr",
          "output_type": "stream",
          "text": [
            "/tmp/ipython-input-3046506841.py:83: DeprecationWarning: The 'text' argument to find()-type methods is deprecated. Use 'string' instead.\n",
            "  el = soup.find(text=re.compile(label, re.I))\n"
          ]
        },
        {
          "metadata": {
            "tags": null
          },
          "name": "stdout",
          "output_type": "stream",
          "text": [
            "✓ Saved project (26/48)\n",
            "\n",
            "Fetching (27/48): https://maharerait.maharashtra.gov.in/public/project/view/41812\n",
            "Captcha OCR (try 1): M93F97\n"
          ]
        },
        {
          "metadata": {
            "tags": null
          },
          "name": "stderr",
          "output_type": "stream",
          "text": [
            "/tmp/ipython-input-3046506841.py:83: DeprecationWarning: The 'text' argument to find()-type methods is deprecated. Use 'string' instead.\n",
            "  el = soup.find(text=re.compile(label, re.I))\n"
          ]
        },
        {
          "metadata": {
            "tags": null
          },
          "name": "stdout",
          "output_type": "stream",
          "text": [
            "✓ Saved project (27/48)\n",
            "\n",
            "Fetching (28/48): https://maharerait.maharashtra.gov.in/public/project/view/33412\n",
            "Captcha OCR (try 1): 4DD218\n"
          ]
        },
        {
          "metadata": {
            "tags": null
          },
          "name": "stderr",
          "output_type": "stream",
          "text": [
            "/tmp/ipython-input-3046506841.py:83: DeprecationWarning: The 'text' argument to find()-type methods is deprecated. Use 'string' instead.\n",
            "  el = soup.find(text=re.compile(label, re.I))\n"
          ]
        },
        {
          "metadata": {
            "tags": null
          },
          "name": "stdout",
          "output_type": "stream",
          "text": [
            "✓ Saved project (28/48)\n",
            "\n",
            "Fetching (29/48): https://maharerait.maharashtra.gov.in/public/project/view/46975\n",
            "Captcha OCR (try 1): 9CG66L2\n",
            "Invalid captcha, retrying...\n",
            "Captcha OCR (try 2): J96308\n"
          ]
        },
        {
          "metadata": {
            "tags": null
          },
          "name": "stderr",
          "output_type": "stream",
          "text": [
            "/tmp/ipython-input-3046506841.py:83: DeprecationWarning: The 'text' argument to find()-type methods is deprecated. Use 'string' instead.\n",
            "  el = soup.find(text=re.compile(label, re.I))\n"
          ]
        },
        {
          "metadata": {
            "tags": null
          },
          "name": "stdout",
          "output_type": "stream",
          "text": [
            "✓ Saved project (29/48)\n",
            "\n",
            "Fetching (30/48): https://maharerait.maharashtra.gov.in/public/project/view/47274\n",
            "Captcha OCR (try 1): H407CD\n"
          ]
        },
        {
          "metadata": {
            "tags": null
          },
          "name": "stderr",
          "output_type": "stream",
          "text": [
            "/tmp/ipython-input-3046506841.py:83: DeprecationWarning: The 'text' argument to find()-type methods is deprecated. Use 'string' instead.\n",
            "  el = soup.find(text=re.compile(label, re.I))\n"
          ]
        },
        {
          "metadata": {
            "tags": null
          },
          "name": "stdout",
          "output_type": "stream",
          "text": [
            "✓ Saved project (30/48)\n",
            "\n",
            "Fetching (31/48): https://maharerait.maharashtra.gov.in/public/project/view/35193\n",
            "Captcha OCR (try 1): 4JBJM2\n"
          ]
        },
        {
          "metadata": {
            "tags": null
          },
          "name": "stderr",
          "output_type": "stream",
          "text": [
            "/tmp/ipython-input-3046506841.py:83: DeprecationWarning: The 'text' argument to find()-type methods is deprecated. Use 'string' instead.\n",
            "  el = soup.find(text=re.compile(label, re.I))\n"
          ]
        },
        {
          "metadata": {
            "tags": null
          },
          "name": "stdout",
          "output_type": "stream",
          "text": [
            "✓ Saved project (31/48)\n",
            "\n",
            "Fetching (32/48): https://maharerait.maharashtra.gov.in/public/project/view/39031\n",
            "Captcha OCR (try 1): BGLABJ\n",
            "Invalid captcha, retrying...\n",
            "Captcha OCR (try 2): 9IFDHJ\n"
          ]
        },
        {
          "metadata": {
            "tags": null
          },
          "name": "stderr",
          "output_type": "stream",
          "text": [
            "/tmp/ipython-input-3046506841.py:83: DeprecationWarning: The 'text' argument to find()-type methods is deprecated. Use 'string' instead.\n",
            "  el = soup.find(text=re.compile(label, re.I))\n"
          ]
        },
        {
          "metadata": {
            "tags": null
          },
          "name": "stdout",
          "output_type": "stream",
          "text": [
            "✓ Saved project (32/48)\n",
            "\n",
            "Fetching (33/48): https://maharerait.maharashtra.gov.in/public/project/view/58088\n",
            "Captcha OCR (try 1): H7NBJ5\n"
          ]
        },
        {
          "metadata": {
            "tags": null
          },
          "name": "stderr",
          "output_type": "stream",
          "text": [
            "/tmp/ipython-input-3046506841.py:83: DeprecationWarning: The 'text' argument to find()-type methods is deprecated. Use 'string' instead.\n",
            "  el = soup.find(text=re.compile(label, re.I))\n"
          ]
        },
        {
          "metadata": {
            "tags": null
          },
          "name": "stdout",
          "output_type": "stream",
          "text": [
            "✓ Saved project (33/48)\n",
            "\n",
            "Fetching (34/48): https://maharerait.maharashtra.gov.in/public/project/view/36388\n",
            "Captcha OCR (try 1): OIKB98\n",
            "Invalid captcha, retrying...\n",
            "Captcha OCR (try 2): JN703G\n"
          ]
        },
        {
          "metadata": {
            "tags": null
          },
          "name": "stderr",
          "output_type": "stream",
          "text": [
            "/tmp/ipython-input-3046506841.py:83: DeprecationWarning: The 'text' argument to find()-type methods is deprecated. Use 'string' instead.\n",
            "  el = soup.find(text=re.compile(label, re.I))\n"
          ]
        },
        {
          "metadata": {
            "tags": null
          },
          "name": "stdout",
          "output_type": "stream",
          "text": [
            "✓ Saved project (34/48)\n",
            "\n",
            "Fetching (35/48): https://maharerait.maharashtra.gov.in/public/project/view/35912\n",
            "Captcha OCR (try 1): D2GH70\n"
          ]
        },
        {
          "metadata": {
            "tags": null
          },
          "name": "stderr",
          "output_type": "stream",
          "text": [
            "/tmp/ipython-input-3046506841.py:83: DeprecationWarning: The 'text' argument to find()-type methods is deprecated. Use 'string' instead.\n",
            "  el = soup.find(text=re.compile(label, re.I))\n"
          ]
        },
        {
          "metadata": {
            "tags": null
          },
          "name": "stdout",
          "output_type": "stream",
          "text": [
            "✓ Saved project (35/48)\n",
            "\n",
            "Fetching (36/48): https://maharerait.maharashtra.gov.in/public/project/view/43613\n",
            "Captcha OCR (try 1): 9J940A\n"
          ]
        },
        {
          "metadata": {
            "tags": null
          },
          "name": "stderr",
          "output_type": "stream",
          "text": [
            "/tmp/ipython-input-3046506841.py:83: DeprecationWarning: The 'text' argument to find()-type methods is deprecated. Use 'string' instead.\n",
            "  el = soup.find(text=re.compile(label, re.I))\n"
          ]
        },
        {
          "metadata": {
            "tags": null
          },
          "name": "stdout",
          "output_type": "stream",
          "text": [
            "✓ Saved project (36/48)\n",
            "\n",
            "Fetching (37/48): https://maharerait.maharashtra.gov.in/public/project/view/27151\n",
            "Captcha OCR (try 1): DOFHCG\n",
            "Invalid captcha, retrying...\n",
            "Captcha OCR (try 2): MFE3F0\n"
          ]
        },
        {
          "metadata": {
            "tags": null
          },
          "name": "stderr",
          "output_type": "stream",
          "text": [
            "/tmp/ipython-input-3046506841.py:83: DeprecationWarning: The 'text' argument to find()-type methods is deprecated. Use 'string' instead.\n",
            "  el = soup.find(text=re.compile(label, re.I))\n"
          ]
        },
        {
          "metadata": {
            "tags": null
          },
          "name": "stdout",
          "output_type": "stream",
          "text": [
            "✓ Saved project (37/48)\n",
            "\n",
            "Fetching (38/48): https://maharerait.maharashtra.gov.in/public/project/view/19580\n",
            "Captcha OCR (try 1): 6B2JL3\n"
          ]
        },
        {
          "metadata": {
            "tags": null
          },
          "name": "stderr",
          "output_type": "stream",
          "text": [
            "/tmp/ipython-input-3046506841.py:83: DeprecationWarning: The 'text' argument to find()-type methods is deprecated. Use 'string' instead.\n",
            "  el = soup.find(text=re.compile(label, re.I))\n"
          ]
        },
        {
          "metadata": {
            "tags": null
          },
          "name": "stdout",
          "output_type": "stream",
          "text": [
            "✓ Saved project (38/48)\n",
            "\n",
            "Fetching (39/48): https://maharerait.maharashtra.gov.in/public/project/view/39114\n",
            "Captcha OCR (try 1): BECI5G\n",
            "Invalid captcha, retrying...\n",
            "Captcha OCR (try 2): DIG7NA\n",
            "Invalid captcha, retrying...\n",
            "Captcha OCR (try 3): 184CDA\n"
          ]
        },
        {
          "metadata": {
            "tags": null
          },
          "name": "stderr",
          "output_type": "stream",
          "text": [
            "/tmp/ipython-input-3046506841.py:83: DeprecationWarning: The 'text' argument to find()-type methods is deprecated. Use 'string' instead.\n",
            "  el = soup.find(text=re.compile(label, re.I))\n"
          ]
        },
        {
          "metadata": {
            "tags": null
          },
          "name": "stdout",
          "output_type": "stream",
          "text": [
            "✓ Saved project (39/48)\n",
            "\n",
            "Fetching (40/48): https://maharerait.maharashtra.gov.in/public/project/view/54607\n",
            "Captcha OCR (try 1): 6FN348\n"
          ]
        },
        {
          "metadata": {
            "tags": null
          },
          "name": "stderr",
          "output_type": "stream",
          "text": [
            "/tmp/ipython-input-3046506841.py:83: DeprecationWarning: The 'text' argument to find()-type methods is deprecated. Use 'string' instead.\n",
            "  el = soup.find(text=re.compile(label, re.I))\n"
          ]
        },
        {
          "metadata": {
            "tags": null
          },
          "name": "stdout",
          "output_type": "stream",
          "text": [
            "✓ Saved project (40/48)\n",
            "\n",
            "Fetching (41/48): https://maharerait.maharashtra.gov.in/public/project/view/57011\n",
            "Captcha OCR (try 1): BN7DK7\n",
            "Invalid captcha, retrying...\n",
            "Captcha OCR (try 2): MJIN3CN\n",
            "Invalid captcha, retrying...\n",
            "Captcha OCR (try 3): 9MCKE8B\n",
            "Invalid captcha, retrying...\n",
            "Captcha OCR (try 4): 78DMG8\n"
          ]
        },
        {
          "metadata": {
            "tags": null
          },
          "name": "stderr",
          "output_type": "stream",
          "text": [
            "/tmp/ipython-input-3046506841.py:83: DeprecationWarning: The 'text' argument to find()-type methods is deprecated. Use 'string' instead.\n",
            "  el = soup.find(text=re.compile(label, re.I))\n"
          ]
        },
        {
          "metadata": {
            "tags": null
          },
          "name": "stdout",
          "output_type": "stream",
          "text": [
            "✓ Saved project (41/48)\n",
            "\n",
            "Fetching (42/48): https://maharerait.maharashtra.gov.in/public/project/view/4149\n",
            "Captcha OCR (try 1): LGB2BD\n",
            "Invalid captcha, retrying...\n"
          ]
        },
        {
          "output_type": "stream",
          "name": "stderr",
          "text": [
            "/tmp/ipython-input-3046506841.py:83: DeprecationWarning: The 'text' argument to find()-type methods is deprecated. Use 'string' instead.\n",
            "  el = soup.find(text=re.compile(label, re.I))\n"
          ]
        },
        {
          "output_type": "stream",
          "name": "stdout",
          "text": [
            "✓ Saved project (42/48)\n",
            "\n",
            "Fetching (43/48): https://maharerait.maharashtra.gov.in/public/project/view/42184\n",
            "Captcha OCR (try 1): M4GD50\n"
          ]
        },
        {
          "output_type": "stream",
          "name": "stderr",
          "text": [
            "/tmp/ipython-input-3046506841.py:83: DeprecationWarning: The 'text' argument to find()-type methods is deprecated. Use 'string' instead.\n",
            "  el = soup.find(text=re.compile(label, re.I))\n"
          ]
        },
        {
          "output_type": "stream",
          "name": "stdout",
          "text": [
            "✓ Saved project (43/48)\n",
            "\n",
            "Fetching (44/48): https://maharerait.maharashtra.gov.in/public/project/view/20388\n",
            "Captcha OCR (try 1): GOGE7F\n",
            "Invalid captcha, retrying...\n",
            "Captcha OCR (try 2): 539AA0\n"
          ]
        },
        {
          "output_type": "stream",
          "name": "stderr",
          "text": [
            "/tmp/ipython-input-3046506841.py:83: DeprecationWarning: The 'text' argument to find()-type methods is deprecated. Use 'string' instead.\n",
            "  el = soup.find(text=re.compile(label, re.I))\n"
          ]
        },
        {
          "output_type": "stream",
          "name": "stdout",
          "text": [
            "✓ Saved project (44/48)\n",
            "\n",
            "Fetching (45/48): https://maharerait.maharashtra.gov.in/public/project/view/47259\n",
            "Captcha OCR (try 1): 6BFJ1K\n"
          ]
        },
        {
          "output_type": "stream",
          "name": "stderr",
          "text": [
            "/tmp/ipython-input-3046506841.py:83: DeprecationWarning: The 'text' argument to find()-type methods is deprecated. Use 'string' instead.\n",
            "  el = soup.find(text=re.compile(label, re.I))\n"
          ]
        },
        {
          "output_type": "stream",
          "name": "stdout",
          "text": [
            "✓ Saved project (45/48)\n",
            "\n",
            "Fetching (46/48): https://maharerait.maharashtra.gov.in/public/project/view/38990\n",
            "Captcha OCR (try 1): K1I8EHJ\n",
            "Invalid captcha, retrying...\n",
            "Captcha OCR (try 2): ONHFOS\n",
            "Invalid captcha, retrying...\n",
            "Captcha OCR (try 3): AON212\n",
            "Invalid captcha, retrying...\n",
            "Captcha OCR (try 4): D3G2I1H\n",
            "Invalid captcha, retrying...\n",
            "Captcha OCR (try 5): CE2CC9\n"
          ]
        },
        {
          "output_type": "stream",
          "name": "stderr",
          "text": [
            "/tmp/ipython-input-3046506841.py:83: DeprecationWarning: The 'text' argument to find()-type methods is deprecated. Use 'string' instead.\n",
            "  el = soup.find(text=re.compile(label, re.I))\n"
          ]
        },
        {
          "output_type": "stream",
          "name": "stdout",
          "text": [
            "✓ Saved project (46/48)\n",
            "\n",
            "Fetching (47/48): https://maharerait.maharashtra.gov.in/public/project/view/24748\n",
            "Captcha OCR (try 1): DCASKG\n",
            "Invalid captcha, retrying...\n",
            "Captcha OCR (try 2): 7FAKO9\n",
            "Invalid captcha, retrying...\n",
            "Captcha OCR (try 3): FHHOGN\n",
            "Invalid captcha, retrying...\n",
            "Captcha OCR (try 4): GLONME\n",
            "Invalid captcha, retrying...\n",
            "Captcha OCR (try 5): JIH80M\n",
            "Invalid captcha, retrying...\n",
            "Captcha OCR (try 6): C104B2\n",
            "Invalid captcha, retrying...\n",
            "Captcha OCR (try 7): 9B7F97\n"
          ]
        },
        {
          "output_type": "stream",
          "name": "stderr",
          "text": [
            "/tmp/ipython-input-3046506841.py:83: DeprecationWarning: The 'text' argument to find()-type methods is deprecated. Use 'string' instead.\n",
            "  el = soup.find(text=re.compile(label, re.I))\n"
          ]
        },
        {
          "output_type": "stream",
          "name": "stdout",
          "text": [
            "✓ Saved project (47/48)\n",
            "\n",
            "Fetching (48/48): https://maharerait.maharashtra.gov.in/public/project/view/40880\n",
            "Captcha OCR (try 1): D811H1\n",
            "✓ Saved project (48/48)\n",
            "Scraping finished.\n"
          ]
        },
        {
          "output_type": "stream",
          "name": "stderr",
          "text": [
            "/tmp/ipython-input-3046506841.py:83: DeprecationWarning: The 'text' argument to find()-type methods is deprecated. Use 'string' instead.\n",
            "  el = soup.find(text=re.compile(label, re.I))\n"
          ]
        }
      ]
    },
    {
      "cell_type": "code",
      "source": [],
      "metadata": {
        "id": "7IEJPS66igTu"
      },
      "execution_count": null,
      "outputs": []
    }
  ]
}